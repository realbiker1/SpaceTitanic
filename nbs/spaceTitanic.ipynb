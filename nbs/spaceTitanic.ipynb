{
  "cells": [
    {
      "cell_type": "markdown",
      "metadata": {},
      "source": [
        "# Spaceship Titanic Kaggle Competition"
      ]
    },
    {
      "cell_type": "markdown",
      "metadata": {},
      "source": [
        "![spaceship](./img/798114.jpg)\n",
        "# 1. Frame the problem and look at the big picture\n"
      ]
    },
    {
      "cell_type": "markdown",
      "metadata": {},
      "source": [
        "We first found the Titanic dataset and found it pretty interesting, but a bit unoriginal. We then explored the kaggle competions further and found this spin on the classic dataset. We deemed this Spaceship Titanic would give us a fair challenge on our machine learning abilities, while not being too difficult.\n",
        "\n",
        "This dataset is purely fictional and doesn't provide much in terms of usability. Still, we believed that picking a task that is fun to work with, will produce the best results."
      ]
    },
    {
      "cell_type": "markdown",
      "metadata": {},
      "source": [
        "# 2. Get the data"
      ]
    },
    {
      "cell_type": "markdown",
      "metadata": {},
      "source": [
        "## Setup"
      ]
    },
    {
      "cell_type": "code",
      "execution_count": 133,
      "metadata": {},
      "outputs": [],
      "source": [
        "# Imports\n",
        "%matplotlib inline\n",
        "import numpy as np, pandas as pd, matplotlib.pyplot as plt\n",
        "import seaborn as sns\n",
        "import warnings\n",
        "warnings.filterwarnings('ignore')\n",
        "import time\n",
        "\n",
        "# Sklearn\n",
        "from sklearn.model_selection import train_test_split, GridSearchCV\n",
        "from sklearn.preprocessing import StandardScaler, OneHotEncoder, LabelEncoder\n",
        "from sklearn.compose import make_column_transformer\n",
        "from sklearn import model_selection\n",
        "\n",
        "# Models\n",
        "import lightgbm as lgb\n",
        "import xgboost as xgb\n",
        "from catboost import CatBoostClassifier\n",
        "from sklearn.linear_model import LinearRegression, LogisticRegression, SGDClassifier\n",
        "from sklearn.neighbors import KNeighborsClassifier\n",
        "from sklearn.svm import SVC as svc\n",
        "from sklearn.tree import DecisionTreeClassifier\n",
        "from sklearn.ensemble import RandomForestClassifier, GradientBoostingClassifier, VotingClassifier\n",
        "from sklearn.naive_bayes import GaussianNB\n",
        "from catboost import CatBoostClassifier"
      ]
    },
    {
      "cell_type": "code",
      "execution_count": 134,
      "metadata": {},
      "outputs": [],
      "source": [
        "# Saving train and test set to dataframe\n",
        "train = pd.read_csv(r\"DATA\\train.csv\")\n",
        "test = pd.read_csv(r\"DATA\\test.csv\")"
      ]
    },
    {
      "cell_type": "code",
      "execution_count": 135,
      "metadata": {},
      "outputs": [
        {
          "name": "stdout",
          "output_type": "stream",
          "text": [
            "Train shape: (8693, 14)\n"
          ]
        },
        {
          "data": {
            "text/html": [
              "<div>\n",
              "<style scoped>\n",
              "    .dataframe tbody tr th:only-of-type {\n",
              "        vertical-align: middle;\n",
              "    }\n",
              "\n",
              "    .dataframe tbody tr th {\n",
              "        vertical-align: top;\n",
              "    }\n",
              "\n",
              "    .dataframe thead th {\n",
              "        text-align: right;\n",
              "    }\n",
              "</style>\n",
              "<table border=\"1\" class=\"dataframe\">\n",
              "  <thead>\n",
              "    <tr style=\"text-align: right;\">\n",
              "      <th></th>\n",
              "      <th>PassengerId</th>\n",
              "      <th>HomePlanet</th>\n",
              "      <th>CryoSleep</th>\n",
              "      <th>Cabin</th>\n",
              "      <th>Destination</th>\n",
              "      <th>Age</th>\n",
              "      <th>VIP</th>\n",
              "      <th>RoomService</th>\n",
              "      <th>FoodCourt</th>\n",
              "      <th>ShoppingMall</th>\n",
              "      <th>Spa</th>\n",
              "      <th>VRDeck</th>\n",
              "      <th>Name</th>\n",
              "      <th>Transported</th>\n",
              "    </tr>\n",
              "  </thead>\n",
              "  <tbody>\n",
              "    <tr>\n",
              "      <th>0</th>\n",
              "      <td>0001_01</td>\n",
              "      <td>Europa</td>\n",
              "      <td>False</td>\n",
              "      <td>B/0/P</td>\n",
              "      <td>TRAPPIST-1e</td>\n",
              "      <td>39.0</td>\n",
              "      <td>False</td>\n",
              "      <td>0.0</td>\n",
              "      <td>0.0</td>\n",
              "      <td>0.0</td>\n",
              "      <td>0.0</td>\n",
              "      <td>0.0</td>\n",
              "      <td>Maham Ofracculy</td>\n",
              "      <td>False</td>\n",
              "    </tr>\n",
              "    <tr>\n",
              "      <th>1</th>\n",
              "      <td>0002_01</td>\n",
              "      <td>Earth</td>\n",
              "      <td>False</td>\n",
              "      <td>F/0/S</td>\n",
              "      <td>TRAPPIST-1e</td>\n",
              "      <td>24.0</td>\n",
              "      <td>False</td>\n",
              "      <td>109.0</td>\n",
              "      <td>9.0</td>\n",
              "      <td>25.0</td>\n",
              "      <td>549.0</td>\n",
              "      <td>44.0</td>\n",
              "      <td>Juanna Vines</td>\n",
              "      <td>True</td>\n",
              "    </tr>\n",
              "    <tr>\n",
              "      <th>2</th>\n",
              "      <td>0003_01</td>\n",
              "      <td>Europa</td>\n",
              "      <td>False</td>\n",
              "      <td>A/0/S</td>\n",
              "      <td>TRAPPIST-1e</td>\n",
              "      <td>58.0</td>\n",
              "      <td>True</td>\n",
              "      <td>43.0</td>\n",
              "      <td>3576.0</td>\n",
              "      <td>0.0</td>\n",
              "      <td>6715.0</td>\n",
              "      <td>49.0</td>\n",
              "      <td>Altark Susent</td>\n",
              "      <td>False</td>\n",
              "    </tr>\n",
              "    <tr>\n",
              "      <th>3</th>\n",
              "      <td>0003_02</td>\n",
              "      <td>Europa</td>\n",
              "      <td>False</td>\n",
              "      <td>A/0/S</td>\n",
              "      <td>TRAPPIST-1e</td>\n",
              "      <td>33.0</td>\n",
              "      <td>False</td>\n",
              "      <td>0.0</td>\n",
              "      <td>1283.0</td>\n",
              "      <td>371.0</td>\n",
              "      <td>3329.0</td>\n",
              "      <td>193.0</td>\n",
              "      <td>Solam Susent</td>\n",
              "      <td>False</td>\n",
              "    </tr>\n",
              "    <tr>\n",
              "      <th>4</th>\n",
              "      <td>0004_01</td>\n",
              "      <td>Earth</td>\n",
              "      <td>False</td>\n",
              "      <td>F/1/S</td>\n",
              "      <td>TRAPPIST-1e</td>\n",
              "      <td>16.0</td>\n",
              "      <td>False</td>\n",
              "      <td>303.0</td>\n",
              "      <td>70.0</td>\n",
              "      <td>151.0</td>\n",
              "      <td>565.0</td>\n",
              "      <td>2.0</td>\n",
              "      <td>Willy Santantines</td>\n",
              "      <td>True</td>\n",
              "    </tr>\n",
              "  </tbody>\n",
              "</table>\n",
              "</div>"
            ],
            "text/plain": [
              "  PassengerId HomePlanet CryoSleep  Cabin  Destination   Age    VIP  \\\n",
              "0     0001_01     Europa     False  B/0/P  TRAPPIST-1e  39.0  False   \n",
              "1     0002_01      Earth     False  F/0/S  TRAPPIST-1e  24.0  False   \n",
              "2     0003_01     Europa     False  A/0/S  TRAPPIST-1e  58.0   True   \n",
              "3     0003_02     Europa     False  A/0/S  TRAPPIST-1e  33.0  False   \n",
              "4     0004_01      Earth     False  F/1/S  TRAPPIST-1e  16.0  False   \n",
              "\n",
              "   RoomService  FoodCourt  ShoppingMall     Spa  VRDeck               Name  \\\n",
              "0          0.0        0.0           0.0     0.0     0.0    Maham Ofracculy   \n",
              "1        109.0        9.0          25.0   549.0    44.0       Juanna Vines   \n",
              "2         43.0     3576.0           0.0  6715.0    49.0      Altark Susent   \n",
              "3          0.0     1283.0         371.0  3329.0   193.0       Solam Susent   \n",
              "4        303.0       70.0         151.0   565.0     2.0  Willy Santantines   \n",
              "\n",
              "   Transported  \n",
              "0        False  \n",
              "1         True  \n",
              "2        False  \n",
              "3        False  \n",
              "4         True  "
            ]
          },
          "execution_count": 135,
          "metadata": {},
          "output_type": "execute_result"
        }
      ],
      "source": [
        "# Train preview\n",
        "print(\"Train shape:\", train.shape)\n",
        "train.head()"
      ]
    },
    {
      "cell_type": "code",
      "execution_count": 136,
      "metadata": {},
      "outputs": [
        {
          "name": "stdout",
          "output_type": "stream",
          "text": [
            "Test shape: (4277, 13)\n"
          ]
        },
        {
          "data": {
            "text/html": [
              "<div>\n",
              "<style scoped>\n",
              "    .dataframe tbody tr th:only-of-type {\n",
              "        vertical-align: middle;\n",
              "    }\n",
              "\n",
              "    .dataframe tbody tr th {\n",
              "        vertical-align: top;\n",
              "    }\n",
              "\n",
              "    .dataframe thead th {\n",
              "        text-align: right;\n",
              "    }\n",
              "</style>\n",
              "<table border=\"1\" class=\"dataframe\">\n",
              "  <thead>\n",
              "    <tr style=\"text-align: right;\">\n",
              "      <th></th>\n",
              "      <th>PassengerId</th>\n",
              "      <th>HomePlanet</th>\n",
              "      <th>CryoSleep</th>\n",
              "      <th>Cabin</th>\n",
              "      <th>Destination</th>\n",
              "      <th>Age</th>\n",
              "      <th>VIP</th>\n",
              "      <th>RoomService</th>\n",
              "      <th>FoodCourt</th>\n",
              "      <th>ShoppingMall</th>\n",
              "      <th>Spa</th>\n",
              "      <th>VRDeck</th>\n",
              "      <th>Name</th>\n",
              "    </tr>\n",
              "  </thead>\n",
              "  <tbody>\n",
              "    <tr>\n",
              "      <th>0</th>\n",
              "      <td>0013_01</td>\n",
              "      <td>Earth</td>\n",
              "      <td>True</td>\n",
              "      <td>G/3/S</td>\n",
              "      <td>TRAPPIST-1e</td>\n",
              "      <td>27.0</td>\n",
              "      <td>False</td>\n",
              "      <td>0.0</td>\n",
              "      <td>0.0</td>\n",
              "      <td>0.0</td>\n",
              "      <td>0.0</td>\n",
              "      <td>0.0</td>\n",
              "      <td>Nelly Carsoning</td>\n",
              "    </tr>\n",
              "    <tr>\n",
              "      <th>1</th>\n",
              "      <td>0018_01</td>\n",
              "      <td>Earth</td>\n",
              "      <td>False</td>\n",
              "      <td>F/4/S</td>\n",
              "      <td>TRAPPIST-1e</td>\n",
              "      <td>19.0</td>\n",
              "      <td>False</td>\n",
              "      <td>0.0</td>\n",
              "      <td>9.0</td>\n",
              "      <td>0.0</td>\n",
              "      <td>2823.0</td>\n",
              "      <td>0.0</td>\n",
              "      <td>Lerome Peckers</td>\n",
              "    </tr>\n",
              "    <tr>\n",
              "      <th>2</th>\n",
              "      <td>0019_01</td>\n",
              "      <td>Europa</td>\n",
              "      <td>True</td>\n",
              "      <td>C/0/S</td>\n",
              "      <td>55 Cancri e</td>\n",
              "      <td>31.0</td>\n",
              "      <td>False</td>\n",
              "      <td>0.0</td>\n",
              "      <td>0.0</td>\n",
              "      <td>0.0</td>\n",
              "      <td>0.0</td>\n",
              "      <td>0.0</td>\n",
              "      <td>Sabih Unhearfus</td>\n",
              "    </tr>\n",
              "    <tr>\n",
              "      <th>3</th>\n",
              "      <td>0021_01</td>\n",
              "      <td>Europa</td>\n",
              "      <td>False</td>\n",
              "      <td>C/1/S</td>\n",
              "      <td>TRAPPIST-1e</td>\n",
              "      <td>38.0</td>\n",
              "      <td>False</td>\n",
              "      <td>0.0</td>\n",
              "      <td>6652.0</td>\n",
              "      <td>0.0</td>\n",
              "      <td>181.0</td>\n",
              "      <td>585.0</td>\n",
              "      <td>Meratz Caltilter</td>\n",
              "    </tr>\n",
              "    <tr>\n",
              "      <th>4</th>\n",
              "      <td>0023_01</td>\n",
              "      <td>Earth</td>\n",
              "      <td>False</td>\n",
              "      <td>F/5/S</td>\n",
              "      <td>TRAPPIST-1e</td>\n",
              "      <td>20.0</td>\n",
              "      <td>False</td>\n",
              "      <td>10.0</td>\n",
              "      <td>0.0</td>\n",
              "      <td>635.0</td>\n",
              "      <td>0.0</td>\n",
              "      <td>0.0</td>\n",
              "      <td>Brence Harperez</td>\n",
              "    </tr>\n",
              "  </tbody>\n",
              "</table>\n",
              "</div>"
            ],
            "text/plain": [
              "  PassengerId HomePlanet CryoSleep  Cabin  Destination   Age    VIP  \\\n",
              "0     0013_01      Earth      True  G/3/S  TRAPPIST-1e  27.0  False   \n",
              "1     0018_01      Earth     False  F/4/S  TRAPPIST-1e  19.0  False   \n",
              "2     0019_01     Europa      True  C/0/S  55 Cancri e  31.0  False   \n",
              "3     0021_01     Europa     False  C/1/S  TRAPPIST-1e  38.0  False   \n",
              "4     0023_01      Earth     False  F/5/S  TRAPPIST-1e  20.0  False   \n",
              "\n",
              "   RoomService  FoodCourt  ShoppingMall     Spa  VRDeck              Name  \n",
              "0          0.0        0.0           0.0     0.0     0.0   Nelly Carsoning  \n",
              "1          0.0        9.0           0.0  2823.0     0.0    Lerome Peckers  \n",
              "2          0.0        0.0           0.0     0.0     0.0   Sabih Unhearfus  \n",
              "3          0.0     6652.0           0.0   181.0   585.0  Meratz Caltilter  \n",
              "4         10.0        0.0         635.0     0.0     0.0   Brence Harperez  "
            ]
          },
          "execution_count": 136,
          "metadata": {},
          "output_type": "execute_result"
        }
      ],
      "source": [
        "# Test preview\n",
        "print(\"Test shape:\", test.shape)\n",
        "test.head()"
      ]
    },
    {
      "cell_type": "markdown",
      "metadata": {},
      "source": [
        "The testset seems to contain 1/3 of total data, and the training set contains 2/3. Everything good so far."
      ]
    },
    {
      "cell_type": "markdown",
      "metadata": {},
      "source": [
        "# 3. Explore the data to gain insights\n"
      ]
    },
    {
      "cell_type": "markdown",
      "metadata": {},
      "source": [
        "## Feature explanation\n",
        "*From the competition description*\n",
        "- >PassengerId - A unique Id for each passenger. Each Id takes the form gggg_pp where gggg indicates a group the passenger is travelling with and pp is their number within the group. People in a group are often family members, but not always.\n",
        "- >HomePlanet - The planet the passenger departed from, typically their planet of permanent residence.\n",
        "- >CryoSleep - Indicates whether the passenger elected to be put into suspended animation for the duration of the voyage. Passengers in cryosleep are confined to their cabins.\n",
        "- >Cabin - The cabin number where the passenger is staying. Takes the form deck/num/side, where side can be either P for Port or S for Starboard.\n",
        "Destination - The planet the passenger will be debarking to.\n",
        "- >Age - The age of the passenger.\n",
        "- >VIP - Whether the passenger has paid for special VIP service during the voyage.\n",
        "- >RoomService, FoodCourt, ShoppingMall, Spa, VRDeck - Amount the passenger has billed at each of the Spaceship Titanic's many luxury amenities.\n",
        "- >Name - The first and last names of the passenger.\n",
        "- >Transported - Whether the passenger was transported to another dimension. This is the target, the column you are trying to predict."
      ]
    },
    {
      "cell_type": "code",
      "execution_count": 137,
      "metadata": {},
      "outputs": [
        {
          "name": "stdout",
          "output_type": "stream",
          "text": [
            "PassengerId       0\n",
            "HomePlanet      201\n",
            "CryoSleep       217\n",
            "Cabin           199\n",
            "Destination     182\n",
            "Age             179\n",
            "VIP             203\n",
            "RoomService     181\n",
            "FoodCourt       183\n",
            "ShoppingMall    208\n",
            "Spa             183\n",
            "VRDeck          188\n",
            "Name            200\n",
            "Transported       0\n",
            "dtype: int64\n"
          ]
        }
      ],
      "source": [
        "# Training set missing values\n",
        "print(train.isna().sum())"
      ]
    },
    {
      "cell_type": "code",
      "execution_count": 138,
      "metadata": {},
      "outputs": [
        {
          "name": "stdout",
          "output_type": "stream",
          "text": [
            "Missing from  2.1 %. To  2.5 %. Of almost every column in the training set.\n"
          ]
        }
      ],
      "source": [
        "# Calculating how many percent of the data that is missing\n",
        "print(\"Missing from \",round(179/len(train)*100,1),\"%. To \", round(217/len(train)*100,1), \"%. Of almost every column in the training set.\")"
      ]
    },
    {
      "cell_type": "code",
      "execution_count": 139,
      "metadata": {},
      "outputs": [
        {
          "data": {
            "text/html": [
              "<div>\n",
              "<style scoped>\n",
              "    .dataframe tbody tr th:only-of-type {\n",
              "        vertical-align: middle;\n",
              "    }\n",
              "\n",
              "    .dataframe tbody tr th {\n",
              "        vertical-align: top;\n",
              "    }\n",
              "\n",
              "    .dataframe thead th {\n",
              "        text-align: right;\n",
              "    }\n",
              "</style>\n",
              "<table border=\"1\" class=\"dataframe\">\n",
              "  <thead>\n",
              "    <tr style=\"text-align: right;\">\n",
              "      <th></th>\n",
              "      <th>Age</th>\n",
              "      <th>RoomService</th>\n",
              "      <th>FoodCourt</th>\n",
              "      <th>ShoppingMall</th>\n",
              "      <th>Spa</th>\n",
              "      <th>VRDeck</th>\n",
              "    </tr>\n",
              "  </thead>\n",
              "  <tbody>\n",
              "    <tr>\n",
              "      <th>count</th>\n",
              "      <td>8514.000000</td>\n",
              "      <td>8512.000000</td>\n",
              "      <td>8510.000000</td>\n",
              "      <td>8485.000000</td>\n",
              "      <td>8510.000000</td>\n",
              "      <td>8505.000000</td>\n",
              "    </tr>\n",
              "    <tr>\n",
              "      <th>mean</th>\n",
              "      <td>28.827930</td>\n",
              "      <td>224.687617</td>\n",
              "      <td>458.077203</td>\n",
              "      <td>173.729169</td>\n",
              "      <td>311.138778</td>\n",
              "      <td>304.854791</td>\n",
              "    </tr>\n",
              "    <tr>\n",
              "      <th>std</th>\n",
              "      <td>14.489021</td>\n",
              "      <td>666.717663</td>\n",
              "      <td>1611.489240</td>\n",
              "      <td>604.696458</td>\n",
              "      <td>1136.705535</td>\n",
              "      <td>1145.717189</td>\n",
              "    </tr>\n",
              "    <tr>\n",
              "      <th>min</th>\n",
              "      <td>0.000000</td>\n",
              "      <td>0.000000</td>\n",
              "      <td>0.000000</td>\n",
              "      <td>0.000000</td>\n",
              "      <td>0.000000</td>\n",
              "      <td>0.000000</td>\n",
              "    </tr>\n",
              "    <tr>\n",
              "      <th>25%</th>\n",
              "      <td>19.000000</td>\n",
              "      <td>0.000000</td>\n",
              "      <td>0.000000</td>\n",
              "      <td>0.000000</td>\n",
              "      <td>0.000000</td>\n",
              "      <td>0.000000</td>\n",
              "    </tr>\n",
              "    <tr>\n",
              "      <th>50%</th>\n",
              "      <td>27.000000</td>\n",
              "      <td>0.000000</td>\n",
              "      <td>0.000000</td>\n",
              "      <td>0.000000</td>\n",
              "      <td>0.000000</td>\n",
              "      <td>0.000000</td>\n",
              "    </tr>\n",
              "    <tr>\n",
              "      <th>75%</th>\n",
              "      <td>38.000000</td>\n",
              "      <td>47.000000</td>\n",
              "      <td>76.000000</td>\n",
              "      <td>27.000000</td>\n",
              "      <td>59.000000</td>\n",
              "      <td>46.000000</td>\n",
              "    </tr>\n",
              "    <tr>\n",
              "      <th>max</th>\n",
              "      <td>79.000000</td>\n",
              "      <td>14327.000000</td>\n",
              "      <td>29813.000000</td>\n",
              "      <td>23492.000000</td>\n",
              "      <td>22408.000000</td>\n",
              "      <td>24133.000000</td>\n",
              "    </tr>\n",
              "  </tbody>\n",
              "</table>\n",
              "</div>"
            ],
            "text/plain": [
              "               Age   RoomService     FoodCourt  ShoppingMall           Spa  \\\n",
              "count  8514.000000   8512.000000   8510.000000   8485.000000   8510.000000   \n",
              "mean     28.827930    224.687617    458.077203    173.729169    311.138778   \n",
              "std      14.489021    666.717663   1611.489240    604.696458   1136.705535   \n",
              "min       0.000000      0.000000      0.000000      0.000000      0.000000   \n",
              "25%      19.000000      0.000000      0.000000      0.000000      0.000000   \n",
              "50%      27.000000      0.000000      0.000000      0.000000      0.000000   \n",
              "75%      38.000000     47.000000     76.000000     27.000000     59.000000   \n",
              "max      79.000000  14327.000000  29813.000000  23492.000000  22408.000000   \n",
              "\n",
              "             VRDeck  \n",
              "count   8505.000000  \n",
              "mean     304.854791  \n",
              "std     1145.717189  \n",
              "min        0.000000  \n",
              "25%        0.000000  \n",
              "50%        0.000000  \n",
              "75%       46.000000  \n",
              "max    24133.000000  "
            ]
          },
          "execution_count": 139,
          "metadata": {},
          "output_type": "execute_result"
        }
      ],
      "source": [
        "train.describe()"
      ]
    },
    {
      "cell_type": "code",
      "execution_count": 140,
      "metadata": {},
      "outputs": [
        {
          "data": {
            "image/png": "[encoded data removed]",
            "text/plain": [
              "<Figure size 1440x720 with 2 Axes>"
            ]
          },
          "metadata": {
            "needs_background": "light"
          },
          "output_type": "display_data"
        }
      ],
      "source": [
        "plt.figure(figsize=(20,10))\n",
        "corrMatrix = train.corr()\n",
        "sns.heatmap(corrMatrix, annot=True, cmap='coolwarm', fmt='.1g')\n",
        "plt.show()"
      ]
    },
    {
      "cell_type": "code",
      "execution_count": 141,
      "metadata": {},
      "outputs": [
        {
          "data": {
            "image/png": "[encoded data removed]",
            "text/plain": [
              "<Figure size 432x288 with 1 Axes>"
            ]
          },
          "metadata": {
            "needs_background": "light"
          },
          "output_type": "display_data"
        }
      ],
      "source": [
        "bins = np.linspace(0, 30000, 50)\n",
        "\n",
        "plt.hist(train.RoomService, bins, alpha=0.4, label='RoomService')\n",
        "plt.hist(train.FoodCourt, bins, alpha=0.4, label='FoodCourt')\n",
        "plt.hist(train.ShoppingMall, bins, alpha=0.4, label='ShoppingMall')\n",
        "plt.hist(train.Spa, bins, alpha=0.4, label='Spa')\n",
        "plt.hist(train.VRDeck, bins, alpha=0.4, label='VRDeck')\n",
        "plt.legend(loc='upper right')\n",
        "plt.yscale('log')\n",
        "plt.rcParams['figure.figsize'] = [20, 10]\n",
        "plt.show()"
      ]
    },
    {
      "cell_type": "markdown",
      "metadata": {},
      "source": [
        "We have a dataset containing floats, strings and booleans. We will have to deal with this later.\n",
        "\n",
        "Immidiately there isn't any strong correlations between the current float features and the target; 'Transported'. Money spent on VRDeck and Spa has the highest negative correlation with the target. There is also some correlations between the features related to spending money. We will probably end up combining these into a new column.\n",
        "\n",
        "The histogram gives us an idea of the outliers. All the plotted features is of exponential distribution, meaning most of the customers didn't spend much at all. However there were some very rich customers onboard."
      ]
    },
    {
      "cell_type": "code",
      "execution_count": 142,
      "metadata": {},
      "outputs": [
        {
          "data": {
            "text/html": [
              "<div>\n",
              "<style scoped>\n",
              "    .dataframe tbody tr th:only-of-type {\n",
              "        vertical-align: middle;\n",
              "    }\n",
              "\n",
              "    .dataframe tbody tr th {\n",
              "        vertical-align: top;\n",
              "    }\n",
              "\n",
              "    .dataframe thead th {\n",
              "        text-align: right;\n",
              "    }\n",
              "</style>\n",
              "<table border=\"1\" class=\"dataframe\">\n",
              "  <thead>\n",
              "    <tr style=\"text-align: right;\">\n",
              "      <th></th>\n",
              "      <th>PassengerId</th>\n",
              "      <th>HomePlanet</th>\n",
              "      <th>CryoSleep</th>\n",
              "      <th>Cabin</th>\n",
              "      <th>Destination</th>\n",
              "      <th>Age</th>\n",
              "      <th>VIP</th>\n",
              "      <th>RoomService</th>\n",
              "      <th>FoodCourt</th>\n",
              "      <th>ShoppingMall</th>\n",
              "      <th>Spa</th>\n",
              "      <th>VRDeck</th>\n",
              "      <th>Name</th>\n",
              "      <th>Transported</th>\n",
              "    </tr>\n",
              "  </thead>\n",
              "  <tbody>\n",
              "    <tr>\n",
              "      <th>0</th>\n",
              "      <td>0001_01</td>\n",
              "      <td>Europa</td>\n",
              "      <td>False</td>\n",
              "      <td>B/0/P</td>\n",
              "      <td>TRAPPIST-1e</td>\n",
              "      <td>39.0</td>\n",
              "      <td>False</td>\n",
              "      <td>0.0</td>\n",
              "      <td>0.0</td>\n",
              "      <td>0.0</td>\n",
              "      <td>0.0</td>\n",
              "      <td>0.0</td>\n",
              "      <td>Maham Ofracculy</td>\n",
              "      <td>False</td>\n",
              "    </tr>\n",
              "    <tr>\n",
              "      <th>1</th>\n",
              "      <td>0002_01</td>\n",
              "      <td>Earth</td>\n",
              "      <td>False</td>\n",
              "      <td>F/0/S</td>\n",
              "      <td>TRAPPIST-1e</td>\n",
              "      <td>24.0</td>\n",
              "      <td>False</td>\n",
              "      <td>109.0</td>\n",
              "      <td>9.0</td>\n",
              "      <td>25.0</td>\n",
              "      <td>549.0</td>\n",
              "      <td>44.0</td>\n",
              "      <td>Juanna Vines</td>\n",
              "      <td>True</td>\n",
              "    </tr>\n",
              "    <tr>\n",
              "      <th>2</th>\n",
              "      <td>0003_01</td>\n",
              "      <td>Europa</td>\n",
              "      <td>False</td>\n",
              "      <td>A/0/S</td>\n",
              "      <td>TRAPPIST-1e</td>\n",
              "      <td>58.0</td>\n",
              "      <td>True</td>\n",
              "      <td>43.0</td>\n",
              "      <td>3576.0</td>\n",
              "      <td>0.0</td>\n",
              "      <td>6715.0</td>\n",
              "      <td>49.0</td>\n",
              "      <td>Altark Susent</td>\n",
              "      <td>False</td>\n",
              "    </tr>\n",
              "    <tr>\n",
              "      <th>3</th>\n",
              "      <td>0003_02</td>\n",
              "      <td>Europa</td>\n",
              "      <td>False</td>\n",
              "      <td>A/0/S</td>\n",
              "      <td>TRAPPIST-1e</td>\n",
              "      <td>33.0</td>\n",
              "      <td>False</td>\n",
              "      <td>0.0</td>\n",
              "      <td>1283.0</td>\n",
              "      <td>371.0</td>\n",
              "      <td>3329.0</td>\n",
              "      <td>193.0</td>\n",
              "      <td>Solam Susent</td>\n",
              "      <td>False</td>\n",
              "    </tr>\n",
              "    <tr>\n",
              "      <th>4</th>\n",
              "      <td>0004_01</td>\n",
              "      <td>Earth</td>\n",
              "      <td>False</td>\n",
              "      <td>F/1/S</td>\n",
              "      <td>TRAPPIST-1e</td>\n",
              "      <td>16.0</td>\n",
              "      <td>False</td>\n",
              "      <td>303.0</td>\n",
              "      <td>70.0</td>\n",
              "      <td>151.0</td>\n",
              "      <td>565.0</td>\n",
              "      <td>2.0</td>\n",
              "      <td>Willy Santantines</td>\n",
              "      <td>True</td>\n",
              "    </tr>\n",
              "  </tbody>\n",
              "</table>\n",
              "</div>"
            ],
            "text/plain": [
              "  PassengerId HomePlanet CryoSleep  Cabin  Destination   Age    VIP  \\\n",
              "0     0001_01     Europa     False  B/0/P  TRAPPIST-1e  39.0  False   \n",
              "1     0002_01      Earth     False  F/0/S  TRAPPIST-1e  24.0  False   \n",
              "2     0003_01     Europa     False  A/0/S  TRAPPIST-1e  58.0   True   \n",
              "3     0003_02     Europa     False  A/0/S  TRAPPIST-1e  33.0  False   \n",
              "4     0004_01      Earth     False  F/1/S  TRAPPIST-1e  16.0  False   \n",
              "\n",
              "   RoomService  FoodCourt  ShoppingMall     Spa  VRDeck               Name  \\\n",
              "0          0.0        0.0           0.0     0.0     0.0    Maham Ofracculy   \n",
              "1        109.0        9.0          25.0   549.0    44.0       Juanna Vines   \n",
              "2         43.0     3576.0           0.0  6715.0    49.0      Altark Susent   \n",
              "3          0.0     1283.0         371.0  3329.0   193.0       Solam Susent   \n",
              "4        303.0       70.0         151.0   565.0     2.0  Willy Santantines   \n",
              "\n",
              "   Transported  \n",
              "0        False  \n",
              "1         True  \n",
              "2        False  \n",
              "3        False  \n",
              "4         True  "
            ]
          },
          "execution_count": 142,
          "metadata": {},
          "output_type": "execute_result"
        }
      ],
      "source": [
        "train.head()"
      ]
    },
    {
      "cell_type": "code",
      "execution_count": 143,
      "metadata": {},
      "outputs": [
        {
          "data": {
            "text/plain": [
              "Earth     4602\n",
              "Europa    2131\n",
              "Mars      1759\n",
              "Name: HomePlanet, dtype: int64"
            ]
          },
          "execution_count": 143,
          "metadata": {},
          "output_type": "execute_result"
        }
      ],
      "source": [
        "train[\"HomePlanet\"].value_counts()"
      ]
    },
    {
      "cell_type": "code",
      "execution_count": 144,
      "metadata": {},
      "outputs": [
        {
          "data": {
            "text/plain": [
              "TRAPPIST-1e      5915\n",
              "55 Cancri e      1800\n",
              "PSO J318.5-22     796\n",
              "Name: Destination, dtype: int64"
            ]
          },
          "execution_count": 144,
          "metadata": {},
          "output_type": "execute_result"
        }
      ],
      "source": [
        "train[\"Destination\"].value_counts()"
      ]
    },
    {
      "cell_type": "code",
      "execution_count": 145,
      "metadata": {},
      "outputs": [
        {
          "data": {
            "text/plain": [
              "6560"
            ]
          },
          "execution_count": 145,
          "metadata": {},
          "output_type": "execute_result"
        }
      ],
      "source": [
        "train[\"Cabin\"].nunique()"
      ]
    },
    {
      "cell_type": "markdown",
      "metadata": {},
      "source": [
        "We probably want to split up Cabins into decks, nums and port/starboard."
      ]
    },
    {
      "cell_type": "code",
      "execution_count": 146,
      "metadata": {},
      "outputs": [
        {
          "name": "stdout",
          "output_type": "stream",
          "text": [
            "(806, 14) (1059, 14) (1054, 14)\n"
          ]
        }
      ],
      "source": [
        "kids_train = train[train[\"Age\"] < 13]\n",
        "kids_test = test[test[\"Age\"] < 13]\n",
        "young_train = train[(train[\"Age\"] >= 13) & (train[\"Age\"] < 19)]\n",
        "young_test = test[(test[\"Age\"] >= 13) & (test[\"Age\"] < 19)]\n",
        "old_train = train[train[\"Age\"] >= 47]\n",
        "old_test = test[test[\"Age\"] >= 47]\n",
        "\n",
        "print(kids_train.shape, young_train.shape, old_train.shape)"
      ]
    },
    {
      "cell_type": "code",
      "execution_count": 147,
      "metadata": {},
      "outputs": [
        {
          "data": {
            "image/png": "[encoded data removed]",
            "text/plain": [
              "<Figure size 1440x720 with 1 Axes>"
            ]
          },
          "metadata": {
            "needs_background": "light"
          },
          "output_type": "display_data"
        }
      ],
      "source": [
        "bins = np.linspace(0, 30000, 50)\n",
        "\n",
        "plt.hist(young_train.VRDeck, bins, alpha=0.4, label='young')\n",
        "plt.hist(old_train.VRDeck, alpha=0.4, label='old')\n",
        "plt.legend(loc='upper right')\n",
        "plt.yscale('log')\n",
        "plt.rcParams['figure.figsize'] = [20, 10]\n",
        "plt.show()"
      ]
    },
    {
      "cell_type": "markdown",
      "metadata": {},
      "source": [
        "We discovered that kids (12 years or younger) does not spend any money. We also wanted to uncover whether there was some different spending habits between teens and seniors. This is what we uncovered:\n",
        "- Seniors spend slightly more on FoodCourt and ALOT more on Spa and VRDeck\n",
        "- Teens and seniors spend about the same on ShoppingMall and RoomService."
      ]
    },
    {
      "cell_type": "code",
      "execution_count": 148,
      "metadata": {},
      "outputs": [
        {
          "name": "stdout",
          "output_type": "stream",
          "text": [
            "Spent anything: 4950 - 62.76 %\n",
            "Spent nothing: 2449 - 31.05 %\n",
            "Spent on everything: 249 - 3.16 %\n"
          ]
        },
        {
          "data": {
            "text/plain": [
              "(2449, 14)"
            ]
          },
          "execution_count": 148,
          "metadata": {},
          "output_type": "execute_result"
        }
      ],
      "source": [
        "spendAny_train = train[(train[\"Age\"] >= 13) & ((train[\"FoodCourt\"] > 0) | (train[\"Spa\"] > 0) | (train[\"VRDeck\"] > 0) | (train[\"RoomService\"] > 0) | (train[\"ShoppingMall\"] > 0))]\n",
        "spendNone_train = train[(train[\"Age\"] >= 13) & ((train[\"FoodCourt\"] == 0) & (train[\"Spa\"] == 0) & (train[\"VRDeck\"] == 0) & (train[\"RoomService\"] == 0) & (train[\"ShoppingMall\"] == 0))]\n",
        "spendAll_train = train[(train[\"Age\"] >= 13) & ((train[\"FoodCourt\"] > 0) & (train[\"Spa\"] > 0) & (train[\"VRDeck\"] > 0) & (train[\"RoomService\"] > 0) & (train[\"ShoppingMall\"] > 0))]\n",
        "\n",
        "spendAny_test = test[(test[\"Age\"] >= 13) & ((test[\"FoodCourt\"] > 0) | (test[\"Spa\"] > 0) | (test[\"VRDeck\"] > 0) | (test[\"RoomService\"] > 0) | (test[\"ShoppingMall\"] > 0))]\n",
        "spendNone_test = test[(test[\"Age\"] >= 13) & ((test[\"FoodCourt\"] == 0) & (test[\"Spa\"] == 0) & (test[\"VRDeck\"] == 0) & (test[\"RoomService\"] == 0) & (test[\"ShoppingMall\"] == 0))]\n",
        "spendAll_test = test[(test[\"Age\"] >= 13) & ((test[\"FoodCourt\"] > 0) & (test[\"Spa\"] > 0) & (test[\"VRDeck\"] > 0) & (test[\"RoomService\"] > 0) & (test[\"ShoppingMall\"] > 0))]\n",
        "\n",
        "amt_adults = len(train) - len(kids_train)\n",
        "print(\"Spent anything:\", len(spendAny_train), \"-\", round(len(spendAny_train)/amt_adults*100,2),\"%\")\n",
        "print(\"Spent nothing:\", len(spendNone_train), \"-\", round(len(spendNone_train)/amt_adults*100,2),\"%\")\n",
        "print(\"Spent on everything:\", len(spendAll_train), \"-\", round(len(spendAll_train)/amt_adults*100,2),\"%\")\n",
        "spendNone_train.shape"
      ]
    },
    {
      "cell_type": "code",
      "execution_count": 149,
      "metadata": {},
      "outputs": [
        {
          "data": {
            "text/plain": [
              "94"
            ]
          },
          "execution_count": 149,
          "metadata": {},
          "output_type": "execute_result"
        }
      ],
      "source": [
        "cryo = spendNone_train[spendNone_train['CryoSleep'] == False]\n",
        "len(cryo)"
      ]
    },
    {
      "cell_type": "markdown",
      "metadata": {},
      "source": [
        "94 People who wasn't in cryosleep didn't spend money."
      ]
    },
    {
      "cell_type": "code",
      "execution_count": 150,
      "metadata": {},
      "outputs": [
        {
          "data": {
            "text/plain": [
              "Text(0.5, 0, 'Age (years)')"
            ]
          },
          "execution_count": 150,
          "metadata": {},
          "output_type": "execute_result"
        },
        {
          "data": {
            "image/png": "[encoded data removed]",
            "text/plain": [
              "<Figure size 720x288 with 1 Axes>"
            ]
          },
          "metadata": {
            "needs_background": "light"
          },
          "output_type": "display_data"
        }
      ],
      "source": [
        "# Figure size\n",
        "plt.figure(figsize=(10,4))\n",
        "\n",
        "# Histogram\n",
        "sns.histplot(data=train, x='Age', hue='Transported', binwidth=1, kde=True)\n",
        "\n",
        "# Aesthetics\n",
        "plt.title('Age distribution')\n",
        "plt.xlabel('Age (years)')"
      ]
    },
    {
      "cell_type": "markdown",
      "metadata": {},
      "source": [
        "Seems like 18 year olds or younger have a higher chance of being transported than otherwise."
      ]
    },
    {
      "cell_type": "code",
      "execution_count": 151,
      "metadata": {},
      "outputs": [
        {
          "data": {
            "image/png": "[encoded data removed]",
            "text/plain": [
              "<Figure size 720x1152 with 4 Axes>"
            ]
          },
          "metadata": {
            "needs_background": "light"
          },
          "output_type": "display_data"
        }
      ],
      "source": [
        "# Categorical features\n",
        "cat_feats=['HomePlanet', 'CryoSleep', 'Destination', 'VIP']\n",
        "\n",
        "# Plot categorical features\n",
        "fig=plt.figure(figsize=(10,16))\n",
        "for i, var_name in enumerate(cat_feats):\n",
        "    ax=fig.add_subplot(4,1,i+1)\n",
        "    sns.countplot(data=train, x=var_name, axes=ax, hue='Transported')\n",
        "    ax.set_title(var_name)\n",
        "fig.tight_layout()\n",
        "plt.show()"
      ]
    },
    {
      "cell_type": "markdown",
      "metadata": {},
      "source": [
        "It seems like CryoSleep is an important feature. Cryosleeping passengers seem to be a target to be transported, while only 1/3 of the non-cryosleeping passengers is transported.\n",
        "\n",
        "VIP Also doesn't really seem like an important feature."
      ]
    },
    {
      "cell_type": "markdown",
      "metadata": {},
      "source": [
        "# 4. Prepare the data to better expose the underlying data patterns to machine learning algorithms.\n"
      ]
    },
    {
      "cell_type": "code",
      "execution_count": 152,
      "metadata": {},
      "outputs": [
        {
          "name": "stdout",
          "output_type": "stream",
          "text": [
            "<class 'pandas.core.series.Series'>\n",
            "RangeIndex: 8693 entries, 0 to 8692\n",
            "Series name: CryoSleep\n",
            "Non-Null Count  Dtype\n",
            "--------------  -----\n",
            "8693 non-null   bool \n",
            "dtypes: bool(1)\n",
            "memory usage: 8.6 KB\n"
          ]
        }
      ],
      "source": [
        "# Dealing the missing values of the CryoSleep feature.\n",
        "# Set all cryosleep missing values of those who did not spend any money to true.\n",
        "spendNone_train.loc[spendNone_train['CryoSleep'].isnull(), 'CryoSleep'] = True\n",
        "spendNone_test.loc[spendNone_test['CryoSleep'].isnull(), 'CryoSleep'] = True\n",
        "\n",
        "# Override train with new values from spendNone\n",
        "train.update(spendNone_train)\n",
        "test.update(spendNone_test)\n",
        "\n",
        "# Fill the rest with the most common value, false\n",
        "train['CryoSleep'].fillna(False, inplace = True)\n",
        "test['CryoSleep'].fillna(False, inplace = True)\n",
        "\n",
        "train['CryoSleep'].info()"
      ]
    },
    {
      "cell_type": "code",
      "execution_count": 153,
      "metadata": {},
      "outputs": [],
      "source": [
        "# All null values for kids in the spending features should be 0.\n",
        "kids_train.loc[kids_train['Spa'].isnull(), 'Spa'] = 0\n",
        "kids_train.loc[kids_train['VRDeck'].isnull(), 'VRDeck'] = 0\n",
        "kids_train.loc[kids_train['RoomService'].isnull(), 'RoomService'] = 0\n",
        "kids_train.loc[kids_train['ShoppingMall'].isnull(), 'ShoppingMall'] = 0\n",
        "kids_train.loc[kids_train['FoodCourt'].isnull(), 'FoodCourt'] = 0\n",
        "\n",
        "kids_test.loc[kids_test['Spa'].isnull(), 'Spa'] = 0\n",
        "kids_test.loc[kids_test['VRDeck'].isnull(), 'VRDeck'] = 0\n",
        "kids_test.loc[kids_test['RoomService'].isnull(), 'RoomService'] = 0\n",
        "kids_test.loc[kids_test['ShoppingMall'].isnull(), 'ShoppingMall'] = 0\n",
        "kids_test.loc[kids_test['FoodCourt'].isnull(), 'FoodCourt'] = 0\n",
        "\n",
        "# Override train with values from kids.\n",
        "train.update(kids_train)\n",
        "test.update(kids_test)"
      ]
    },
    {
      "cell_type": "code",
      "execution_count": 154,
      "metadata": {},
      "outputs": [
        {
          "name": "stdout",
          "output_type": "stream",
          "text": [
            "<class 'pandas.core.frame.DataFrame'>\n",
            "RangeIndex: 8693 entries, 0 to 8692\n",
            "Data columns (total 14 columns):\n",
            " #   Column        Non-Null Count  Dtype  \n",
            "---  ------        --------------  -----  \n",
            " 0   PassengerId   8693 non-null   object \n",
            " 1   HomePlanet    8492 non-null   object \n",
            " 2   CryoSleep     8693 non-null   object \n",
            " 3   Cabin         8494 non-null   object \n",
            " 4   Destination   8511 non-null   object \n",
            " 5   Age           8514 non-null   float64\n",
            " 6   VIP           8490 non-null   object \n",
            " 7   RoomService   8693 non-null   float64\n",
            " 8   FoodCourt     8693 non-null   float64\n",
            " 9   ShoppingMall  8693 non-null   float64\n",
            " 10  Spa           8693 non-null   float64\n",
            " 11  VRDeck        8693 non-null   float64\n",
            " 12  Name          8493 non-null   object \n",
            " 13  Transported   8693 non-null   object \n",
            "dtypes: float64(6), object(8)\n",
            "memory usage: 950.9+ KB\n"
          ]
        }
      ],
      "source": [
        "# We can do similar on the Spa and VRDeck, because they vary greatly on age.\n",
        "old_train.loc[old_train['Spa'].isnull(), 'Spa'] = old_train['Spa'].median()\n",
        "old_train.loc[old_train['VRDeck'].isnull(), 'VRDeck'] = old_train['VRDeck'].median()\n",
        "old_test.loc[old_test['Spa'].isnull(), 'Spa'] = old_test['Spa'].median()\n",
        "old_test.loc[old_test['VRDeck'].isnull(), 'VRDeck'] = old_test['VRDeck'].median()\n",
        "\n",
        "young_train.loc[young_train['Spa'].isnull(), 'Spa'] = young_train['Spa'].median()\n",
        "young_train.loc[young_train['VRDeck'].isnull(), 'VRDeck'] = young_train['VRDeck'].median()\n",
        "young_test.loc[young_test['Spa'].isnull(), 'Spa'] = young_test['Spa'].median()\n",
        "young_test.loc[young_test['VRDeck'].isnull(), 'VRDeck'] = young_test['VRDeck'].median()\n",
        "\n",
        "# Override train with new values from the updated tables\n",
        "train.update(young_train)\n",
        "train.update(old_train)\n",
        "test.update(young_test)\n",
        "test.update(old_test)\n",
        "\n",
        "# Fill the rest with the median, including ShoppingMall, RoomService and FoodCourt those that didnt really vary in terms of age.\n",
        "train['Spa'].fillna(train['Spa'].median(), inplace = True)\n",
        "train['VRDeck'].fillna(train['VRDeck'].median(), inplace = True)\n",
        "train['ShoppingMall'].fillna(train['ShoppingMall'].median(), inplace = True)\n",
        "train['RoomService'].fillna(train['RoomService'].median(), inplace = True)\n",
        "train['FoodCourt'].fillna(train['FoodCourt'].median(), inplace = True)\n",
        "test['Spa'].fillna(test['Spa'].median(), inplace = True)\n",
        "test['VRDeck'].fillna(test['VRDeck'].median(), inplace = True)\n",
        "test['ShoppingMall'].fillna(test['ShoppingMall'].median(), inplace = True)\n",
        "test['RoomService'].fillna(test['RoomService'].median(), inplace = True)\n",
        "test['FoodCourt'].fillna(test['FoodCourt'].median(), inplace = True)\n",
        "\n",
        "train.info()"
      ]
    },
    {
      "cell_type": "markdown",
      "metadata": {},
      "source": [
        "Now that were done with filling in the missing values for the money features, we can construct a new feature: TotalSpent"
      ]
    },
    {
      "cell_type": "code",
      "execution_count": 155,
      "metadata": {},
      "outputs": [],
      "source": [
        "train['TotalSpent'] = train['RoomService'] + train['FoodCourt'] + train['ShoppingMall'] + train['Spa'] + train['VRDeck']\n",
        "test['TotalSpent'] = test['RoomService'] + test['FoodCourt'] + test['ShoppingMall'] + test['Spa'] + test['VRDeck']"
      ]
    },
    {
      "cell_type": "code",
      "execution_count": 156,
      "metadata": {},
      "outputs": [],
      "source": [
        "# For age were differentiating what we do with the null values wheter they spend or not. If they don't spend, were just setting their age to 0.\n",
        "train.loc[(train['Age'].isnull()) & (train['TotalSpent'] == 0), 'Age'] = 0\n",
        "test.loc[(test['Age'].isnull()) & (test['TotalSpent'] == 0), 'Age'] = 0"
      ]
    },
    {
      "cell_type": "code",
      "execution_count": 157,
      "metadata": {},
      "outputs": [],
      "source": [
        "# And if they do, were just doing median age\n",
        "train.loc[(train['Age'].isnull()) & (train['TotalSpent'] > 0), 'Age'] = train[\"Age\"].median()\n",
        "test.loc[(test['Age'].isnull()) & (test['TotalSpent'] > 0), 'Age'] = test[\"Age\"].median()"
      ]
    },
    {
      "cell_type": "code",
      "execution_count": 158,
      "metadata": {},
      "outputs": [
        {
          "data": {
            "text/plain": [
              "False    8291\n",
              "True      199\n",
              "Name: VIP, dtype: int64"
            ]
          },
          "execution_count": 158,
          "metadata": {},
          "output_type": "execute_result"
        }
      ],
      "source": [
        "train['VIP'].value_counts()"
      ]
    },
    {
      "cell_type": "code",
      "execution_count": 159,
      "metadata": {},
      "outputs": [],
      "source": [
        "# For missing VIP values were just gonna put false.\n",
        "train['VIP'].fillna(False, inplace = True)\n",
        "test['VIP'].fillna(False, inplace = True)"
      ]
    },
    {
      "cell_type": "markdown",
      "metadata": {},
      "source": [
        "Now it becomes more tricky. It makes sense that each group would stay in the same cabin, travel to the same location and have the same lastname.\n",
        "First lets contruct some new features to make filling in those missing values a bit easier."
      ]
    },
    {
      "cell_type": "code",
      "execution_count": 160,
      "metadata": {},
      "outputs": [],
      "source": [
        "# First lets spilt the ID and group into two new features Group And ID.\n",
        "train[['Group','ID']] = train.PassengerId.str.split(\"_\",expand=True)\n",
        "test[['Group','ID']] = test.PassengerId.str.split(\"_\",expand=True)\n",
        "\n",
        "# Lets also make a new feature; lastname and drop the firstname feature.\n",
        "train[['toDrop','LastName']] = train.Name.str.split(expand=True)\n",
        "test[['toDrop','LastName']] = test.Name.str.split(expand=True)\n",
        "\n",
        "train = train.drop([\"toDrop\"], axis=1)\n",
        "train = train.drop([\"Name\"], axis=1)\n",
        "test = test.drop([\"toDrop\"], axis=1)\n",
        "test = test.drop([\"Name\"], axis=1)"
      ]
    },
    {
      "cell_type": "markdown",
      "metadata": {},
      "source": [
        "Let's do the same for Cabins."
      ]
    },
    {
      "cell_type": "code",
      "execution_count": 161,
      "metadata": {},
      "outputs": [],
      "source": [
        "# Adds 3 new features, Deck, Number and Side.\n",
        "train[['Deck','Number', 'Side']] = train.Cabin.str.split(\"/\",expand=True)\n",
        "test[['Deck','Number', 'Side']] = test.Cabin.str.split(\"/\",expand=True)\n",
        "\n",
        "# Dont need Cabin anymore\n",
        "train = train.drop([\"Cabin\"], axis=1)\n",
        "test = test.drop([\"Cabin\"], axis=1)"
      ]
    },
    {
      "cell_type": "markdown",
      "metadata": {},
      "source": [
        "It will also be useful to know how many members each group has.\n",
        "(The snippet below is from: 'Spaceship Titanic: A complete guide' by SAMUEL CORTINHAS)"
      ]
    },
    {
      "cell_type": "code",
      "execution_count": 162,
      "metadata": {},
      "outputs": [],
      "source": [
        "# New feature - Group size\n",
        "train['GroupSize']=train['Group'].map(lambda x: pd.concat([train['Group'], test['Group']]).value_counts()[x])\n",
        "test['GroupSize']=test['Group'].map(lambda x: pd.concat([train['Group'], test['Group']]).value_counts()[x])"
      ]
    },
    {
      "cell_type": "markdown",
      "metadata": {},
      "source": [
        "To fill the remaining values, we will combine the training and test set. This makes thing a lot easier."
      ]
    },
    {
      "cell_type": "code",
      "execution_count": 163,
      "metadata": {},
      "outputs": [
        {
          "name": "stdout",
          "output_type": "stream",
          "text": [
            "<class 'pandas.core.frame.DataFrame'>\n",
            "RangeIndex: 12970 entries, 0 to 12969\n",
            "Data columns (total 19 columns):\n",
            " #   Column        Non-Null Count  Dtype  \n",
            "---  ------        --------------  -----  \n",
            " 0   PassengerId   12970 non-null  object \n",
            " 1   HomePlanet    12682 non-null  object \n",
            " 2   CryoSleep     12970 non-null  object \n",
            " 3   Destination   12696 non-null  object \n",
            " 4   Age           12970 non-null  float64\n",
            " 5   VIP           12970 non-null  bool   \n",
            " 6   RoomService   12970 non-null  float64\n",
            " 7   FoodCourt     12970 non-null  float64\n",
            " 8   ShoppingMall  12970 non-null  float64\n",
            " 9   Spa           12970 non-null  float64\n",
            " 10  VRDeck        12970 non-null  float64\n",
            " 11  TotalSpent    12970 non-null  float64\n",
            " 12  Group         12970 non-null  object \n",
            " 13  ID            12970 non-null  object \n",
            " 14  LastName      12676 non-null  object \n",
            " 15  Deck          12671 non-null  object \n",
            " 16  Number        12671 non-null  object \n",
            " 17  Side          12671 non-null  object \n",
            " 18  GroupSize     12970 non-null  int64  \n",
            "dtypes: bool(1), float64(7), int64(1), object(10)\n",
            "memory usage: 1.8+ MB\n"
          ]
        }
      ],
      "source": [
        "targetY = train['Transported'].copy().astype(int)\n",
        "X = train.drop('Transported', axis=1).copy()\n",
        "\n",
        "data = pd.concat([X, test], axis=0).reset_index(drop=True)\n",
        "data.info()"
      ]
    },
    {
      "cell_type": "code",
      "execution_count": 164,
      "metadata": {},
      "outputs": [
        {
          "name": "stdout",
          "output_type": "stream",
          "text": [
            "<class 'pandas.core.frame.DataFrame'>\n",
            "RangeIndex: 8693 entries, 0 to 8692\n",
            "Data columns (total 20 columns):\n",
            " #   Column        Non-Null Count  Dtype  \n",
            "---  ------        --------------  -----  \n",
            " 0   PassengerId   8693 non-null   object \n",
            " 1   HomePlanet    8492 non-null   object \n",
            " 2   CryoSleep     8693 non-null   object \n",
            " 3   Destination   8511 non-null   object \n",
            " 4   Age           8693 non-null   float64\n",
            " 5   VIP           8693 non-null   bool   \n",
            " 6   RoomService   8693 non-null   float64\n",
            " 7   FoodCourt     8693 non-null   float64\n",
            " 8   ShoppingMall  8693 non-null   float64\n",
            " 9   Spa           8693 non-null   float64\n",
            " 10  VRDeck        8693 non-null   float64\n",
            " 11  Transported   8693 non-null   object \n",
            " 12  TotalSpent    8693 non-null   float64\n",
            " 13  Group         8693 non-null   object \n",
            " 14  ID            8693 non-null   object \n",
            " 15  LastName      8493 non-null   object \n",
            " 16  Deck          8494 non-null   object \n",
            " 17  Number        8494 non-null   object \n",
            " 18  Side          8494 non-null   object \n",
            " 19  GroupSize     8693 non-null   int64  \n",
            "dtypes: bool(1), float64(7), int64(1), object(11)\n",
            "memory usage: 1.3+ MB\n"
          ]
        }
      ],
      "source": [
        "train.info()"
      ]
    },
    {
      "cell_type": "markdown",
      "metadata": {},
      "source": [
        "Let's find out if passengers in the same group stays on the same side."
      ]
    },
    {
      "cell_type": "code",
      "execution_count": 165,
      "metadata": {},
      "outputs": [
        {
          "data": {
            "text/plain": [
              "Text(0.5, 1.0, 'Number of unique cabin sides per group')"
            ]
          },
          "execution_count": 165,
          "metadata": {},
          "output_type": "execute_result"
        },
        {
          "data": {
            "image/png": "[encoded data removed]",
            "text/plain": [
              "<Figure size 1152x288 with 1 Axes>"
            ]
          },
          "metadata": {
            "needs_background": "light"
          },
          "output_type": "display_data"
        }
      ],
      "source": [
        "side_grouped = data[data['GroupSize']>1].groupby(['Group','Side'])['Side'].size().unstack().fillna(0)\n",
        "\n",
        "fig=plt.figure(figsize=(16, 4))\n",
        "plt.subplot(1,3,2)\n",
        "sns.countplot((side_grouped>0).sum(axis=1))\n",
        "plt.title('Number of unique cabin sides per group')"
      ]
    },
    {
      "cell_type": "markdown",
      "metadata": {},
      "source": [
        "Every group stay on the same side. This makes it easy to fill values for passengers in groups where the the side is known."
      ]
    },
    {
      "cell_type": "code",
      "execution_count": 166,
      "metadata": {},
      "outputs": [
        {
          "name": "stdout",
          "output_type": "stream",
          "text": [
            "Remaining NaN values: 162\n"
          ]
        }
      ],
      "source": [
        "missing_side = data.loc[(data['Side'].isna()) & (data['GroupSize'] > 1)]\n",
        "for i in range(len(missing_side)) :\n",
        "    for j in range(len(data)) :\n",
        "        if((missing_side['Group'].iloc[i] == data['Group'].iloc[j])  & (isinstance(data['Side'].iloc[j], str))) :           \n",
        "            missing_side['Side'].iloc[i] = data['Side'].iloc[j] \n",
        "            break\n",
        "\n",
        "data.update(missing_side)\n",
        "print(\"Remaining NaN values:\",data['Side'].isna().sum())"
      ]
    },
    {
      "cell_type": "markdown",
      "metadata": {},
      "source": [
        "Were down to 159 missing entries. Let's try to see if we can fill some more using LastName."
      ]
    },
    {
      "cell_type": "code",
      "execution_count": 167,
      "metadata": {},
      "outputs": [
        {
          "data": {
            "image/png": "[encoded data removed]",
            "text/plain": [
              "<Figure size 1152x288 with 1 Axes>"
            ]
          },
          "metadata": {
            "needs_background": "light"
          },
          "output_type": "display_data"
        }
      ],
      "source": [
        "side_fam_grouped = data[data['GroupSize']>1].groupby(['LastName','Side'])['Side'].size().unstack().fillna(0)\n",
        "\n",
        "fig=plt.figure(figsize=(16, 4))\n",
        "plt.subplot(1,3,1)\n",
        "sns.countplot((side_fam_grouped > 0).sum(axis=1))\n",
        "plt.title('Number of unique cabin sides per family')\n",
        "fig.tight_layout()"
      ]
    },
    {
      "cell_type": "markdown",
      "metadata": {},
      "source": [
        "The vast majority of families stay on the same side. We will fill more values depending if they have a family member."
      ]
    },
    {
      "cell_type": "code",
      "execution_count": 168,
      "metadata": {},
      "outputs": [
        {
          "data": {
            "text/html": [
              "<div>\n",
              "<style scoped>\n",
              "    .dataframe tbody tr th:only-of-type {\n",
              "        vertical-align: middle;\n",
              "    }\n",
              "\n",
              "    .dataframe tbody tr th {\n",
              "        vertical-align: top;\n",
              "    }\n",
              "\n",
              "    .dataframe thead th {\n",
              "        text-align: right;\n",
              "    }\n",
              "</style>\n",
              "<table border=\"1\" class=\"dataframe\">\n",
              "  <thead>\n",
              "    <tr style=\"text-align: right;\">\n",
              "      <th></th>\n",
              "      <th>PassengerId</th>\n",
              "      <th>HomePlanet</th>\n",
              "      <th>CryoSleep</th>\n",
              "      <th>Destination</th>\n",
              "      <th>Age</th>\n",
              "      <th>VIP</th>\n",
              "      <th>RoomService</th>\n",
              "      <th>FoodCourt</th>\n",
              "      <th>ShoppingMall</th>\n",
              "      <th>Spa</th>\n",
              "      <th>VRDeck</th>\n",
              "      <th>TotalSpent</th>\n",
              "      <th>Group</th>\n",
              "      <th>ID</th>\n",
              "      <th>LastName</th>\n",
              "      <th>Deck</th>\n",
              "      <th>Number</th>\n",
              "      <th>Side</th>\n",
              "      <th>GroupSize</th>\n",
              "    </tr>\n",
              "  </thead>\n",
              "  <tbody>\n",
              "    <tr>\n",
              "      <th>462</th>\n",
              "      <td>0502_01</td>\n",
              "      <td>Mars</td>\n",
              "      <td>False</td>\n",
              "      <td>TRAPPIST-1e</td>\n",
              "      <td>22.0</td>\n",
              "      <td>False</td>\n",
              "      <td>10.0</td>\n",
              "      <td>0.0</td>\n",
              "      <td>817.0</td>\n",
              "      <td>471.0</td>\n",
              "      <td>0.0</td>\n",
              "      <td>1298.0</td>\n",
              "      <td>0502</td>\n",
              "      <td>01</td>\n",
              "      <td>Swell</td>\n",
              "      <td>NaN</td>\n",
              "      <td>NaN</td>\n",
              "      <td>NaN</td>\n",
              "      <td>1.0</td>\n",
              "    </tr>\n",
              "    <tr>\n",
              "      <th>1980</th>\n",
              "      <td>2117_01</td>\n",
              "      <td>Europa</td>\n",
              "      <td>False</td>\n",
              "      <td>TRAPPIST-1e</td>\n",
              "      <td>31.0</td>\n",
              "      <td>False</td>\n",
              "      <td>0.0</td>\n",
              "      <td>8718.0</td>\n",
              "      <td>0.0</td>\n",
              "      <td>13036.0</td>\n",
              "      <td>267.0</td>\n",
              "      <td>22021.0</td>\n",
              "      <td>2117</td>\n",
              "      <td>01</td>\n",
              "      <td>Rocketedy</td>\n",
              "      <td>NaN</td>\n",
              "      <td>NaN</td>\n",
              "      <td>NaN</td>\n",
              "      <td>1.0</td>\n",
              "    </tr>\n",
              "    <tr>\n",
              "      <th>3308</th>\n",
              "      <td>3553_01</td>\n",
              "      <td>Mars</td>\n",
              "      <td>False</td>\n",
              "      <td>TRAPPIST-1e</td>\n",
              "      <td>28.0</td>\n",
              "      <td>False</td>\n",
              "      <td>3.0</td>\n",
              "      <td>0.0</td>\n",
              "      <td>0.0</td>\n",
              "      <td>327.0</td>\n",
              "      <td>2054.0</td>\n",
              "      <td>2384.0</td>\n",
              "      <td>3553</td>\n",
              "      <td>01</td>\n",
              "      <td>Maie</td>\n",
              "      <td>NaN</td>\n",
              "      <td>NaN</td>\n",
              "      <td>NaN</td>\n",
              "      <td>1.0</td>\n",
              "    </tr>\n",
              "    <tr>\n",
              "      <th>6037</th>\n",
              "      <td>6385_01</td>\n",
              "      <td>Mars</td>\n",
              "      <td>False</td>\n",
              "      <td>PSO J318.5-22</td>\n",
              "      <td>21.0</td>\n",
              "      <td>False</td>\n",
              "      <td>435.0</td>\n",
              "      <td>0.0</td>\n",
              "      <td>422.0</td>\n",
              "      <td>16.0</td>\n",
              "      <td>0.0</td>\n",
              "      <td>873.0</td>\n",
              "      <td>6385</td>\n",
              "      <td>01</td>\n",
              "      <td>Duncy</td>\n",
              "      <td>NaN</td>\n",
              "      <td>NaN</td>\n",
              "      <td>NaN</td>\n",
              "      <td>1.0</td>\n",
              "    </tr>\n",
              "    <tr>\n",
              "      <th>10257</th>\n",
              "      <td>3367_01</td>\n",
              "      <td>Earth</td>\n",
              "      <td>False</td>\n",
              "      <td>TRAPPIST-1e</td>\n",
              "      <td>28.0</td>\n",
              "      <td>False</td>\n",
              "      <td>0.0</td>\n",
              "      <td>818.0</td>\n",
              "      <td>51.0</td>\n",
              "      <td>0.0</td>\n",
              "      <td>0.0</td>\n",
              "      <td>869.0</td>\n",
              "      <td>3367</td>\n",
              "      <td>01</td>\n",
              "      <td>NaN</td>\n",
              "      <td>NaN</td>\n",
              "      <td>NaN</td>\n",
              "      <td>NaN</td>\n",
              "      <td>1.0</td>\n",
              "    </tr>\n",
              "  </tbody>\n",
              "</table>\n",
              "</div>"
            ],
            "text/plain": [
              "      PassengerId HomePlanet CryoSleep    Destination   Age    VIP  \\\n",
              "462       0502_01       Mars     False    TRAPPIST-1e  22.0  False   \n",
              "1980      2117_01     Europa     False    TRAPPIST-1e  31.0  False   \n",
              "3308      3553_01       Mars     False    TRAPPIST-1e  28.0  False   \n",
              "6037      6385_01       Mars     False  PSO J318.5-22  21.0  False   \n",
              "10257     3367_01      Earth     False    TRAPPIST-1e  28.0  False   \n",
              "\n",
              "       RoomService  FoodCourt  ShoppingMall      Spa  VRDeck  TotalSpent  \\\n",
              "462           10.0        0.0         817.0    471.0     0.0      1298.0   \n",
              "1980           0.0     8718.0           0.0  13036.0   267.0     22021.0   \n",
              "3308           3.0        0.0           0.0    327.0  2054.0      2384.0   \n",
              "6037         435.0        0.0         422.0     16.0     0.0       873.0   \n",
              "10257          0.0      818.0          51.0      0.0     0.0       869.0   \n",
              "\n",
              "      Group  ID   LastName Deck Number Side  GroupSize  \n",
              "462    0502  01      Swell  NaN    NaN  NaN        1.0  \n",
              "1980   2117  01  Rocketedy  NaN    NaN  NaN        1.0  \n",
              "3308   3553  01       Maie  NaN    NaN  NaN        1.0  \n",
              "6037   6385  01      Duncy  NaN    NaN  NaN        1.0  \n",
              "10257  3367  01        NaN  NaN    NaN  NaN        1.0  "
            ]
          },
          "execution_count": 168,
          "metadata": {},
          "output_type": "execute_result"
        }
      ],
      "source": [
        "missing_side = data.loc[(data['Side'].isna())]\n",
        "for i in range(len(missing_side)) :\n",
        "    for j in range(len(data)) :\n",
        "        if((missing_side['LastName'].iloc[i] == data['LastName'].iloc[j]) & (isinstance(data['Side'].iloc[j], str))) :           \n",
        "            missing_side['Side'].iloc[i] = data['Side'].iloc[j] \n",
        "            break\n",
        "\n",
        "data.update(missing_side)\n",
        "data.loc[data['Side'].isna()].head()"
      ]
    },
    {
      "cell_type": "markdown",
      "metadata": {},
      "source": [
        "Only five people does not have a side. Let's set those values to 'X' For now."
      ]
    },
    {
      "cell_type": "code",
      "execution_count": 169,
      "metadata": {},
      "outputs": [
        {
          "name": "stdout",
          "output_type": "stream",
          "text": [
            "<class 'pandas.core.frame.DataFrame'>\n",
            "RangeIndex: 12970 entries, 0 to 12969\n",
            "Data columns (total 19 columns):\n",
            " #   Column        Non-Null Count  Dtype  \n",
            "---  ------        --------------  -----  \n",
            " 0   PassengerId   12970 non-null  object \n",
            " 1   HomePlanet    12682 non-null  object \n",
            " 2   CryoSleep     12970 non-null  object \n",
            " 3   Destination   12696 non-null  object \n",
            " 4   Age           12970 non-null  float64\n",
            " 5   VIP           12970 non-null  object \n",
            " 6   RoomService   12970 non-null  float64\n",
            " 7   FoodCourt     12970 non-null  float64\n",
            " 8   ShoppingMall  12970 non-null  float64\n",
            " 9   Spa           12970 non-null  float64\n",
            " 10  VRDeck        12970 non-null  float64\n",
            " 11  TotalSpent    12970 non-null  float64\n",
            " 12  Group         12970 non-null  object \n",
            " 13  ID            12970 non-null  object \n",
            " 14  LastName      12676 non-null  object \n",
            " 15  Deck          12671 non-null  object \n",
            " 16  Number        12671 non-null  object \n",
            " 17  Side          12970 non-null  object \n",
            " 18  GroupSize     12970 non-null  float64\n",
            "dtypes: float64(8), object(11)\n",
            "memory usage: 1.9+ MB\n"
          ]
        }
      ],
      "source": [
        "data.loc[data['Side'].isna(),'Side'] = 'P'\n",
        "data.info()"
      ]
    },
    {
      "cell_type": "markdown",
      "metadata": {},
      "source": [
        "Now we take care of the cabin decks."
      ]
    },
    {
      "cell_type": "code",
      "execution_count": 170,
      "metadata": {},
      "outputs": [
        {
          "data": {
            "image/png": "[encoded data removed]",
            "text/plain": [
              "<Figure size 1152x288 with 1 Axes>"
            ]
          },
          "metadata": {
            "needs_background": "light"
          },
          "output_type": "display_data"
        }
      ],
      "source": [
        "deck_grouped = data[data['GroupSize']>1].groupby(['Group','Deck'])['Deck'].size().unstack().fillna(0)\n",
        "\n",
        "fig=plt.figure(figsize=(16,4))\n",
        "plt.subplot(1,3,1)\n",
        "sns.countplot((deck_grouped>0).sum(axis=1))\n",
        "plt.title('Number of unique cabin decks per group')\n",
        "plt.show()"
      ]
    },
    {
      "cell_type": "markdown",
      "metadata": {},
      "source": [
        "Let's try a similar approach as we did with the cabin sides. The figure above backs up the statement that most groups stay at the same deck."
      ]
    },
    {
      "cell_type": "code",
      "execution_count": 171,
      "metadata": {},
      "outputs": [
        {
          "data": {
            "text/plain": [
              "162"
            ]
          },
          "execution_count": 171,
          "metadata": {},
          "output_type": "execute_result"
        }
      ],
      "source": [
        "missing_deck = data.loc[(data['Deck'].isna()) & (data['GroupSize'] > 1)]\n",
        "for i in range(len(missing_deck)) :\n",
        "    for j in range(len(data)) :\n",
        "        if((missing_deck['Group'].iloc[i] == data['Group'].iloc[j])  & (isinstance(data['Deck'].iloc[j], str))) :           \n",
        "            missing_deck['Deck'].iloc[i] = data['Deck'].iloc[j] \n",
        "            break\n",
        "\n",
        "data.update(missing_deck)\n",
        "data['Deck'].isna().sum()"
      ]
    },
    {
      "cell_type": "code",
      "execution_count": 172,
      "metadata": {},
      "outputs": [
        {
          "data": {
            "image/png": "[encoded data removed]",
            "text/plain": [
              "<Figure size 1152x288 with 1 Axes>"
            ]
          },
          "metadata": {
            "needs_background": "light"
          },
          "output_type": "display_data"
        }
      ],
      "source": [
        "deck_fam_grouped = data[data['GroupSize']>1].groupby(['LastName','Deck'])['Deck'].size().unstack().fillna(0)\n",
        "\n",
        "fig=plt.figure(figsize=(16, 4))\n",
        "plt.subplot(1,3,1)\n",
        "sns.countplot((deck_fam_grouped > 0).sum(axis=1))\n",
        "plt.title('Number of unique cabin decks per family')\n",
        "fig.tight_layout()"
      ]
    },
    {
      "cell_type": "markdown",
      "metadata": {},
      "source": [
        "It appears that families are likely to stay on the same deck, but not by a lot. Let's see if we can use some other features like HomePlanet to see if one deck is more likely to house people from the same planet."
      ]
    },
    {
      "cell_type": "code",
      "execution_count": 173,
      "metadata": {},
      "outputs": [
        {
          "data": {
            "text/plain": [
              "<AxesSubplot:xlabel='HomePlanet', ylabel='Deck'>"
            ]
          },
          "execution_count": 173,
          "metadata": {},
          "output_type": "execute_result"
        },
        {
          "data": {
            "image/png": "[encoded data removed]",
            "text/plain": [
              "<Figure size 576x360 with 2 Axes>"
            ]
          },
          "metadata": {
            "needs_background": "light"
          },
          "output_type": "display_data"
        }
      ],
      "source": [
        "# Correlation between HomePlanet and Deck\n",
        "home_deck = data.groupby(['HomePlanet','Deck'])['HomePlanet'].size().unstack().fillna(0)\n",
        "\n",
        "plt.figure(figsize = (8,5))\n",
        "sns.heatmap(home_deck.T, annot=True, fmt='g', cmap='coolwarm')"
      ]
    },
    {
      "cell_type": "markdown",
      "metadata": {},
      "source": [
        "Seems like people from earth are more likely to be in deck G, F and E (in that order). People from Mars are likely to stay in F, G and D while Europa has people across all decks, but mostly in B and C. We will just put people from Earth and Mars into deck G and F respectivly. But Europa requires some further investigation."
      ]
    },
    {
      "cell_type": "code",
      "execution_count": 174,
      "metadata": {},
      "outputs": [
        {
          "data": {
            "text/plain": [
              "34"
            ]
          },
          "execution_count": 174,
          "metadata": {},
          "output_type": "execute_result"
        }
      ],
      "source": [
        "# Passengers from Earth.\n",
        "data.loc[(data['HomePlanet'] == 'Earth') & (data['Deck'].isna()), 'Deck'] = 'G'\n",
        "\n",
        "# Passengers from Mars\n",
        "data.loc[(data['HomePlanet'] == 'Mars') & (data['Deck'].isna()), 'Deck'] = 'F'\n",
        "data['Deck'].isna().sum()"
      ]
    },
    {
      "cell_type": "markdown",
      "metadata": {},
      "source": [
        "Now we want to find out wheater we put passengers from Europa in deck B or C."
      ]
    },
    {
      "cell_type": "code",
      "execution_count": 175,
      "metadata": {},
      "outputs": [
        {
          "data": {
            "text/plain": [
              "<AxesSubplot:xlabel='CryoSleep', ylabel='Deck'>"
            ]
          },
          "execution_count": 175,
          "metadata": {},
          "output_type": "execute_result"
        },
        {
          "data": {
            "image/png": "[encoded data removed]",
            "text/plain": [
              "<Figure size 576x360 with 2 Axes>"
            ]
          },
          "metadata": {
            "needs_background": "light"
          },
          "output_type": "display_data"
        },
        {
          "data": {
            "image/png": "[encoded data removed]",
            "text/plain": [
              "<Figure size 576x360 with 2 Axes>"
            ]
          },
          "metadata": {
            "needs_background": "light"
          },
          "output_type": "display_data"
        }
      ],
      "source": [
        "eur_deck_dest = data[(data[\"HomePlanet\"] == \"Europa\") & ((data[\"Deck\"] == \"B\") | (data[\"Deck\"] == \"C\"))].groupby(['GroupSize','Deck'])['Deck'].size().unstack().fillna(0)\n",
        "eur_deck_cryo = data[(data[\"HomePlanet\"] == \"Europa\") & ((data[\"Deck\"] == \"B\") | (data[\"Deck\"] == \"C\"))].groupby(['CryoSleep','Deck'])['Deck'].size().unstack().fillna(0)\n",
        "\n",
        "plt.figure(figsize = (8,5))\n",
        "sns.heatmap(eur_deck_dest.T, annot=True, fmt='g', cmap='coolwarm')\n",
        "\n",
        "plt.figure(figsize = (8,5))\n",
        "sns.heatmap(eur_deck_cryo.T, annot=True, fmt='g', cmap='coolwarm')"
      ]
    },
    {
      "cell_type": "markdown",
      "metadata": {},
      "source": [
        "After a bit of trial and error we found out that the two most reliable correlations were GroupSize and CryoSleep."
      ]
    },
    {
      "cell_type": "code",
      "execution_count": 176,
      "metadata": {},
      "outputs": [
        {
          "data": {
            "text/html": [
              "<div>\n",
              "<style scoped>\n",
              "    .dataframe tbody tr th:only-of-type {\n",
              "        vertical-align: middle;\n",
              "    }\n",
              "\n",
              "    .dataframe tbody tr th {\n",
              "        vertical-align: top;\n",
              "    }\n",
              "\n",
              "    .dataframe thead th {\n",
              "        text-align: right;\n",
              "    }\n",
              "</style>\n",
              "<table border=\"1\" class=\"dataframe\">\n",
              "  <thead>\n",
              "    <tr style=\"text-align: right;\">\n",
              "      <th></th>\n",
              "      <th>PassengerId</th>\n",
              "      <th>HomePlanet</th>\n",
              "      <th>CryoSleep</th>\n",
              "      <th>Destination</th>\n",
              "      <th>Age</th>\n",
              "      <th>VIP</th>\n",
              "      <th>RoomService</th>\n",
              "      <th>FoodCourt</th>\n",
              "      <th>ShoppingMall</th>\n",
              "      <th>Spa</th>\n",
              "      <th>VRDeck</th>\n",
              "      <th>TotalSpent</th>\n",
              "      <th>Group</th>\n",
              "      <th>ID</th>\n",
              "      <th>LastName</th>\n",
              "      <th>Deck</th>\n",
              "      <th>Number</th>\n",
              "      <th>Side</th>\n",
              "      <th>GroupSize</th>\n",
              "    </tr>\n",
              "  </thead>\n",
              "  <tbody>\n",
              "    <tr>\n",
              "      <th>1550</th>\n",
              "      <td>1645_01</td>\n",
              "      <td>NaN</td>\n",
              "      <td>True</td>\n",
              "      <td>55 Cancri e</td>\n",
              "      <td>18.0</td>\n",
              "      <td>False</td>\n",
              "      <td>0.0</td>\n",
              "      <td>0.0</td>\n",
              "      <td>0.0</td>\n",
              "      <td>0.0</td>\n",
              "      <td>0.0</td>\n",
              "      <td>0.0</td>\n",
              "      <td>1645</td>\n",
              "      <td>01</td>\n",
              "      <td>Thonyderson</td>\n",
              "      <td>NaN</td>\n",
              "      <td>NaN</td>\n",
              "      <td>S</td>\n",
              "      <td>1.0</td>\n",
              "    </tr>\n",
              "    <tr>\n",
              "      <th>1714</th>\n",
              "      <td>1823_01</td>\n",
              "      <td>NaN</td>\n",
              "      <td>False</td>\n",
              "      <td>TRAPPIST-1e</td>\n",
              "      <td>67.0</td>\n",
              "      <td>False</td>\n",
              "      <td>143.0</td>\n",
              "      <td>68.0</td>\n",
              "      <td>496.0</td>\n",
              "      <td>182.0</td>\n",
              "      <td>9.0</td>\n",
              "      <td>898.0</td>\n",
              "      <td>1823</td>\n",
              "      <td>01</td>\n",
              "      <td>Byerson</td>\n",
              "      <td>NaN</td>\n",
              "      <td>NaN</td>\n",
              "      <td>P</td>\n",
              "      <td>1.0</td>\n",
              "    </tr>\n",
              "    <tr>\n",
              "      <th>3858</th>\n",
              "      <td>4134_01</td>\n",
              "      <td>NaN</td>\n",
              "      <td>True</td>\n",
              "      <td>TRAPPIST-1e</td>\n",
              "      <td>40.0</td>\n",
              "      <td>False</td>\n",
              "      <td>0.0</td>\n",
              "      <td>0.0</td>\n",
              "      <td>0.0</td>\n",
              "      <td>0.0</td>\n",
              "      <td>0.0</td>\n",
              "      <td>0.0</td>\n",
              "      <td>4134</td>\n",
              "      <td>01</td>\n",
              "      <td>Datty</td>\n",
              "      <td>NaN</td>\n",
              "      <td>NaN</td>\n",
              "      <td>S</td>\n",
              "      <td>1.0</td>\n",
              "    </tr>\n",
              "    <tr>\n",
              "      <th>7293</th>\n",
              "      <td>7801_01</td>\n",
              "      <td>NaN</td>\n",
              "      <td>False</td>\n",
              "      <td>55 Cancri e</td>\n",
              "      <td>21.0</td>\n",
              "      <td>False</td>\n",
              "      <td>1720.0</td>\n",
              "      <td>2337.0</td>\n",
              "      <td>0.0</td>\n",
              "      <td>1.0</td>\n",
              "      <td>335.0</td>\n",
              "      <td>4393.0</td>\n",
              "      <td>7801</td>\n",
              "      <td>01</td>\n",
              "      <td>Coopezmaney</td>\n",
              "      <td>NaN</td>\n",
              "      <td>NaN</td>\n",
              "      <td>S</td>\n",
              "      <td>1.0</td>\n",
              "    </tr>\n",
              "    <tr>\n",
              "      <th>12114</th>\n",
              "      <td>7469_01</td>\n",
              "      <td>NaN</td>\n",
              "      <td>False</td>\n",
              "      <td>TRAPPIST-1e</td>\n",
              "      <td>24.0</td>\n",
              "      <td>False</td>\n",
              "      <td>433.0</td>\n",
              "      <td>110.0</td>\n",
              "      <td>209.0</td>\n",
              "      <td>23.0</td>\n",
              "      <td>0.0</td>\n",
              "      <td>775.0</td>\n",
              "      <td>7469</td>\n",
              "      <td>01</td>\n",
              "      <td>Baxterson</td>\n",
              "      <td>NaN</td>\n",
              "      <td>NaN</td>\n",
              "      <td>S</td>\n",
              "      <td>1.0</td>\n",
              "    </tr>\n",
              "  </tbody>\n",
              "</table>\n",
              "</div>"
            ],
            "text/plain": [
              "      PassengerId HomePlanet CryoSleep  Destination   Age    VIP  RoomService  \\\n",
              "1550      1645_01        NaN      True  55 Cancri e  18.0  False          0.0   \n",
              "1714      1823_01        NaN     False  TRAPPIST-1e  67.0  False        143.0   \n",
              "3858      4134_01        NaN      True  TRAPPIST-1e  40.0  False          0.0   \n",
              "7293      7801_01        NaN     False  55 Cancri e  21.0  False       1720.0   \n",
              "12114     7469_01        NaN     False  TRAPPIST-1e  24.0  False        433.0   \n",
              "\n",
              "       FoodCourt  ShoppingMall    Spa  VRDeck  TotalSpent Group  ID  \\\n",
              "1550         0.0           0.0    0.0     0.0         0.0  1645  01   \n",
              "1714        68.0         496.0  182.0     9.0       898.0  1823  01   \n",
              "3858         0.0           0.0    0.0     0.0         0.0  4134  01   \n",
              "7293      2337.0           0.0    1.0   335.0      4393.0  7801  01   \n",
              "12114      110.0         209.0   23.0     0.0       775.0  7469  01   \n",
              "\n",
              "          LastName Deck Number Side  GroupSize  \n",
              "1550   Thonyderson  NaN    NaN    S        1.0  \n",
              "1714       Byerson  NaN    NaN    P        1.0  \n",
              "3858         Datty  NaN    NaN    S        1.0  \n",
              "7293   Coopezmaney  NaN    NaN    S        1.0  \n",
              "12114    Baxterson  NaN    NaN    S        1.0  "
            ]
          },
          "execution_count": 176,
          "metadata": {},
          "output_type": "execute_result"
        }
      ],
      "source": [
        "dataEur = data.loc[(data['HomePlanet'] == 'Europa') & (data['Deck'].isna())]\n",
        "\n",
        "# If you are not cryosleeping you are likely to be in Deck C.\n",
        "dataEur.loc[(data['CryoSleep'] == False), 'Deck'] = 'C'\n",
        "\n",
        "# If you're cryosleeping you're likely to be in Deck B. \n",
        "dataEur.loc[(data['CryoSleep'] == True), 'Deck'] = 'B'\n",
        "\n",
        "data.update(dataEur)\n",
        "data.loc[data['Deck'].isna()].head(20)"
      ]
    },
    {
      "cell_type": "markdown",
      "metadata": {},
      "source": [
        "Now were only left with passengers who have NaN as HomePlanet as well as Deck. We'll set these to 'X'."
      ]
    },
    {
      "cell_type": "code",
      "execution_count": 177,
      "metadata": {},
      "outputs": [
        {
          "name": "stdout",
          "output_type": "stream",
          "text": [
            "<class 'pandas.core.frame.DataFrame'>\n",
            "RangeIndex: 12970 entries, 0 to 12969\n",
            "Data columns (total 19 columns):\n",
            " #   Column        Non-Null Count  Dtype  \n",
            "---  ------        --------------  -----  \n",
            " 0   PassengerId   12970 non-null  object \n",
            " 1   HomePlanet    12682 non-null  object \n",
            " 2   CryoSleep     12970 non-null  object \n",
            " 3   Destination   12696 non-null  object \n",
            " 4   Age           12970 non-null  float64\n",
            " 5   VIP           12970 non-null  object \n",
            " 6   RoomService   12970 non-null  float64\n",
            " 7   FoodCourt     12970 non-null  float64\n",
            " 8   ShoppingMall  12970 non-null  float64\n",
            " 9   Spa           12970 non-null  float64\n",
            " 10  VRDeck        12970 non-null  float64\n",
            " 11  TotalSpent    12970 non-null  float64\n",
            " 12  Group         12970 non-null  object \n",
            " 13  ID            12970 non-null  object \n",
            " 14  LastName      12676 non-null  object \n",
            " 15  Deck          12970 non-null  object \n",
            " 16  Number        12671 non-null  object \n",
            " 17  Side          12970 non-null  object \n",
            " 18  GroupSize     12970 non-null  float64\n",
            "dtypes: float64(8), object(11)\n",
            "memory usage: 1.9+ MB\n"
          ]
        }
      ],
      "source": [
        "data.loc[data['Deck'].isna(),'Deck'] = 'E'\n",
        "data.info()"
      ]
    },
    {
      "cell_type": "markdown",
      "metadata": {},
      "source": [
        "**Final step of filling the Cabin spaces is the cabin number.**"
      ]
    },
    {
      "cell_type": "code",
      "execution_count": 178,
      "metadata": {},
      "outputs": [
        {
          "data": {
            "image/png": "[encoded data removed]",
            "text/plain": [
              "<Figure size 576x360 with 1 Axes>"
            ]
          },
          "metadata": {
            "needs_background": "light"
          },
          "output_type": "display_data"
        }
      ],
      "source": [
        "number_grouped = data[data['GroupSize']>1].groupby(['Group','Number'])['Number'].size().unstack().fillna(0)\n",
        "\n",
        "plt.figure(figsize = (8,5))\n",
        "plt.subplot(1,3,2)\n",
        "sns.countplot((number_grouped > 0).sum(axis=1))\n",
        "plt.title('Number of unique cabin numbers per group')\n",
        "plt.show()"
      ]
    },
    {
      "cell_type": "code",
      "execution_count": 179,
      "metadata": {},
      "outputs": [
        {
          "data": {
            "image/png": "[encoded data removed]",
            "text/plain": [
              "<Figure size 1152x288 with 1 Axes>"
            ]
          },
          "metadata": {
            "needs_background": "light"
          },
          "output_type": "display_data"
        }
      ],
      "source": [
        "num_fam_grouped = data[data['GroupSize']>1].groupby(['LastName','Number'])['Number'].size().unstack().fillna(0)\n",
        "\n",
        "fig=plt.figure(figsize=(16, 4))\n",
        "plt.subplot(1,3,1)\n",
        "sns.countplot((num_fam_grouped > 0).sum(axis=1))\n",
        "plt.title('Number of unique cabin numbers per family')\n",
        "fig.tight_layout()"
      ]
    },
    {
      "cell_type": "markdown",
      "metadata": {},
      "source": [
        "As with deck, we're not confident in setting the cabin number the same as the passengers with the same last name. In 'Spaceship Titanic: A complete guide' there is a great idea to predict the number using linear regression. The next two snippets is inspired by that solution."
      ]
    },
    {
      "cell_type": "code",
      "execution_count": 180,
      "metadata": {},
      "outputs": [
        {
          "ename": "TypeError",
          "evalue": "scatterplot() takes from 0 to 1 positional arguments but 2 were given",
          "output_type": "error",
          "traceback": [
            "\u001b[1;31m---------------------------------------------------------------------------\u001b[0m",
            "\u001b[1;31mTypeError\u001b[0m                                 Traceback (most recent call last)",
            "\u001b[1;32mc:\\Users\\ander\\OneDrive - Høgskulen på Vestlandet\\Semester 5\\DAT158 Maskinlæring og videregående algoritmer\\Maskinlæring\\ML workspace\\SpaceTitanic\\nbs\\spaceTitanic.ipynb Cell 82\u001b[0m in \u001b[0;36m<cell line: 7>\u001b[1;34m()\u001b[0m\n\u001b[0;32m      <a href='vscode-notebook-cell:/c%3A/Users/ander/OneDrive%20-%20H%C3%B8gskulen%20p%C3%A5%20Vestlandet/Semester%205/DAT158%20Maskinl%C3%A6ring%20og%20videreg%C3%A5ende%20algoritmer/Maskinl%C3%A6ring/ML%20workspace/SpaceTitanic/nbs/spaceTitanic.ipynb#Y144sZmlsZQ%3D%3D?line=3'>4</a>\u001b[0m y \u001b[39m=\u001b[39m y\u001b[39m.\u001b[39mastype(\u001b[39mint\u001b[39m)\n\u001b[0;32m      <a href='vscode-notebook-cell:/c%3A/Users/ander/OneDrive%20-%20H%C3%B8gskulen%20p%C3%A5%20Vestlandet/Semester%205/DAT158%20Maskinl%C3%A6ring%20og%20videreg%C3%A5ende%20algoritmer/Maskinl%C3%A6ring/ML%20workspace/SpaceTitanic/nbs/spaceTitanic.ipynb#Y144sZmlsZQ%3D%3D?line=5'>6</a>\u001b[0m plt\u001b[39m.\u001b[39mfigure(figsize\u001b[39m=\u001b[39m(\u001b[39m16\u001b[39m,\u001b[39m8\u001b[39m))\n\u001b[1;32m----> <a href='vscode-notebook-cell:/c%3A/Users/ander/OneDrive%20-%20H%C3%B8gskulen%20p%C3%A5%20Vestlandet/Semester%205/DAT158%20Maskinl%C3%A6ring%20og%20videreg%C3%A5ende%20algoritmer/Maskinl%C3%A6ring/ML%20workspace/SpaceTitanic/nbs/spaceTitanic.ipynb#Y144sZmlsZQ%3D%3D?line=6'>7</a>\u001b[0m sns\u001b[39m.\u001b[39;49mscatterplot(x, y, c\u001b[39m=\u001b[39;49mLabelEncoder()\u001b[39m.\u001b[39;49mfit_transform(data\u001b[39m.\u001b[39;49mloc[\u001b[39m~\u001b[39;49mdata[\u001b[39m'\u001b[39;49m\u001b[39mNumber\u001b[39;49m\u001b[39m'\u001b[39;49m]\u001b[39m.\u001b[39;49misna(),\u001b[39m'\u001b[39;49m\u001b[39mDeck\u001b[39;49m\u001b[39m'\u001b[39;49m]), cmap\u001b[39m=\u001b[39;49m\u001b[39m'\u001b[39;49m\u001b[39mtab10\u001b[39;49m\u001b[39m'\u001b[39;49m)\n\u001b[0;32m      <a href='vscode-notebook-cell:/c%3A/Users/ander/OneDrive%20-%20H%C3%B8gskulen%20p%C3%A5%20Vestlandet/Semester%205/DAT158%20Maskinl%C3%A6ring%20og%20videreg%C3%A5ende%20algoritmer/Maskinl%C3%A6ring/ML%20workspace/SpaceTitanic/nbs/spaceTitanic.ipynb#Y144sZmlsZQ%3D%3D?line=7'>8</a>\u001b[0m plt\u001b[39m.\u001b[39mtitle(\u001b[39m'\u001b[39m\u001b[39mCabin Number vs group\u001b[39m\u001b[39m'\u001b[39m)\n\u001b[0;32m      <a href='vscode-notebook-cell:/c%3A/Users/ander/OneDrive%20-%20H%C3%B8gskulen%20p%C3%A5%20Vestlandet/Semester%205/DAT158%20Maskinl%C3%A6ring%20og%20videreg%C3%A5ende%20algoritmer/Maskinl%C3%A6ring/ML%20workspace/SpaceTitanic/nbs/spaceTitanic.ipynb#Y144sZmlsZQ%3D%3D?line=8'>9</a>\u001b[0m plt\u001b[39m.\u001b[39mshow()\n",
            "\u001b[1;31mTypeError\u001b[0m: scatterplot() takes from 0 to 1 positional arguments but 2 were given"
          ]
        },
        {
          "data": {
            "text/plain": [
              "<Figure size 1152x576 with 0 Axes>"
            ]
          },
          "metadata": {},
          "output_type": "display_data"
        }
      ],
      "source": [
        "x=data.loc[data['Number'].notnull(), 'Number']\n",
        "y=data['Group']\n",
        "x = x.astype(int)\n",
        "y = y.astype(int)\n",
        "\n",
        "plt.figure(figsize=(16,8))\n",
        "sns.scatterplot(x, y, c=LabelEncoder().fit_transform(data.loc[~data['Number'].isna(),'Deck']), cmap='tab10')\n",
        "plt.title('Cabin Number vs group')\n",
        "plt.show()"
      ]
    },
    {
      "cell_type": "markdown",
      "metadata": {},
      "source": [
        "The idea is that the cabin numbers follows a seemingly linear pattern on a deck-by-deck basis. We can use this to predict the value of the missing values by using linear regression."
      ]
    },
    {
      "cell_type": "code",
      "execution_count": 181,
      "metadata": {},
      "outputs": [],
      "source": [
        "# Extrapolate linear relationship on a deck by deck basis\n",
        "for deck in ['A', 'B', 'C', 'D', 'E', 'F', 'G']:\n",
        "    # Creating training set and test set\n",
        "    X = data.loc[~(data['Number'].isna()) & (data['Deck']==deck),'Group']\n",
        "    y = data.loc[~(data['Number'].isna()) & (data['Deck']==deck),'Number']\n",
        "    X_test = data.loc[(data['Number'].isna()) & (data['Deck']==deck),'Group']\n",
        "\n",
        "    if (len(X_test) > 0) :\n",
        "        # Linear regression\n",
        "        model_CN = LinearRegression()\n",
        "        model_CN.fit(X.values.reshape(-1, 1), y)\n",
        "        pred=model_CN.predict(X_test.values.reshape(-1, 1))\n",
        "    \n",
        "        # Fill in the missing values\n",
        "        data.loc[(data['Number'].isna()) & (data['Deck']==deck),'Number']=pred.astype(int)\n",
        "\n",
        "# Fill those who has Number as Null to -1.\n",
        "data.loc[data['Number'].isna(), 'Number'] = -1"
      ]
    },
    {
      "cell_type": "markdown",
      "metadata": {},
      "source": [
        "Now lets figure out how to fill the Homeplanets."
      ]
    },
    {
      "cell_type": "code",
      "execution_count": 182,
      "metadata": {},
      "outputs": [
        {
          "data": {
            "image/png": "[encoded data removed]",
            "text/plain": [
              "<Figure size 1152x288 with 1 Axes>"
            ]
          },
          "metadata": {
            "needs_background": "light"
          },
          "output_type": "display_data"
        }
      ],
      "source": [
        "HomePlanet_grouped = data[data['GroupSize']>1].groupby(['Group','HomePlanet'])['HomePlanet'].size().unstack().fillna(0)\n",
        "\n",
        "fig=plt.figure(figsize=(16,4))\n",
        "plt.subplot(1,3,1)\n",
        "sns.countplot((HomePlanet_grouped>0).sum(axis=1))\n",
        "plt.title('Number of unique HomePlanets per group')\n",
        "plt.show()"
      ]
    },
    {
      "cell_type": "markdown",
      "metadata": {},
      "source": [
        "Almost every group comes from the same homeplanet. Let's fill those in by group members as before. We can also fill in according to LastName, because no same lastname occurs on different planets."
      ]
    },
    {
      "cell_type": "code",
      "execution_count": 183,
      "metadata": {},
      "outputs": [
        {
          "data": {
            "text/plain": [
              "13"
            ]
          },
          "execution_count": 183,
          "metadata": {},
          "output_type": "execute_result"
        }
      ],
      "source": [
        "missing_hp = data.loc[data['HomePlanet'].isna()]\n",
        "\n",
        "for i in range(len(missing_hp)) :\n",
        "    for j in range(len(data)) :\n",
        "        if(((missing_hp['Group'].iloc[i] == data['Group'].iloc[j]) | (missing_hp['LastName'].iloc[i] == data['LastName'].iloc[j])) & (isinstance(data['HomePlanet'].iloc[j], str))) :           \n",
        "            missing_hp['HomePlanet'].iloc[i] = data['HomePlanet'].iloc[j] \n",
        "            break\n",
        "\n",
        "data.update(missing_hp)\n",
        "data['HomePlanet'].isna().sum()"
      ]
    },
    {
      "cell_type": "markdown",
      "metadata": {},
      "source": [
        "We can fill the remaining few by just imputing according to deck."
      ]
    },
    {
      "cell_type": "code",
      "execution_count": 184,
      "metadata": {},
      "outputs": [
        {
          "data": {
            "text/plain": [
              "<AxesSubplot:xlabel='HomePlanet', ylabel='Deck'>"
            ]
          },
          "execution_count": 184,
          "metadata": {},
          "output_type": "execute_result"
        },
        {
          "data": {
            "image/png": "[encoded data removed]",
            "text/plain": [
              "<Figure size 576x360 with 2 Axes>"
            ]
          },
          "metadata": {
            "needs_background": "light"
          },
          "output_type": "display_data"
        }
      ],
      "source": [
        "# Correlation between HomePlanet and Deck\n",
        "home_deck = data.groupby(['HomePlanet','Deck'])['HomePlanet'].size().unstack().fillna(0)\n",
        "\n",
        "plt.figure(figsize = (8,5))\n",
        "sns.heatmap(home_deck.T, annot=True, fmt='g', cmap='coolwarm')"
      ]
    },
    {
      "cell_type": "code",
      "execution_count": 185,
      "metadata": {},
      "outputs": [
        {
          "data": {
            "text/html": [
              "<div>\n",
              "<style scoped>\n",
              "    .dataframe tbody tr th:only-of-type {\n",
              "        vertical-align: middle;\n",
              "    }\n",
              "\n",
              "    .dataframe tbody tr th {\n",
              "        vertical-align: top;\n",
              "    }\n",
              "\n",
              "    .dataframe thead th {\n",
              "        text-align: right;\n",
              "    }\n",
              "</style>\n",
              "<table border=\"1\" class=\"dataframe\">\n",
              "  <thead>\n",
              "    <tr style=\"text-align: right;\">\n",
              "      <th></th>\n",
              "      <th>PassengerId</th>\n",
              "      <th>HomePlanet</th>\n",
              "      <th>CryoSleep</th>\n",
              "      <th>Destination</th>\n",
              "      <th>Age</th>\n",
              "      <th>VIP</th>\n",
              "      <th>RoomService</th>\n",
              "      <th>FoodCourt</th>\n",
              "      <th>ShoppingMall</th>\n",
              "      <th>Spa</th>\n",
              "      <th>VRDeck</th>\n",
              "      <th>TotalSpent</th>\n",
              "      <th>Group</th>\n",
              "      <th>ID</th>\n",
              "      <th>LastName</th>\n",
              "      <th>Deck</th>\n",
              "      <th>Number</th>\n",
              "      <th>Side</th>\n",
              "      <th>GroupSize</th>\n",
              "    </tr>\n",
              "  </thead>\n",
              "  <tbody>\n",
              "    <tr>\n",
              "      <th>2274</th>\n",
              "      <td>2443_01</td>\n",
              "      <td>NaN</td>\n",
              "      <td>False</td>\n",
              "      <td>TRAPPIST-1e</td>\n",
              "      <td>31.0</td>\n",
              "      <td>False</td>\n",
              "      <td>1458.0</td>\n",
              "      <td>421.0</td>\n",
              "      <td>76.0</td>\n",
              "      <td>0.0</td>\n",
              "      <td>0.0</td>\n",
              "      <td>1955.0</td>\n",
              "      <td>2443</td>\n",
              "      <td>01</td>\n",
              "      <td>NaN</td>\n",
              "      <td>D</td>\n",
              "      <td>72</td>\n",
              "      <td>P</td>\n",
              "      <td>1.0</td>\n",
              "    </tr>\n",
              "    <tr>\n",
              "      <th>2631</th>\n",
              "      <td>2817_01</td>\n",
              "      <td>NaN</td>\n",
              "      <td>False</td>\n",
              "      <td>TRAPPIST-1e</td>\n",
              "      <td>25.0</td>\n",
              "      <td>False</td>\n",
              "      <td>237.0</td>\n",
              "      <td>0.0</td>\n",
              "      <td>910.0</td>\n",
              "      <td>0.0</td>\n",
              "      <td>12.0</td>\n",
              "      <td>1159.0</td>\n",
              "      <td>2817</td>\n",
              "      <td>01</td>\n",
              "      <td>Sutty</td>\n",
              "      <td>F</td>\n",
              "      <td>584</td>\n",
              "      <td>P</td>\n",
              "      <td>1.0</td>\n",
              "    </tr>\n",
              "    <tr>\n",
              "      <th>3091</th>\n",
              "      <td>3331_01</td>\n",
              "      <td>NaN</td>\n",
              "      <td>False</td>\n",
              "      <td>TRAPPIST-1e</td>\n",
              "      <td>40.0</td>\n",
              "      <td>False</td>\n",
              "      <td>666.0</td>\n",
              "      <td>4.0</td>\n",
              "      <td>83.0</td>\n",
              "      <td>0.0</td>\n",
              "      <td>50.0</td>\n",
              "      <td>803.0</td>\n",
              "      <td>3331</td>\n",
              "      <td>01</td>\n",
              "      <td>NaN</td>\n",
              "      <td>F</td>\n",
              "      <td>631</td>\n",
              "      <td>S</td>\n",
              "      <td>1.0</td>\n",
              "    </tr>\n",
              "    <tr>\n",
              "      <th>4548</th>\n",
              "      <td>4840_01</td>\n",
              "      <td>NaN</td>\n",
              "      <td>True</td>\n",
              "      <td>TRAPPIST-1e</td>\n",
              "      <td>36.0</td>\n",
              "      <td>False</td>\n",
              "      <td>0.0</td>\n",
              "      <td>0.0</td>\n",
              "      <td>0.0</td>\n",
              "      <td>0.0</td>\n",
              "      <td>0.0</td>\n",
              "      <td>0.0</td>\n",
              "      <td>4840</td>\n",
              "      <td>01</td>\n",
              "      <td>NaN</td>\n",
              "      <td>F</td>\n",
              "      <td>915</td>\n",
              "      <td>S</td>\n",
              "      <td>1.0</td>\n",
              "    </tr>\n",
              "    <tr>\n",
              "      <th>5762</th>\n",
              "      <td>6108_01</td>\n",
              "      <td>NaN</td>\n",
              "      <td>False</td>\n",
              "      <td>TRAPPIST-1e</td>\n",
              "      <td>13.0</td>\n",
              "      <td>False</td>\n",
              "      <td>206.0</td>\n",
              "      <td>28.0</td>\n",
              "      <td>0.0</td>\n",
              "      <td>1.0</td>\n",
              "      <td>629.0</td>\n",
              "      <td>864.0</td>\n",
              "      <td>6108</td>\n",
              "      <td>01</td>\n",
              "      <td>NaN</td>\n",
              "      <td>F</td>\n",
              "      <td>1166</td>\n",
              "      <td>S</td>\n",
              "      <td>1.0</td>\n",
              "    </tr>\n",
              "    <tr>\n",
              "      <th>8969</th>\n",
              "      <td>0616_01</td>\n",
              "      <td>NaN</td>\n",
              "      <td>False</td>\n",
              "      <td>TRAPPIST-1e</td>\n",
              "      <td>31.0</td>\n",
              "      <td>False</td>\n",
              "      <td>0.0</td>\n",
              "      <td>428.0</td>\n",
              "      <td>0.0</td>\n",
              "      <td>1154.0</td>\n",
              "      <td>1025.0</td>\n",
              "      <td>2607.0</td>\n",
              "      <td>0616</td>\n",
              "      <td>01</td>\n",
              "      <td>Spriney</td>\n",
              "      <td>E</td>\n",
              "      <td>40</td>\n",
              "      <td>S</td>\n",
              "      <td>1.0</td>\n",
              "    </tr>\n",
              "    <tr>\n",
              "      <th>10583</th>\n",
              "      <td>4052_01</td>\n",
              "      <td>NaN</td>\n",
              "      <td>False</td>\n",
              "      <td>TRAPPIST-1e</td>\n",
              "      <td>26.0</td>\n",
              "      <td>False</td>\n",
              "      <td>6.0</td>\n",
              "      <td>5903.0</td>\n",
              "      <td>0.0</td>\n",
              "      <td>240.0</td>\n",
              "      <td>72.0</td>\n",
              "      <td>6221.0</td>\n",
              "      <td>4052</td>\n",
              "      <td>01</td>\n",
              "      <td>Coneveseng</td>\n",
              "      <td>D</td>\n",
              "      <td>136</td>\n",
              "      <td>P</td>\n",
              "      <td>1.0</td>\n",
              "    </tr>\n",
              "    <tr>\n",
              "      <th>11913</th>\n",
              "      <td>7065_01</td>\n",
              "      <td>NaN</td>\n",
              "      <td>True</td>\n",
              "      <td>TRAPPIST-1e</td>\n",
              "      <td>28.0</td>\n",
              "      <td>False</td>\n",
              "      <td>0.0</td>\n",
              "      <td>0.0</td>\n",
              "      <td>0.0</td>\n",
              "      <td>0.0</td>\n",
              "      <td>0.0</td>\n",
              "      <td>0.0</td>\n",
              "      <td>7065</td>\n",
              "      <td>01</td>\n",
              "      <td>Maltorted</td>\n",
              "      <td>E</td>\n",
              "      <td>471</td>\n",
              "      <td>S</td>\n",
              "      <td>1.0</td>\n",
              "    </tr>\n",
              "    <tr>\n",
              "      <th>12551</th>\n",
              "      <td>8435_01</td>\n",
              "      <td>NaN</td>\n",
              "      <td>False</td>\n",
              "      <td>TRAPPIST-1e</td>\n",
              "      <td>19.0</td>\n",
              "      <td>False</td>\n",
              "      <td>162.0</td>\n",
              "      <td>11.0</td>\n",
              "      <td>0.0</td>\n",
              "      <td>0.0</td>\n",
              "      <td>1216.0</td>\n",
              "      <td>1389.0</td>\n",
              "      <td>8435</td>\n",
              "      <td>01</td>\n",
              "      <td>NaN</td>\n",
              "      <td>F</td>\n",
              "      <td>1730</td>\n",
              "      <td>P</td>\n",
              "      <td>1.0</td>\n",
              "    </tr>\n",
              "    <tr>\n",
              "      <th>12725</th>\n",
              "      <td>8775_01</td>\n",
              "      <td>NaN</td>\n",
              "      <td>True</td>\n",
              "      <td>TRAPPIST-1e</td>\n",
              "      <td>40.0</td>\n",
              "      <td>False</td>\n",
              "      <td>0.0</td>\n",
              "      <td>0.0</td>\n",
              "      <td>0.0</td>\n",
              "      <td>0.0</td>\n",
              "      <td>0.0</td>\n",
              "      <td>0.0</td>\n",
              "      <td>8775</td>\n",
              "      <td>01</td>\n",
              "      <td>Maltorted</td>\n",
              "      <td>D</td>\n",
              "      <td>275</td>\n",
              "      <td>P</td>\n",
              "      <td>1.0</td>\n",
              "    </tr>\n",
              "  </tbody>\n",
              "</table>\n",
              "</div>"
            ],
            "text/plain": [
              "      PassengerId HomePlanet CryoSleep  Destination   Age    VIP  RoomService  \\\n",
              "2274      2443_01        NaN     False  TRAPPIST-1e  31.0  False       1458.0   \n",
              "2631      2817_01        NaN     False  TRAPPIST-1e  25.0  False        237.0   \n",
              "3091      3331_01        NaN     False  TRAPPIST-1e  40.0  False        666.0   \n",
              "4548      4840_01        NaN      True  TRAPPIST-1e  36.0  False          0.0   \n",
              "5762      6108_01        NaN     False  TRAPPIST-1e  13.0  False        206.0   \n",
              "8969      0616_01        NaN     False  TRAPPIST-1e  31.0  False          0.0   \n",
              "10583     4052_01        NaN     False  TRAPPIST-1e  26.0  False          6.0   \n",
              "11913     7065_01        NaN      True  TRAPPIST-1e  28.0  False          0.0   \n",
              "12551     8435_01        NaN     False  TRAPPIST-1e  19.0  False        162.0   \n",
              "12725     8775_01        NaN      True  TRAPPIST-1e  40.0  False          0.0   \n",
              "\n",
              "       FoodCourt  ShoppingMall     Spa  VRDeck  TotalSpent Group  ID  \\\n",
              "2274       421.0          76.0     0.0     0.0      1955.0  2443  01   \n",
              "2631         0.0         910.0     0.0    12.0      1159.0  2817  01   \n",
              "3091         4.0          83.0     0.0    50.0       803.0  3331  01   \n",
              "4548         0.0           0.0     0.0     0.0         0.0  4840  01   \n",
              "5762        28.0           0.0     1.0   629.0       864.0  6108  01   \n",
              "8969       428.0           0.0  1154.0  1025.0      2607.0  0616  01   \n",
              "10583     5903.0           0.0   240.0    72.0      6221.0  4052  01   \n",
              "11913        0.0           0.0     0.0     0.0         0.0  7065  01   \n",
              "12551       11.0           0.0     0.0  1216.0      1389.0  8435  01   \n",
              "12725        0.0           0.0     0.0     0.0         0.0  8775  01   \n",
              "\n",
              "         LastName Deck Number Side  GroupSize  \n",
              "2274          NaN    D     72    P        1.0  \n",
              "2631        Sutty    F    584    P        1.0  \n",
              "3091          NaN    F    631    S        1.0  \n",
              "4548          NaN    F    915    S        1.0  \n",
              "5762          NaN    F   1166    S        1.0  \n",
              "8969      Spriney    E     40    S        1.0  \n",
              "10583  Coneveseng    D    136    P        1.0  \n",
              "11913   Maltorted    E    471    S        1.0  \n",
              "12551         NaN    F   1730    P        1.0  \n",
              "12725   Maltorted    D    275    P        1.0  "
            ]
          },
          "execution_count": 185,
          "metadata": {},
          "output_type": "execute_result"
        }
      ],
      "source": [
        "data.loc[(data['HomePlanet'].isna()) & (data['Deck'] == 'A'),'HomePlanet'] = 'Europa'\n",
        "data.loc[(data['HomePlanet'].isna()) & (data['Deck'] == 'B'),'HomePlanet'] = 'Europa'\n",
        "data.loc[(data['HomePlanet'].isna()) & (data['Deck'] == 'C'),'HomePlanet'] = 'Europa'\n",
        "data.loc[(data['HomePlanet'].isna()) & (data['Deck'] == 'G'),'HomePlanet'] = 'Earth'\n",
        "data.loc[(data['HomePlanet'].isna()) & (data['Deck'] == 'T'),'HomePlanet'] = 'Europa'\n",
        "data.loc[data['HomePlanet'].isna()].head(10)"
      ]
    },
    {
      "cell_type": "markdown",
      "metadata": {},
      "source": [
        "Only passengers heading to Trappist-1e left, lets check correlation between those heading there and homeplanet."
      ]
    },
    {
      "cell_type": "code",
      "execution_count": 186,
      "metadata": {},
      "outputs": [
        {
          "data": {
            "text/plain": [
              "<AxesSubplot:xlabel='HomePlanet', ylabel='Destination'>"
            ]
          },
          "execution_count": 186,
          "metadata": {},
          "output_type": "execute_result"
        },
        {
          "data": {
            "image/png": "[encoded data removed]",
            "text/plain": [
              "<Figure size 576x360 with 2 Axes>"
            ]
          },
          "metadata": {
            "needs_background": "light"
          },
          "output_type": "display_data"
        }
      ],
      "source": [
        "# Correlation between HomePlanet and Deck\n",
        "home_deck = data.groupby(['HomePlanet','Destination'])['HomePlanet'].size().unstack().fillna(0)\n",
        "\n",
        "plt.figure(figsize = (8,5))\n",
        "sns.heatmap(home_deck.T, annot=True, fmt='g', cmap='coolwarm')"
      ]
    },
    {
      "cell_type": "markdown",
      "metadata": {},
      "source": [
        "We're missing deck D, E and F, And we see that Trappist-1e is the most common destination for everyone. Still we can see thats it's likely that.\n",
        "- Passengers from Deck D and heading to Trappist-1e is likely Martians.\n",
        "- Passengers from Deck E and heading to Trappist-1e is likely Earthlings.\n",
        "- Passengers from Deck F and heading to Trappist-1e is likely Earthlings.\n",
        "\n",
        "We'll just set accoring to deck for simplicity and reproducabilities sake."
      ]
    },
    {
      "cell_type": "code",
      "execution_count": 187,
      "metadata": {},
      "outputs": [],
      "source": [
        "data.loc[(data['HomePlanet'].isna()) & (data['Deck'] == 'D'),'HomePlanet'] = 'Mars'\n",
        "data.loc[(data['HomePlanet'].isna()) & (data['Deck'] == 'E'),'HomePlanet'] = 'Earth'\n",
        "data.loc[(data['HomePlanet'].isna()) & (data['Deck'] == 'F'),'HomePlanet'] = 'Earth'"
      ]
    },
    {
      "cell_type": "markdown",
      "metadata": {},
      "source": [
        "Now let's do the destination."
      ]
    },
    {
      "cell_type": "code",
      "execution_count": 188,
      "metadata": {},
      "outputs": [
        {
          "data": {
            "image/png": "[encoded data removed]",
            "text/plain": [
              "<Figure size 1152x288 with 1 Axes>"
            ]
          },
          "metadata": {
            "needs_background": "light"
          },
          "output_type": "display_data"
        }
      ],
      "source": [
        "Destination_grouped = data[data['GroupSize']>1].groupby(['Group','LastName'])['LastName'].size().unstack().fillna(0)\n",
        "\n",
        "fig=plt.figure(figsize=(16,4))\n",
        "plt.subplot(1,3,1)\n",
        "sns.countplot((Destination_grouped>0).sum(axis=1))\n",
        "plt.title('Number of unique destinations per group with the same lastname')\n",
        "plt.show()"
      ]
    },
    {
      "cell_type": "markdown",
      "metadata": {},
      "source": [
        "Seems like there a great probability that passengers in groups with the same lastname travel to the same location. We won't really fill a lot of the missing values by using this, but at least it's some."
      ]
    },
    {
      "cell_type": "code",
      "execution_count": 189,
      "metadata": {},
      "outputs": [
        {
          "name": "stdout",
          "output_type": "stream",
          "text": [
            "<class 'pandas.core.frame.DataFrame'>\n",
            "RangeIndex: 12970 entries, 0 to 12969\n",
            "Data columns (total 19 columns):\n",
            " #   Column        Non-Null Count  Dtype  \n",
            "---  ------        --------------  -----  \n",
            " 0   PassengerId   12970 non-null  object \n",
            " 1   HomePlanet    12970 non-null  object \n",
            " 2   CryoSleep     12970 non-null  object \n",
            " 3   Destination   12802 non-null  object \n",
            " 4   Age           12970 non-null  float64\n",
            " 5   VIP           12970 non-null  object \n",
            " 6   RoomService   12970 non-null  float64\n",
            " 7   FoodCourt     12970 non-null  float64\n",
            " 8   ShoppingMall  12970 non-null  float64\n",
            " 9   Spa           12970 non-null  float64\n",
            " 10  VRDeck        12970 non-null  float64\n",
            " 11  TotalSpent    12970 non-null  float64\n",
            " 12  Group         12970 non-null  object \n",
            " 13  ID            12970 non-null  object \n",
            " 14  LastName      12676 non-null  object \n",
            " 15  Deck          12970 non-null  object \n",
            " 16  Number        12970 non-null  object \n",
            " 17  Side          12970 non-null  object \n",
            " 18  GroupSize     12970 non-null  float64\n",
            "dtypes: float64(8), object(11)\n",
            "memory usage: 1.9+ MB\n"
          ]
        }
      ],
      "source": [
        "missing_dest = data.loc[(data['Destination'].isna()) & (data['GroupSize'] > 1)]\n",
        "for i in range(len(missing_dest)) :\n",
        "    for j in range(len(data)) :\n",
        "        if((missing_dest['Group'].iloc[i] == data['Group'].iloc[j]) & (missing_dest['LastName'].iloc[i] == data['LastName'].iloc[j]) & (isinstance(data['Destination'].iloc[j], str))) :           \n",
        "            missing_dest['Destination'].iloc[i] = data['Destination'].iloc[j]\n",
        "            break\n",
        "\n",
        "data.update(missing_dest)\n",
        "data.info()"
      ]
    },
    {
      "cell_type": "markdown",
      "metadata": {},
      "source": [
        "About 100 values was overwritten. \n",
        "\n",
        "We've spent a fair amount of time checking if there is some other way we can impute correct destinations, but there doesn't seem to exist any great correlation to destination. Lets just impute the rest as Trappist-1e."
      ]
    },
    {
      "cell_type": "code",
      "execution_count": 190,
      "metadata": {},
      "outputs": [],
      "source": [
        "data.loc[(data['Destination'].isna()), 'Destination']='TRAPPIST-1e' "
      ]
    },
    {
      "cell_type": "markdown",
      "metadata": {},
      "source": [
        "LastName has done it's job by computing other features so we can safely drop it."
      ]
    },
    {
      "cell_type": "code",
      "execution_count": 191,
      "metadata": {},
      "outputs": [
        {
          "name": "stdout",
          "output_type": "stream",
          "text": [
            "<class 'pandas.core.frame.DataFrame'>\n",
            "RangeIndex: 12970 entries, 0 to 12969\n",
            "Data columns (total 18 columns):\n",
            " #   Column        Non-Null Count  Dtype  \n",
            "---  ------        --------------  -----  \n",
            " 0   PassengerId   12970 non-null  object \n",
            " 1   HomePlanet    12970 non-null  object \n",
            " 2   CryoSleep     12970 non-null  object \n",
            " 3   Destination   12970 non-null  object \n",
            " 4   Age           12970 non-null  float64\n",
            " 5   VIP           12970 non-null  object \n",
            " 6   RoomService   12970 non-null  float64\n",
            " 7   FoodCourt     12970 non-null  float64\n",
            " 8   ShoppingMall  12970 non-null  float64\n",
            " 9   Spa           12970 non-null  float64\n",
            " 10  VRDeck        12970 non-null  float64\n",
            " 11  TotalSpent    12970 non-null  float64\n",
            " 12  Group         12970 non-null  object \n",
            " 13  ID            12970 non-null  object \n",
            " 14  Deck          12970 non-null  object \n",
            " 15  Number        12970 non-null  object \n",
            " 16  Side          12970 non-null  object \n",
            " 17  GroupSize     12970 non-null  float64\n",
            "dtypes: float64(8), object(10)\n",
            "memory usage: 1.8+ MB\n"
          ]
        }
      ],
      "source": [
        "data = data.drop([\"LastName\"], axis=1)\n",
        "data.info()"
      ]
    },
    {
      "cell_type": "markdown",
      "metadata": {},
      "source": [
        "And now we have 0 missing values!\n",
        "\n",
        "Before we combine into test and training sets, lets bin cabin numbers into groups so we can drop it. We want to do this to reduce cardinality."
      ]
    },
    {
      "cell_type": "code",
      "execution_count": 192,
      "metadata": {},
      "outputs": [],
      "source": [
        "data['CabinsOutliers']=(data['Number'].astype(int)==-1).astype(int)\n",
        "data['Cabins0-199']=((data['Number'].astype(int)>=0) & (data['Number'].astype(int)<200)).astype(int)\n",
        "data['Cabins200-399']=((data['Number'].astype(int)>=200) & (data['Number'].astype(int)<400)).astype(int)\n",
        "data['Cabins400-599']=((data['Number'].astype(int)>=400) & (data['Number'].astype(int)<600)).astype(int)\n",
        "data['Cabins600-799']=((data['Number'].astype(int)>=600) & (data['Number'].astype(int)<800)).astype(int)\n",
        "data['Cabins800-999']=((data['Number'].astype(int)>=700) & (data['Number'].astype(int)<1000)).astype(int)\n",
        "data['Cabins1000-1199']=((data['Number'].astype(int)>=1000) & (data['Number'].astype(int)<1200)).astype(int)\n",
        "data['Cabins1200-1399']=((data['Number'].astype(int)>=1200) & (data['Number'].astype(int)<1400)).astype(int)\n",
        "data['Cabins1400-1599']=((data['Number'].astype(int)>=1400) & (data['Number'].astype(int)<1600)).astype(int)\n",
        "data['Cabins1600-1799']=((data['Number'].astype(int)>=1600) & (data['Number'].astype(int)<1800)).astype(int)\n",
        "data['Cabins1800-2000']=(data['Number'].astype(int)>=1800).astype(int)"
      ]
    },
    {
      "cell_type": "code",
      "execution_count": 193,
      "metadata": {},
      "outputs": [],
      "source": [
        "data = data.drop([\"Number\"], axis=1)"
      ]
    },
    {
      "cell_type": "markdown",
      "metadata": {},
      "source": [
        "Let's split the data again."
      ]
    },
    {
      "cell_type": "code",
      "execution_count": 194,
      "metadata": {},
      "outputs": [],
      "source": [
        "# Train and test\n",
        "train = data[data['PassengerId'].isin(train['PassengerId'].values)].copy()\n",
        "train['Transported'] = targetY\n",
        "test = data[data['PassengerId'].isin(test['PassengerId'].values)].copy()"
      ]
    },
    {
      "cell_type": "code",
      "execution_count": 195,
      "metadata": {},
      "outputs": [
        {
          "name": "stdout",
          "output_type": "stream",
          "text": [
            "Cabin outliers in training set: 0\n",
            "Side outliers in training set: 0\n",
            "Cabin outliers in test set: 0\n",
            "Side outliers in test set: 0\n"
          ]
        }
      ],
      "source": [
        "print(\"Cabin outliers in training set:\", (train.loc[train['CabinsOutliers']==1].value_counts().sum())) \n",
        "print(\"Side outliers in training set:\", (train.loc[train['Side']=='X'].value_counts().sum())) \n",
        "print(\"Cabin outliers in test set:\", (test.loc[test['CabinsOutliers']==1].value_counts().sum())) \n",
        "print(\"Side outliers in test set:\", (test.loc[test['Side']=='X'].value_counts().sum())) "
      ]
    },
    {
      "cell_type": "markdown",
      "metadata": {},
      "source": [
        "Because the outlier are all in the training set, were just gonna drop them. There is an outlier on cabin side in the testset and were to afraid to mess with it, so were just gonna leave it as is. Were also dropping the PassengerId seeing as we only needed it to split and combine the training/test set."
      ]
    },
    {
      "cell_type": "code",
      "execution_count": 196,
      "metadata": {},
      "outputs": [],
      "source": [
        "# Dropping the rows\n",
        "train = train.loc[train['CabinsOutliers'] == 0]\n",
        "\n",
        "# Dropping the outlier cabin column from the test and training set\n",
        "train = train.drop([\"CabinsOutliers\", \"PassengerId\"], axis=1)\n",
        "testPassengerId = test['PassengerId']\n",
        "test = test.drop([\"CabinsOutliers\", \"PassengerId\"], axis=1)"
      ]
    },
    {
      "cell_type": "markdown",
      "metadata": {},
      "source": [
        "Now were almost done with data exploration. Just need to encode and transform!"
      ]
    },
    {
      "cell_type": "markdown",
      "metadata": {},
      "source": [
        "#### Encoding\n",
        "We decieded to go with OneHotEncoder and make_column_tranformer to encode the columns.\n",
        "\n",
        "Lets also rename the columns for VIP and Cryosleep cause its not really intuitive."
      ]
    },
    {
      "cell_type": "code",
      "execution_count": 197,
      "metadata": {},
      "outputs": [],
      "source": [
        "transformer = make_column_transformer(\n",
        "    (OneHotEncoder(), ['HomePlanet','CryoSleep','Destination','VIP','Deck','Side']), remainder='passthrough')\n",
        "\n",
        "transformed = transformer.fit_transform(train)\n",
        "transformed_df = pd.DataFrame(transformed, columns=transformer.get_feature_names())\n",
        "train = transformed_df.astype(float)\n",
        "\n",
        "transformed = transformer.fit_transform(test)\n",
        "transformed_df_test = pd.DataFrame(transformed, columns=transformer.get_feature_names())\n",
        "test = transformed_df_test.astype(float)"
      ]
    },
    {
      "cell_type": "code",
      "execution_count": 198,
      "metadata": {},
      "outputs": [],
      "source": [
        "test.rename(columns = {\n",
        "'onehotencoder__x0_Earth': 'HomePlanet_Earth',\n",
        "'onehotencoder__x0_Europa': 'HomePlanet_Europa',\n",
        "'onehotencoder__x0_Mars': 'HomePlanet_Mars',\n",
        "'onehotencoder__x1_False': 'cryosleep_false',\n",
        "'onehotencoder__x1_True': 'cryosleep_true',\n",
        "'onehotencoder__x2_55 Cancri e': 'Destination_55 Cancri e',\n",
        "'onehotencoder__x2_PSO J318.5-22': 'Destination_PSO J318.5-22',\n",
        "'onehotencoder__x2_TRAPPIST-1e': 'Destination_TRAPPIST-1e',\n",
        "'onehotencoder__x3_False': 'VIP_false',\n",
        "'onehotencoder__x3_True': 'VIP_true',\n",
        "'onehotencoder__x4_A': 'Deck_A',\n",
        "'onehotencoder__x4_B': 'Deck_B',\n",
        "'onehotencoder__x4_C': 'Deck_C',\n",
        "'onehotencoder__x4_D': 'Deck_D',\n",
        "'onehotencoder__x4_E': 'Deck_E',\n",
        "'onehotencoder__x4_F': 'Deck_F', \n",
        "'onehotencoder__x4_G': 'Deck_G', \n",
        "'onehotencoder__x4_T': 'Deck_T',\n",
        "'onehotencoder__x5_P': 'Side_P', \n",
        "'onehotencoder__x5_S': 'Side_S'}, \n",
        "inplace=True, errors='raise')\n",
        "\n",
        "train.rename(columns={\n",
        "'onehotencoder__x0_Earth': 'HomePlanet_Earth',\n",
        "'onehotencoder__x0_Europa': 'HomePlanet_Europa',\n",
        "'onehotencoder__x0_Mars': 'HomePlanet_Mars',\n",
        "'onehotencoder__x1_True': 'cryosleep_true',\n",
        "'onehotencoder__x1_False': 'cryosleep_false',\n",
        "'onehotencoder__x2_55 Cancri e': 'Destination_55 Cancri e',\n",
        "'onehotencoder__x2_PSO J318.5-22': 'Destination_PSO J318.5-22',\n",
        "'onehotencoder__x2_TRAPPIST-1e': 'Destination_TRAPPIST-1e',\n",
        "'onehotencoder__x3_True': 'VIP_true',\n",
        "'onehotencoder__x3_False': 'VIP_false',\n",
        "'onehotencoder__x4_A': 'Deck_A',\n",
        "'onehotencoder__x4_B': 'Deck_B',\n",
        "'onehotencoder__x4_C': 'Deck_C',\n",
        "'onehotencoder__x4_D': 'Deck_D',\n",
        "'onehotencoder__x4_E': 'Deck_E',\n",
        "'onehotencoder__x4_F': 'Deck_F', \n",
        "'onehotencoder__x4_G': 'Deck_G', \n",
        "'onehotencoder__x4_T': 'Deck_T',\n",
        "'onehotencoder__x5_P': 'Side_P', \n",
        "'onehotencoder__x5_S': 'Side_S'}, \n",
        "inplace=True, errors='raise')"
      ]
    },
    {
      "cell_type": "markdown",
      "metadata": {},
      "source": [
        "Splitting the data into training and validation sets. We have the target stored as targetY from when we concatinated the train and test data."
      ]
    },
    {
      "cell_type": "code",
      "execution_count": 199,
      "metadata": {},
      "outputs": [
        {
          "name": "stdout",
          "output_type": "stream",
          "text": [
            "Index(['HomePlanet_Earth', 'HomePlanet_Europa', 'HomePlanet_Mars',\n",
            "       'cryosleep_false', 'cryosleep_true', 'Destination_55 Cancri e',\n",
            "       'Destination_PSO J318.5-22', 'Destination_TRAPPIST-1e', 'VIP_false',\n",
            "       'VIP_true', 'Deck_A', 'Deck_B', 'Deck_C', 'Deck_D', 'Deck_E', 'Deck_F',\n",
            "       'Deck_G', 'Deck_T', 'Side_P', 'Side_S', 'Age', 'RoomService',\n",
            "       'FoodCourt', 'ShoppingMall', 'Spa', 'VRDeck', 'TotalSpent', 'Group',\n",
            "       'ID', 'GroupSize', 'Cabins0-199', 'Cabins200-399', 'Cabins400-599',\n",
            "       'Cabins600-799', 'Cabins800-999', 'Cabins1000-1199', 'Cabins1200-1399',\n",
            "       'Cabins1400-1599', 'Cabins1600-1799', 'Cabins1800-2000', 'Transported'],\n",
            "      dtype='object')\n"
          ]
        }
      ],
      "source": [
        "print(train.columns)"
      ]
    },
    {
      "cell_type": "code",
      "execution_count": 200,
      "metadata": {},
      "outputs": [],
      "source": [
        "X = train.drop(['Transported'], axis=1)\n",
        "y = train['Transported']"
      ]
    },
    {
      "cell_type": "code",
      "execution_count": 201,
      "metadata": {},
      "outputs": [],
      "source": [
        "X_train, X_val, y_train, y_val = train_test_split(X, y, random_state = 42)"
      ]
    },
    {
      "cell_type": "markdown",
      "metadata": {},
      "source": [
        "Scaling the data."
      ]
    },
    {
      "cell_type": "code",
      "execution_count": 202,
      "metadata": {},
      "outputs": [],
      "source": [
        "std = StandardScaler()\n",
        "\n",
        "X_train_std = std.fit_transform(X_train)\n",
        "X_val_std = std.fit_transform(X_val) "
      ]
    },
    {
      "cell_type": "markdown",
      "metadata": {},
      "source": [
        "# 5. Explore many different models and short-list the best ones\n"
      ]
    },
    {
      "cell_type": "markdown",
      "metadata": {},
      "source": [
        "### Creating training and validation sets"
      ]
    },
    {
      "cell_type": "markdown",
      "metadata": {},
      "source": [
        "Scaling data for the models that needs it."
      ]
    },
    {
      "cell_type": "code",
      "execution_count": 203,
      "metadata": {},
      "outputs": [],
      "source": [
        "# Random state for reproducability\n",
        "rndState = 20\n",
        "\n",
        "# Create an array of models\n",
        "models = []\n",
        "# models.append(('LR', LogisticRegression(random_state = rndState)))\n",
        "# models.append(('SGD', SGDClassifier(random_state = rndState)))\n",
        "# models.append(('GNB', GaussianNB()))\n",
        "# models.append(('KNN', KNeighborsClassifier()))\n",
        "models.append(('CATB', CatBoostClassifier(random_state = rndState, verbose = False)))\n",
        "models.append(('LGBM', lgb.LGBMClassifier(random_state = rndState)))\n",
        "# models.append(('XGB', xgb.XGBClassifier(random_state = rndState)))\n",
        "# models.append(('RFC', RandomForestClassifier(random_state = rndState)))\n",
        "models.append(('GBC', GradientBoostingClassifier(random_state = rndState)))\n",
        "# models.append(('SVC', svc(random_state = rndState)))\n",
        "# models.append(('DT', DecisionTreeClassifier(random_state = rndState)))\n"
      ]
    },
    {
      "cell_type": "code",
      "execution_count": 204,
      "metadata": {},
      "outputs": [
        {
          "name": "stdout",
          "output_type": "stream",
          "text": [
            "CATB: 0.819298 (0.011360)\n"
          ]
        },
        {
          "data": {
            "image/png": "[encoded data removed]",
            "text/plain": [
              "<Figure size 720x720 with 1 Axes>"
            ]
          },
          "metadata": {
            "needs_background": "light"
          },
          "output_type": "display_data"
        },
        {
          "name": "stdout",
          "output_type": "stream",
          "text": [
            "LGBM: 0.810862 (0.014252)\n"
          ]
        },
        {
          "data": {
            "image/png": "[encoded data removed]",
            "text/plain": [
              "<Figure size 720x720 with 1 Axes>"
            ]
          },
          "metadata": {
            "needs_background": "light"
          },
          "output_type": "display_data"
        },
        {
          "name": "stdout",
          "output_type": "stream",
          "text": [
            "GBC: 0.803959 (0.011815)\n"
          ]
        },
        {
          "data": {
            "image/png": "[encoded data removed]",
            "text/plain": [
              "<Figure size 720x720 with 1 Axes>"
            ]
          },
          "metadata": {
            "needs_background": "light"
          },
          "output_type": "display_data"
        }
      ],
      "source": [
        "results = []\n",
        "names = []\n",
        "scoring = 'accuracy'\n",
        "seed = 10\n",
        "\n",
        "# Scoring each model individually\n",
        "for name, model in models:\n",
        "\tkfold = model_selection.KFold(n_splits=10)\n",
        "\tif name == 'SGD' :\n",
        "\t\tcv_results = model_selection.cross_val_score(model, X_train_std, y_train, cv=kfold, scoring=scoring)\n",
        "\telse :\n",
        "\t\tcv_results = model_selection.cross_val_score(model, X_train, y_train, cv=kfold, scoring=scoring)\n",
        "\tmsg = \"%s: %f (%f)\" % (name, cv_results.mean(), cv_results.std())\n",
        "\tprint(msg)\n",
        "\n",
        "\t# get importance\n",
        "\tmodel.fit(X_train, y_train)\n",
        "\timportances = pd.DataFrame(data={\n",
        "    'Attribute': X_train.columns,\n",
        "    'Importance': model.feature_importances_\n",
        "\t})\n",
        "\timportances = importances.sort_values(by='Importance', ascending=False)\n",
        "\tplt.subplots(figsize=(10, 10))\n",
        "\tplt.bar(x=importances['Attribute'], height=importances['Importance'], color='#087E8B')\n",
        "\tplt.title('Feature importances', size=20)\n",
        "\tplt.xticks(rotation='vertical')\n",
        "\tplt.show()\n",
        "\n"
      ]
    },
    {
      "cell_type": "markdown",
      "metadata": {},
      "source": [
        "Based on the results we continue with CATB, LGBM and GBC. Even though XGB scored well, it's a slow model and produces similar results to LGBM. The most important features seems to differ a bit, which is good.\n",
        "\n",
        "Let's do some grid searching to find the best parameters."
      ]
    },
    {
      "cell_type": "markdown",
      "metadata": {},
      "source": [
        "# 6. Fine-tune your models and combine them into a great solution\n"
      ]
    },
    {
      "cell_type": "code",
      "execution_count": 205,
      "metadata": {},
      "outputs": [
        {
          "name": "stdout",
          "output_type": "stream",
          "text": [
            "CATB: 0.799448 (1.350000 min) {'depth': 6, 'learning_rate': 0.08, 'n_estimators': 200}\n",
            "LGBM: 0.809568 (0.140000 min) {'depth': 6, 'learning_rate': 0.05, 'n_estimators': 200}\n",
            "GBC: 0.794848 (3.580000 min) {'learning_rate': 0.05, 'max_depth': 5, 'min_samples_leaf': 5, 'min_samples_split': 5, 'n_estimators': 400}\n"
          ]
        }
      ],
      "source": [
        "Boost_params = {'learning_rate': [0.05, 0.08, 0.1],\n",
        "                'n_estimators' : [200, 300],\n",
        "                'depth'        : [6, 7, 8]}\n",
        "\n",
        "GBC_params = {\n",
        "    \"learning_rate\": [0.05, 0.08, 0.1],\n",
        "    \"min_samples_split\": [5,7],\n",
        "    \"min_samples_leaf\": [3,5],\n",
        "    \"max_depth\":[3,5],\n",
        "    \"n_estimators\":[300, 400]}\n",
        "\n",
        "for name, model in models :\n",
        "\n",
        "    start = time.time()\n",
        "    if name == 'GBC':\n",
        "        clf = GridSearchCV(estimator=model, param_grid=GBC_params, n_jobs=-1, cv=None)\n",
        "    else :\n",
        "        clf = GridSearchCV(estimator=model, param_grid=Boost_params, n_jobs=-1, cv=None)\n",
        "\n",
        "    clf.fit(X_train, y_train)\n",
        "    val_scores = clf.score(X_val, y_val)   \n",
        "\n",
        "    stop = time.time()\n",
        "    training_time = np.round((stop - start)/60, 2)\n",
        "    \n",
        "    msg = \"%s: %f (%f min) %s\" % (name, val_scores, training_time, clf.best_params_)\n",
        "    print(msg)"
      ]
    },
    {
      "cell_type": "code",
      "execution_count": 206,
      "metadata": {},
      "outputs": [],
      "source": [
        "models = []\n",
        "models.append(('CATB', CatBoostClassifier(depth = 6, learning_rate = 0.05, n_estimators = 200, verbose=False, random_state=rndState)))\n",
        "models.append(('LGBM', lgb.LGBMClassifier(depth = 7, learning_rate=0.08, n_estimators=200, random_state=rndState)))\n",
        "models.append(('GBC', GradientBoostingClassifier(max_depth=5, learning_rate=0.05, min_samples_leaf=3, min_samples_split=7, n_estimators=400, subsample=0.92, random_state=rndState)))"
      ]
    },
    {
      "cell_type": "markdown",
      "metadata": {},
      "source": [
        "- CATB: 0.815556 (49.090000 min) {'depth': 7, 'learning_rate': 0.05, 'n_estimators': 300}\n",
        "- LGBM: 0.806222 (3.130000 min) {'depth': 6, 'learning_rate': 0.05, 'n_estimators': 200}\n",
        "- RFC: 0.796889 (2.400000 min) {'max_depth': 12, 'n_estimators': 300}\n",
        "\n",
        "Dropping XGBoost cause it's pretty similar to LGBM. If RFC makes mistakes different too LGBM and CATB were keeping that. Same goes with GBC.\n"
      ]
    },
    {
      "cell_type": "code",
      "execution_count": 207,
      "metadata": {},
      "outputs": [
        {
          "name": "stdout",
          "output_type": "stream",
          "text": [
            "0.8137765872230547\n"
          ]
        }
      ],
      "source": [
        "finalModel = VotingClassifier(estimators = models, voting = 'soft', n_jobs = -1)\n",
        "finalModel.fit(X_train, y_train)\n",
        "kfold = model_selection.KFold(n_splits=10)\n",
        "cv_results = model_selection.cross_val_score(finalModel, X_train, y_train, cv=kfold, scoring=scoring)\n",
        "print(cv_results.mean())"
      ]
    },
    {
      "cell_type": "code",
      "execution_count": 208,
      "metadata": {},
      "outputs": [],
      "source": [
        "finalModel.fit(X, y)\n",
        "y_pred = finalModel.predict(test)"
      ]
    },
    {
      "cell_type": "code",
      "execution_count": 209,
      "metadata": {},
      "outputs": [],
      "source": [
        "y_pred = list(map(lambda x: True if x == 1 else False, y_pred) )"
      ]
    },
    {
      "cell_type": "code",
      "execution_count": 210,
      "metadata": {},
      "outputs": [],
      "source": [
        "submission = pd.DataFrame({'PassengerId':testPassengerId,'Transported': y_pred})"
      ]
    },
    {
      "cell_type": "code",
      "execution_count": 211,
      "metadata": {},
      "outputs": [
        {
          "data": {
            "text/html": [
              "<div>\n",
              "<style scoped>\n",
              "    .dataframe tbody tr th:only-of-type {\n",
              "        vertical-align: middle;\n",
              "    }\n",
              "\n",
              "    .dataframe tbody tr th {\n",
              "        vertical-align: top;\n",
              "    }\n",
              "\n",
              "    .dataframe thead th {\n",
              "        text-align: right;\n",
              "    }\n",
              "</style>\n",
              "<table border=\"1\" class=\"dataframe\">\n",
              "  <thead>\n",
              "    <tr style=\"text-align: right;\">\n",
              "      <th></th>\n",
              "      <th>PassengerId</th>\n",
              "      <th>Transported</th>\n",
              "    </tr>\n",
              "  </thead>\n",
              "  <tbody>\n",
              "    <tr>\n",
              "      <th>8693</th>\n",
              "      <td>0013_01</td>\n",
              "      <td>True</td>\n",
              "    </tr>\n",
              "    <tr>\n",
              "      <th>8694</th>\n",
              "      <td>0018_01</td>\n",
              "      <td>False</td>\n",
              "    </tr>\n",
              "    <tr>\n",
              "      <th>8695</th>\n",
              "      <td>0019_01</td>\n",
              "      <td>True</td>\n",
              "    </tr>\n",
              "    <tr>\n",
              "      <th>8696</th>\n",
              "      <td>0021_01</td>\n",
              "      <td>True</td>\n",
              "    </tr>\n",
              "    <tr>\n",
              "      <th>8697</th>\n",
              "      <td>0023_01</td>\n",
              "      <td>True</td>\n",
              "    </tr>\n",
              "  </tbody>\n",
              "</table>\n",
              "</div>"
            ],
            "text/plain": [
              "     PassengerId  Transported\n",
              "8693     0013_01         True\n",
              "8694     0018_01        False\n",
              "8695     0019_01         True\n",
              "8696     0021_01         True\n",
              "8697     0023_01         True"
            ]
          },
          "execution_count": 211,
          "metadata": {},
          "output_type": "execute_result"
        }
      ],
      "source": [
        "submission.head()"
      ]
    },
    {
      "cell_type": "code",
      "execution_count": 212,
      "metadata": {},
      "outputs": [],
      "source": [
        "submission.to_csv('submission.csv', index=False)"
      ]
    },
    {
      "cell_type": "code",
      "execution_count": 213,
      "metadata": {},
      "outputs": [],
      "source": [
        "from pathlib import Path"
      ]
    },
    {
      "cell_type": "code",
      "execution_count": 214,
      "metadata": {},
      "outputs": [],
      "source": [
        "NB_DIR = Path.cwd()"
      ]
    },
    {
      "cell_type": "code",
      "execution_count": 215,
      "metadata": {},
      "outputs": [],
      "source": [
        "MODEL_DIR = NB_DIR/'..'/'models'"
      ]
    },
    {
      "cell_type": "code",
      "execution_count": 216,
      "metadata": {},
      "outputs": [],
      "source": [
        "from joblib import dump"
      ]
    },
    {
      "cell_type": "code",
      "execution_count": 217,
      "metadata": {},
      "outputs": [
        {
          "data": {
            "text/plain": [
              "['c:\\\\Users\\\\ander\\\\OneDrive - Høgskulen på Vestlandet\\\\Semester 5\\\\DAT158 Maskinlæring og videregående algoritmer\\\\Maskinlæring\\\\ML workspace\\\\SpaceTitanic\\\\nbs\\\\..\\\\models\\\\spaceship_survivor_predictor.joblib']"
            ]
          },
          "execution_count": 217,
          "metadata": {},
          "output_type": "execute_result"
        }
      ],
      "source": [
        "dump(finalModel, MODEL_DIR/'spaceship_survivor_predictor.joblib', compress=6)"
      ]
    },
    {
      "cell_type": "markdown",
      "metadata": {},
      "source": [
        "# 7. Present your solution"
      ]
    },
    {
      "cell_type": "markdown",
      "metadata": {},
      "source": [
        "\n",
        "    This dataset is all about cleaning, and how well you do it is how well the model will perform! We have used many different techniques to clean the data, but mostly we have used other features to compute the missing values.\n",
        "\n",
        "    The most important features is undoubtedly cryosleep, age and total_spending"
      ]
    },
    {
      "cell_type": "markdown",
      "metadata": {},
      "source": [
        "# 8. Launch, monitor, and maintain your system\n"
      ]
    },
    {
      "cell_type": "markdown",
      "metadata": {},
      "source": [
        "**We have used flask to deploy our system! After that we made a short videopresentation where we showed how the model can be used by the user.**"
      ]
    }
  ],
  "metadata": {
    "kernelspec": {
      "display_name": "Python 3.10.4 ('dat158')",
      "language": "python",
      "name": "python3"
    },
    "language_info": {
      "codemirror_mode": {
        "name": "ipython",
        "version": 3
      },
      "file_extension": ".py",
      "mimetype": "text/x-python",
      "name": "python",
      "nbconvert_exporter": "python",
      "pygments_lexer": "ipython3",
      "version": "3.10.4"
    },
    "orig_nbformat": 4,
    "vscode": {
      "interpreter": {
        "hash": "11bfc4945058bc869480140594901e3d642447e89a03c3addf78e6b0d30c4634"
      }
    }
  },
  "nbformat": 4,
  "nbformat_minor": 2
}
