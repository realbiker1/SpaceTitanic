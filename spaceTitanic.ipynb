{
  "cells": [
    {
      "cell_type": "markdown",
      "metadata": {},
      "source": [
        "# Spaceship Titanic Kaggle Competition"
      ]
    },
    {
      "cell_type": "markdown",
      "metadata": {},
      "source": [
        "![spaceship](./img/798114.jpg)\n",
        "# 1. Frame the problem and look at the big picture\n",
        "*Define the objective in business terms.\n",
        "How will your solution be used?\n",
        "What are the current solutions/workarounds (if any)?\n",
        "How should you frame this problem (supervised/unsupervised, online/offline, etc.)?\n",
        "How should performance be measured?\n",
        "Is the performance measure aligned with the business objective?\n",
        "What would be the minimum performance needed to reach the business objectives?\n",
        "What are comparable problems? Can you reuse experience or tools?\n",
        "Is human expertise available?\n",
        "How would you solve the problem manually?\n",
        "List the assumptions you (or others) have made so far.\n",
        "Verify assumptions if possible.*"
      ]
    },
    {
      "cell_type": "markdown",
      "metadata": {},
      "source": [
        "We first found the Titanic dataset and found it pretty interesting, but a bit unoriginal. We then explored the kaggle competions further and found this spin on the classic dataset. We deemed this Spaceship Titanic would give us a fair challenge on our machine learning abilities, while not being too difficult.\n",
        "\n",
        "This dataset is purely fictional and doesn't provide much in terms of usability. Still, we believed that picking a task that is fun to work with, will produce the best results."
      ]
    },
    {
      "cell_type": "markdown",
      "metadata": {},
      "source": [
        "# 2. Get the data\n",
        "*List the data you need and how much you need.\n",
        "Find and document where you can get that data.\n",
        "Check how much space it will take.\n",
        "Check legal obligations, and get authorization if necessary.\n",
        "Get access authorizations.\n",
        "Create a workspace (with enough storage space).\n",
        "Get the data.\n",
        "Convert the data to a format you can easily manipulate (without changing the data itself).\n",
        "Ensure sensitive information is deleted or protected (e.g., anonymized).\n",
        "Check the size and type of data (time series, sample, geographical, etc.).\n",
        "Create a test set, put it aside, and never look at it (no data snooping!).*"
      ]
    },
    {
      "cell_type": "markdown",
      "metadata": {},
      "source": [
        "## Setup"
      ]
    },
    {
      "cell_type": "code",
      "execution_count": 4,
      "metadata": {},
      "outputs": [
        {
          "ename": "ModuleNotFoundError",
          "evalue": "No module named 'sklearn'",
          "output_type": "error",
          "traceback": [
            "\u001b[1;31m---------------------------------------------------------------------------\u001b[0m",
            "\u001b[1;31mModuleNotFoundError\u001b[0m                       Traceback (most recent call last)",
            "\u001b[1;32mc:\\Users\\logga\\Documents\\Koding\\VSC\\MachineLearning\\assignment2\\spaceTitanic.ipynb Cell 6\u001b[0m in \u001b[0;36m<cell line: 6>\u001b[1;34m()\u001b[0m\n\u001b[0;32m      <a href='vscode-notebook-cell:/c%3A/Users/logga/Documents/Koding/VSC/MachineLearning/assignment2/spaceTitanic.ipynb#X10sZmlsZQ%3D%3D?line=3'>4</a>\u001b[0m \u001b[39mimport\u001b[39;00m \u001b[39mseaborn\u001b[39;00m \u001b[39mas\u001b[39;00m \u001b[39msns\u001b[39;00m\n\u001b[0;32m      <a href='vscode-notebook-cell:/c%3A/Users/logga/Documents/Koding/VSC/MachineLearning/assignment2/spaceTitanic.ipynb#X10sZmlsZQ%3D%3D?line=4'>5</a>\u001b[0m \u001b[39mfrom\u001b[39;00m \u001b[39mpathlib\u001b[39;00m \u001b[39mimport\u001b[39;00m Path\n\u001b[1;32m----> <a href='vscode-notebook-cell:/c%3A/Users/logga/Documents/Koding/VSC/MachineLearning/assignment2/spaceTitanic.ipynb#X10sZmlsZQ%3D%3D?line=5'>6</a>\u001b[0m \u001b[39mimport\u001b[39;00m \u001b[39msklearn\u001b[39;00m\n",
            "\u001b[1;31mModuleNotFoundError\u001b[0m: No module named 'sklearn'"
          ]
        }
      ],
      "source": [
        "# Imports\n",
        "%matplotlib inline\n",
        "import numpy as np, pandas as pd, matplotlib.pyplot as plt\n",
        "import seaborn as sns\n",
        "from pathlib import Path\n",
        "import sklearn"
      ]
    },
    {
      "cell_type": "code",
      "execution_count": null,
      "metadata": {},
      "outputs": [],
      "source": [
        "# Saving train and test set to dataframe\n",
        "train = pd.read_csv(r\"DATA\\train.csv\")\n",
        "test = pd.read_csv(r\"DATA\\test.csv\")"
      ]
    },
    {
      "cell_type": "code",
      "execution_count": null,
      "metadata": {},
      "outputs": [
        {
          "name": "stdout",
          "output_type": "stream",
          "text": [
            "Train shape: (8693, 14)\n"
          ]
        },
        {
          "data": {
            "text/html": [
              "<div>\n",
              "<style scoped>\n",
              "    .dataframe tbody tr th:only-of-type {\n",
              "        vertical-align: middle;\n",
              "    }\n",
              "\n",
              "    .dataframe tbody tr th {\n",
              "        vertical-align: top;\n",
              "    }\n",
              "\n",
              "    .dataframe thead th {\n",
              "        text-align: right;\n",
              "    }\n",
              "</style>\n",
              "<table border=\"1\" class=\"dataframe\">\n",
              "  <thead>\n",
              "    <tr style=\"text-align: right;\">\n",
              "      <th></th>\n",
              "      <th>PassengerId</th>\n",
              "      <th>HomePlanet</th>\n",
              "      <th>CryoSleep</th>\n",
              "      <th>Cabin</th>\n",
              "      <th>Destination</th>\n",
              "      <th>Age</th>\n",
              "      <th>VIP</th>\n",
              "      <th>RoomService</th>\n",
              "      <th>FoodCourt</th>\n",
              "      <th>ShoppingMall</th>\n",
              "      <th>Spa</th>\n",
              "      <th>VRDeck</th>\n",
              "      <th>Name</th>\n",
              "      <th>Transported</th>\n",
              "    </tr>\n",
              "  </thead>\n",
              "  <tbody>\n",
              "    <tr>\n",
              "      <th>0</th>\n",
              "      <td>0001_01</td>\n",
              "      <td>Europa</td>\n",
              "      <td>False</td>\n",
              "      <td>B/0/P</td>\n",
              "      <td>TRAPPIST-1e</td>\n",
              "      <td>39.0</td>\n",
              "      <td>False</td>\n",
              "      <td>0.0</td>\n",
              "      <td>0.0</td>\n",
              "      <td>0.0</td>\n",
              "      <td>0.0</td>\n",
              "      <td>0.0</td>\n",
              "      <td>Maham Ofracculy</td>\n",
              "      <td>False</td>\n",
              "    </tr>\n",
              "    <tr>\n",
              "      <th>1</th>\n",
              "      <td>0002_01</td>\n",
              "      <td>Earth</td>\n",
              "      <td>False</td>\n",
              "      <td>F/0/S</td>\n",
              "      <td>TRAPPIST-1e</td>\n",
              "      <td>24.0</td>\n",
              "      <td>False</td>\n",
              "      <td>109.0</td>\n",
              "      <td>9.0</td>\n",
              "      <td>25.0</td>\n",
              "      <td>549.0</td>\n",
              "      <td>44.0</td>\n",
              "      <td>Juanna Vines</td>\n",
              "      <td>True</td>\n",
              "    </tr>\n",
              "    <tr>\n",
              "      <th>2</th>\n",
              "      <td>0003_01</td>\n",
              "      <td>Europa</td>\n",
              "      <td>False</td>\n",
              "      <td>A/0/S</td>\n",
              "      <td>TRAPPIST-1e</td>\n",
              "      <td>58.0</td>\n",
              "      <td>True</td>\n",
              "      <td>43.0</td>\n",
              "      <td>3576.0</td>\n",
              "      <td>0.0</td>\n",
              "      <td>6715.0</td>\n",
              "      <td>49.0</td>\n",
              "      <td>Altark Susent</td>\n",
              "      <td>False</td>\n",
              "    </tr>\n",
              "    <tr>\n",
              "      <th>3</th>\n",
              "      <td>0003_02</td>\n",
              "      <td>Europa</td>\n",
              "      <td>False</td>\n",
              "      <td>A/0/S</td>\n",
              "      <td>TRAPPIST-1e</td>\n",
              "      <td>33.0</td>\n",
              "      <td>False</td>\n",
              "      <td>0.0</td>\n",
              "      <td>1283.0</td>\n",
              "      <td>371.0</td>\n",
              "      <td>3329.0</td>\n",
              "      <td>193.0</td>\n",
              "      <td>Solam Susent</td>\n",
              "      <td>False</td>\n",
              "    </tr>\n",
              "    <tr>\n",
              "      <th>4</th>\n",
              "      <td>0004_01</td>\n",
              "      <td>Earth</td>\n",
              "      <td>False</td>\n",
              "      <td>F/1/S</td>\n",
              "      <td>TRAPPIST-1e</td>\n",
              "      <td>16.0</td>\n",
              "      <td>False</td>\n",
              "      <td>303.0</td>\n",
              "      <td>70.0</td>\n",
              "      <td>151.0</td>\n",
              "      <td>565.0</td>\n",
              "      <td>2.0</td>\n",
              "      <td>Willy Santantines</td>\n",
              "      <td>True</td>\n",
              "    </tr>\n",
              "  </tbody>\n",
              "</table>\n",
              "</div>"
            ],
            "text/plain": [
              "  PassengerId HomePlanet CryoSleep  Cabin  Destination   Age    VIP  \\\n",
              "0     0001_01     Europa     False  B/0/P  TRAPPIST-1e  39.0  False   \n",
              "1     0002_01      Earth     False  F/0/S  TRAPPIST-1e  24.0  False   \n",
              "2     0003_01     Europa     False  A/0/S  TRAPPIST-1e  58.0   True   \n",
              "3     0003_02     Europa     False  A/0/S  TRAPPIST-1e  33.0  False   \n",
              "4     0004_01      Earth     False  F/1/S  TRAPPIST-1e  16.0  False   \n",
              "\n",
              "   RoomService  FoodCourt  ShoppingMall     Spa  VRDeck               Name  \\\n",
              "0          0.0        0.0           0.0     0.0     0.0    Maham Ofracculy   \n",
              "1        109.0        9.0          25.0   549.0    44.0       Juanna Vines   \n",
              "2         43.0     3576.0           0.0  6715.0    49.0      Altark Susent   \n",
              "3          0.0     1283.0         371.0  3329.0   193.0       Solam Susent   \n",
              "4        303.0       70.0         151.0   565.0     2.0  Willy Santantines   \n",
              "\n",
              "   Transported  \n",
              "0        False  \n",
              "1         True  \n",
              "2        False  \n",
              "3        False  \n",
              "4         True  "
            ]
          },
          "execution_count": 3,
          "metadata": {},
          "output_type": "execute_result"
        }
      ],
      "source": [
        "# Train preview\n",
        "print(\"Train shape:\", train.shape)\n",
        "train.head()"
      ]
    },
    {
      "cell_type": "code",
      "execution_count": null,
      "metadata": {},
      "outputs": [
        {
          "name": "stdout",
          "output_type": "stream",
          "text": [
            "Test shape: (4277, 13)\n"
          ]
        },
        {
          "data": {
            "text/html": [
              "<div>\n",
              "<style scoped>\n",
              "    .dataframe tbody tr th:only-of-type {\n",
              "        vertical-align: middle;\n",
              "    }\n",
              "\n",
              "    .dataframe tbody tr th {\n",
              "        vertical-align: top;\n",
              "    }\n",
              "\n",
              "    .dataframe thead th {\n",
              "        text-align: right;\n",
              "    }\n",
              "</style>\n",
              "<table border=\"1\" class=\"dataframe\">\n",
              "  <thead>\n",
              "    <tr style=\"text-align: right;\">\n",
              "      <th></th>\n",
              "      <th>PassengerId</th>\n",
              "      <th>HomePlanet</th>\n",
              "      <th>CryoSleep</th>\n",
              "      <th>Cabin</th>\n",
              "      <th>Destination</th>\n",
              "      <th>Age</th>\n",
              "      <th>VIP</th>\n",
              "      <th>RoomService</th>\n",
              "      <th>FoodCourt</th>\n",
              "      <th>ShoppingMall</th>\n",
              "      <th>Spa</th>\n",
              "      <th>VRDeck</th>\n",
              "      <th>Name</th>\n",
              "    </tr>\n",
              "  </thead>\n",
              "  <tbody>\n",
              "    <tr>\n",
              "      <th>0</th>\n",
              "      <td>0013_01</td>\n",
              "      <td>Earth</td>\n",
              "      <td>True</td>\n",
              "      <td>G/3/S</td>\n",
              "      <td>TRAPPIST-1e</td>\n",
              "      <td>27.0</td>\n",
              "      <td>False</td>\n",
              "      <td>0.0</td>\n",
              "      <td>0.0</td>\n",
              "      <td>0.0</td>\n",
              "      <td>0.0</td>\n",
              "      <td>0.0</td>\n",
              "      <td>Nelly Carsoning</td>\n",
              "    </tr>\n",
              "    <tr>\n",
              "      <th>1</th>\n",
              "      <td>0018_01</td>\n",
              "      <td>Earth</td>\n",
              "      <td>False</td>\n",
              "      <td>F/4/S</td>\n",
              "      <td>TRAPPIST-1e</td>\n",
              "      <td>19.0</td>\n",
              "      <td>False</td>\n",
              "      <td>0.0</td>\n",
              "      <td>9.0</td>\n",
              "      <td>0.0</td>\n",
              "      <td>2823.0</td>\n",
              "      <td>0.0</td>\n",
              "      <td>Lerome Peckers</td>\n",
              "    </tr>\n",
              "    <tr>\n",
              "      <th>2</th>\n",
              "      <td>0019_01</td>\n",
              "      <td>Europa</td>\n",
              "      <td>True</td>\n",
              "      <td>C/0/S</td>\n",
              "      <td>55 Cancri e</td>\n",
              "      <td>31.0</td>\n",
              "      <td>False</td>\n",
              "      <td>0.0</td>\n",
              "      <td>0.0</td>\n",
              "      <td>0.0</td>\n",
              "      <td>0.0</td>\n",
              "      <td>0.0</td>\n",
              "      <td>Sabih Unhearfus</td>\n",
              "    </tr>\n",
              "    <tr>\n",
              "      <th>3</th>\n",
              "      <td>0021_01</td>\n",
              "      <td>Europa</td>\n",
              "      <td>False</td>\n",
              "      <td>C/1/S</td>\n",
              "      <td>TRAPPIST-1e</td>\n",
              "      <td>38.0</td>\n",
              "      <td>False</td>\n",
              "      <td>0.0</td>\n",
              "      <td>6652.0</td>\n",
              "      <td>0.0</td>\n",
              "      <td>181.0</td>\n",
              "      <td>585.0</td>\n",
              "      <td>Meratz Caltilter</td>\n",
              "    </tr>\n",
              "    <tr>\n",
              "      <th>4</th>\n",
              "      <td>0023_01</td>\n",
              "      <td>Earth</td>\n",
              "      <td>False</td>\n",
              "      <td>F/5/S</td>\n",
              "      <td>TRAPPIST-1e</td>\n",
              "      <td>20.0</td>\n",
              "      <td>False</td>\n",
              "      <td>10.0</td>\n",
              "      <td>0.0</td>\n",
              "      <td>635.0</td>\n",
              "      <td>0.0</td>\n",
              "      <td>0.0</td>\n",
              "      <td>Brence Harperez</td>\n",
              "    </tr>\n",
              "  </tbody>\n",
              "</table>\n",
              "</div>"
            ],
            "text/plain": [
              "  PassengerId HomePlanet CryoSleep  Cabin  Destination   Age    VIP  \\\n",
              "0     0013_01      Earth      True  G/3/S  TRAPPIST-1e  27.0  False   \n",
              "1     0018_01      Earth     False  F/4/S  TRAPPIST-1e  19.0  False   \n",
              "2     0019_01     Europa      True  C/0/S  55 Cancri e  31.0  False   \n",
              "3     0021_01     Europa     False  C/1/S  TRAPPIST-1e  38.0  False   \n",
              "4     0023_01      Earth     False  F/5/S  TRAPPIST-1e  20.0  False   \n",
              "\n",
              "   RoomService  FoodCourt  ShoppingMall     Spa  VRDeck              Name  \n",
              "0          0.0        0.0           0.0     0.0     0.0   Nelly Carsoning  \n",
              "1          0.0        9.0           0.0  2823.0     0.0    Lerome Peckers  \n",
              "2          0.0        0.0           0.0     0.0     0.0   Sabih Unhearfus  \n",
              "3          0.0     6652.0           0.0   181.0   585.0  Meratz Caltilter  \n",
              "4         10.0        0.0         635.0     0.0     0.0   Brence Harperez  "
            ]
          },
          "execution_count": 4,
          "metadata": {},
          "output_type": "execute_result"
        }
      ],
      "source": [
        "# Test preview\n",
        "print(\"Test shape:\", test.shape)\n",
        "test.head()"
      ]
    },
    {
      "cell_type": "markdown",
      "metadata": {},
      "source": [
        "The testset seems to contain 1/3 of total data, and the training set contains 2/3. Everything good so far."
      ]
    },
    {
      "cell_type": "markdown",
      "metadata": {},
      "source": [
        "# 3. Explore the data to gain insights\n",
        "*Create a copy of the data for exploration (sampling it down to a manageable size if necessary).\n",
        "Create a Jupyter notebook to keep a record of your data exploration.\n",
        "Study each attribute and its characteristics:*\n",
        "- *Name*\n",
        "- *Type (categorical, int/float, bounded/unbounded, text, structured, etc.)*\n",
        "- *% of missing values*\n",
        "- *Noisiness and type of noise (stochastic, outliers, rounding errors, etc.)*\n",
        "- *Usefulness for the task*\n",
        "- *Type of distribution (Gaussian, uniform, logarithmic, etc.)*.\n",
        "\n",
        "*For supervised learning tasks, identify the target attribute(s).\n",
        "Visualize the data.\n",
        "Study the correlations between attributes.\n",
        "Study how you would solve the problem manually.\n",
        "Identify the promising transformations you may want to apply.\n",
        "Identify extra data that would be useful\n",
        "Document what you have learned.*"
      ]
    },
    {
      "cell_type": "markdown",
      "metadata": {},
      "source": [
        "## Feature explanation\n",
        "*From the competition description*\n",
        "- >PassengerId - A unique Id for each passenger. Each Id takes the form gggg_pp where gggg indicates a group the passenger is travelling with and pp is their number within the group. People in a group are often family members, but not always.\n",
        "- >HomePlanet - The planet the passenger departed from, typically their planet of permanent residence.\n",
        "- >CryoSleep - Indicates whether the passenger elected to be put into suspended animation for the duration of the voyage. Passengers in cryosleep are confined to their cabins.\n",
        "- >Cabin - The cabin number where the passenger is staying. Takes the form deck/num/side, where side can be either P for Port or S for Starboard.\n",
        "Destination - The planet the passenger will be debarking to.\n",
        "- >Age - The age of the passenger.\n",
        "- >VIP - Whether the passenger has paid for special VIP service during the voyage.\n",
        "- >RoomService, FoodCourt, ShoppingMall, Spa, VRDeck - Amount the passenger has billed at each of the Spaceship Titanic's many luxury amenities.\n",
        "- >Name - The first and last names of the passenger.\n",
        "- >Transported - Whether the passenger was transported to another dimension. This is the target, the column you are trying to predict."
      ]
    },
    {
      "cell_type": "code",
      "execution_count": null,
      "metadata": {},
      "outputs": [
        {
          "name": "stdout",
          "output_type": "stream",
          "text": [
            "<class 'pandas.core.frame.DataFrame'>\n",
            "RangeIndex: 8693 entries, 0 to 8692\n",
            "Data columns (total 14 columns):\n",
            " #   Column        Non-Null Count  Dtype  \n",
            "---  ------        --------------  -----  \n",
            " 0   PassengerId   8693 non-null   object \n",
            " 1   HomePlanet    8492 non-null   object \n",
            " 2   CryoSleep     8476 non-null   object \n",
            " 3   Cabin         8494 non-null   object \n",
            " 4   Destination   8511 non-null   object \n",
            " 5   Age           8514 non-null   float64\n",
            " 6   VIP           8490 non-null   object \n",
            " 7   RoomService   8512 non-null   float64\n",
            " 8   FoodCourt     8510 non-null   float64\n",
            " 9   ShoppingMall  8485 non-null   float64\n",
            " 10  Spa           8510 non-null   float64\n",
            " 11  VRDeck        8505 non-null   float64\n",
            " 12  Name          8493 non-null   object \n",
            " 13  Transported   8693 non-null   bool   \n",
            "dtypes: bool(1), float64(6), object(7)\n",
            "memory usage: 891.5+ KB\n"
          ]
        }
      ],
      "source": [
        "train.info()"
      ]
    },
    {
      "cell_type": "code",
      "execution_count": null,
      "metadata": {},
      "outputs": [
        {
          "name": "stdout",
          "output_type": "stream",
          "text": [
            "PassengerId       0\n",
            "HomePlanet      201\n",
            "CryoSleep       217\n",
            "Cabin           199\n",
            "Destination     182\n",
            "Age             179\n",
            "VIP             203\n",
            "RoomService     181\n",
            "FoodCourt       183\n",
            "ShoppingMall    208\n",
            "Spa             183\n",
            "VRDeck          188\n",
            "Name            200\n",
            "Transported       0\n",
            "dtype: int64\n"
          ]
        }
      ],
      "source": [
        "# Training set missing values\n",
        "print(train.isna().sum())"
      ]
    },
    {
      "cell_type": "code",
      "execution_count": null,
      "metadata": {},
      "outputs": [
        {
          "name": "stdout",
          "output_type": "stream",
          "text": [
            "2.1 2.5\n"
          ]
        }
      ],
      "source": [
        "# Calculating how many percent of the data that is missing\n",
        "print(round(179/len(train)*100,1), round(217/len(train)*100,1))"
      ]
    },
    {
      "cell_type": "code",
      "execution_count": null,
      "metadata": {},
      "outputs": [
        {
          "data": {
            "text/html": [
              "<div>\n",
              "<style scoped>\n",
              "    .dataframe tbody tr th:only-of-type {\n",
              "        vertical-align: middle;\n",
              "    }\n",
              "\n",
              "    .dataframe tbody tr th {\n",
              "        vertical-align: top;\n",
              "    }\n",
              "\n",
              "    .dataframe thead th {\n",
              "        text-align: right;\n",
              "    }\n",
              "</style>\n",
              "<table border=\"1\" class=\"dataframe\">\n",
              "  <thead>\n",
              "    <tr style=\"text-align: right;\">\n",
              "      <th></th>\n",
              "      <th>Age</th>\n",
              "      <th>RoomService</th>\n",
              "      <th>FoodCourt</th>\n",
              "      <th>ShoppingMall</th>\n",
              "      <th>Spa</th>\n",
              "      <th>VRDeck</th>\n",
              "    </tr>\n",
              "  </thead>\n",
              "  <tbody>\n",
              "    <tr>\n",
              "      <th>count</th>\n",
              "      <td>8514.000000</td>\n",
              "      <td>8512.000000</td>\n",
              "      <td>8510.000000</td>\n",
              "      <td>8485.000000</td>\n",
              "      <td>8510.000000</td>\n",
              "      <td>8505.000000</td>\n",
              "    </tr>\n",
              "    <tr>\n",
              "      <th>mean</th>\n",
              "      <td>28.827930</td>\n",
              "      <td>224.687617</td>\n",
              "      <td>458.077203</td>\n",
              "      <td>173.729169</td>\n",
              "      <td>311.138778</td>\n",
              "      <td>304.854791</td>\n",
              "    </tr>\n",
              "    <tr>\n",
              "      <th>std</th>\n",
              "      <td>14.489021</td>\n",
              "      <td>666.717663</td>\n",
              "      <td>1611.489240</td>\n",
              "      <td>604.696458</td>\n",
              "      <td>1136.705535</td>\n",
              "      <td>1145.717189</td>\n",
              "    </tr>\n",
              "    <tr>\n",
              "      <th>min</th>\n",
              "      <td>0.000000</td>\n",
              "      <td>0.000000</td>\n",
              "      <td>0.000000</td>\n",
              "      <td>0.000000</td>\n",
              "      <td>0.000000</td>\n",
              "      <td>0.000000</td>\n",
              "    </tr>\n",
              "    <tr>\n",
              "      <th>25%</th>\n",
              "      <td>19.000000</td>\n",
              "      <td>0.000000</td>\n",
              "      <td>0.000000</td>\n",
              "      <td>0.000000</td>\n",
              "      <td>0.000000</td>\n",
              "      <td>0.000000</td>\n",
              "    </tr>\n",
              "    <tr>\n",
              "      <th>50%</th>\n",
              "      <td>27.000000</td>\n",
              "      <td>0.000000</td>\n",
              "      <td>0.000000</td>\n",
              "      <td>0.000000</td>\n",
              "      <td>0.000000</td>\n",
              "      <td>0.000000</td>\n",
              "    </tr>\n",
              "    <tr>\n",
              "      <th>75%</th>\n",
              "      <td>38.000000</td>\n",
              "      <td>47.000000</td>\n",
              "      <td>76.000000</td>\n",
              "      <td>27.000000</td>\n",
              "      <td>59.000000</td>\n",
              "      <td>46.000000</td>\n",
              "    </tr>\n",
              "    <tr>\n",
              "      <th>max</th>\n",
              "      <td>79.000000</td>\n",
              "      <td>14327.000000</td>\n",
              "      <td>29813.000000</td>\n",
              "      <td>23492.000000</td>\n",
              "      <td>22408.000000</td>\n",
              "      <td>24133.000000</td>\n",
              "    </tr>\n",
              "  </tbody>\n",
              "</table>\n",
              "</div>"
            ],
            "text/plain": [
              "               Age   RoomService     FoodCourt  ShoppingMall           Spa  \\\n",
              "count  8514.000000   8512.000000   8510.000000   8485.000000   8510.000000   \n",
              "mean     28.827930    224.687617    458.077203    173.729169    311.138778   \n",
              "std      14.489021    666.717663   1611.489240    604.696458   1136.705535   \n",
              "min       0.000000      0.000000      0.000000      0.000000      0.000000   \n",
              "25%      19.000000      0.000000      0.000000      0.000000      0.000000   \n",
              "50%      27.000000      0.000000      0.000000      0.000000      0.000000   \n",
              "75%      38.000000     47.000000     76.000000     27.000000     59.000000   \n",
              "max      79.000000  14327.000000  29813.000000  23492.000000  22408.000000   \n",
              "\n",
              "             VRDeck  \n",
              "count   8505.000000  \n",
              "mean     304.854791  \n",
              "std     1145.717189  \n",
              "min        0.000000  \n",
              "25%        0.000000  \n",
              "50%        0.000000  \n",
              "75%       46.000000  \n",
              "max    24133.000000  "
            ]
          },
          "execution_count": 8,
          "metadata": {},
          "output_type": "execute_result"
        }
      ],
      "source": [
        "train.describe()"
      ]
    },
    {
      "cell_type": "code",
      "execution_count": null,
      "metadata": {},
      "outputs": [
        {
          "data": {
            "image/png": "[encoded data removed]",
            "text/plain": [
              "<Figure size 1440x720 with 2 Axes>"
            ]
          },
          "metadata": {
            "needs_background": "light"
          },
          "output_type": "display_data"
        }
      ],
      "source": [
        "plt.figure(figsize=(20,10))\n",
        "corrMatrix = train.corr()\n",
        "sns.heatmap(corrMatrix, annot=True, cmap='coolwarm', fmt='.1g')\n",
        "plt.show()"
      ]
    },
    {
      "cell_type": "code",
      "execution_count": null,
      "metadata": {},
      "outputs": [
        {
          "data": {
            "image/png": "[encoded data removed]",
            "text/plain": [
              "<Figure size 432x288 with 1 Axes>"
            ]
          },
          "metadata": {
            "needs_background": "light"
          },
          "output_type": "display_data"
        }
      ],
      "source": [
        "bins = np.linspace(0, 30000, 50)\n",
        "\n",
        "plt.hist(train.RoomService, bins, alpha=0.4, label='RoomService')\n",
        "plt.hist(train.FoodCourt, bins, alpha=0.4, label='FoodCourt')\n",
        "plt.hist(train.ShoppingMall, bins, alpha=0.4, label='ShoppingMall')\n",
        "plt.hist(train.Spa, bins, alpha=0.4, label='Spa')\n",
        "plt.hist(train.VRDeck, bins, alpha=0.4, label='VRDeck')\n",
        "plt.legend(loc='upper right')\n",
        "plt.yscale('log')\n",
        "plt.rcParams['figure.figsize'] = [20, 10]\n",
        "plt.show()"
      ]
    },
    {
      "cell_type": "markdown",
      "metadata": {},
      "source": [
        "We have a dataset containing floats, strings and booleans. We will have to deal with this later.\n",
        "\n",
        "Immidiately there isn't any strong correlations between the current float features and the target; 'Transported'. Money spent on VRDeck and Spa has the highest negative correlation with the target. There is also some correlations between the features related to spending money. We will probably end up combining these into a new column.\n",
        "\n",
        "The histogram gives us an idea of the outliers. All the plotted features is of exponential distribution, meaning most of the customers didn't spend much at all. However there were some very rich customers onboard."
      ]
    },
    {
      "cell_type": "code",
      "execution_count": null,
      "metadata": {},
      "outputs": [
        {
          "data": {
            "text/html": [
              "<div>\n",
              "<style scoped>\n",
              "    .dataframe tbody tr th:only-of-type {\n",
              "        vertical-align: middle;\n",
              "    }\n",
              "\n",
              "    .dataframe tbody tr th {\n",
              "        vertical-align: top;\n",
              "    }\n",
              "\n",
              "    .dataframe thead th {\n",
              "        text-align: right;\n",
              "    }\n",
              "</style>\n",
              "<table border=\"1\" class=\"dataframe\">\n",
              "  <thead>\n",
              "    <tr style=\"text-align: right;\">\n",
              "      <th></th>\n",
              "      <th>PassengerId</th>\n",
              "      <th>HomePlanet</th>\n",
              "      <th>CryoSleep</th>\n",
              "      <th>Cabin</th>\n",
              "      <th>Destination</th>\n",
              "      <th>Age</th>\n",
              "      <th>VIP</th>\n",
              "      <th>RoomService</th>\n",
              "      <th>FoodCourt</th>\n",
              "      <th>ShoppingMall</th>\n",
              "      <th>Spa</th>\n",
              "      <th>VRDeck</th>\n",
              "      <th>Name</th>\n",
              "      <th>Transported</th>\n",
              "    </tr>\n",
              "  </thead>\n",
              "  <tbody>\n",
              "    <tr>\n",
              "      <th>0</th>\n",
              "      <td>0001_01</td>\n",
              "      <td>Europa</td>\n",
              "      <td>False</td>\n",
              "      <td>B/0/P</td>\n",
              "      <td>TRAPPIST-1e</td>\n",
              "      <td>39.0</td>\n",
              "      <td>False</td>\n",
              "      <td>0.0</td>\n",
              "      <td>0.0</td>\n",
              "      <td>0.0</td>\n",
              "      <td>0.0</td>\n",
              "      <td>0.0</td>\n",
              "      <td>Maham Ofracculy</td>\n",
              "      <td>False</td>\n",
              "    </tr>\n",
              "    <tr>\n",
              "      <th>1</th>\n",
              "      <td>0002_01</td>\n",
              "      <td>Earth</td>\n",
              "      <td>False</td>\n",
              "      <td>F/0/S</td>\n",
              "      <td>TRAPPIST-1e</td>\n",
              "      <td>24.0</td>\n",
              "      <td>False</td>\n",
              "      <td>109.0</td>\n",
              "      <td>9.0</td>\n",
              "      <td>25.0</td>\n",
              "      <td>549.0</td>\n",
              "      <td>44.0</td>\n",
              "      <td>Juanna Vines</td>\n",
              "      <td>True</td>\n",
              "    </tr>\n",
              "    <tr>\n",
              "      <th>2</th>\n",
              "      <td>0003_01</td>\n",
              "      <td>Europa</td>\n",
              "      <td>False</td>\n",
              "      <td>A/0/S</td>\n",
              "      <td>TRAPPIST-1e</td>\n",
              "      <td>58.0</td>\n",
              "      <td>True</td>\n",
              "      <td>43.0</td>\n",
              "      <td>3576.0</td>\n",
              "      <td>0.0</td>\n",
              "      <td>6715.0</td>\n",
              "      <td>49.0</td>\n",
              "      <td>Altark Susent</td>\n",
              "      <td>False</td>\n",
              "    </tr>\n",
              "    <tr>\n",
              "      <th>3</th>\n",
              "      <td>0003_02</td>\n",
              "      <td>Europa</td>\n",
              "      <td>False</td>\n",
              "      <td>A/0/S</td>\n",
              "      <td>TRAPPIST-1e</td>\n",
              "      <td>33.0</td>\n",
              "      <td>False</td>\n",
              "      <td>0.0</td>\n",
              "      <td>1283.0</td>\n",
              "      <td>371.0</td>\n",
              "      <td>3329.0</td>\n",
              "      <td>193.0</td>\n",
              "      <td>Solam Susent</td>\n",
              "      <td>False</td>\n",
              "    </tr>\n",
              "    <tr>\n",
              "      <th>4</th>\n",
              "      <td>0004_01</td>\n",
              "      <td>Earth</td>\n",
              "      <td>False</td>\n",
              "      <td>F/1/S</td>\n",
              "      <td>TRAPPIST-1e</td>\n",
              "      <td>16.0</td>\n",
              "      <td>False</td>\n",
              "      <td>303.0</td>\n",
              "      <td>70.0</td>\n",
              "      <td>151.0</td>\n",
              "      <td>565.0</td>\n",
              "      <td>2.0</td>\n",
              "      <td>Willy Santantines</td>\n",
              "      <td>True</td>\n",
              "    </tr>\n",
              "  </tbody>\n",
              "</table>\n",
              "</div>"
            ],
            "text/plain": [
              "  PassengerId HomePlanet CryoSleep  Cabin  Destination   Age    VIP  \\\n",
              "0     0001_01     Europa     False  B/0/P  TRAPPIST-1e  39.0  False   \n",
              "1     0002_01      Earth     False  F/0/S  TRAPPIST-1e  24.0  False   \n",
              "2     0003_01     Europa     False  A/0/S  TRAPPIST-1e  58.0   True   \n",
              "3     0003_02     Europa     False  A/0/S  TRAPPIST-1e  33.0  False   \n",
              "4     0004_01      Earth     False  F/1/S  TRAPPIST-1e  16.0  False   \n",
              "\n",
              "   RoomService  FoodCourt  ShoppingMall     Spa  VRDeck               Name  \\\n",
              "0          0.0        0.0           0.0     0.0     0.0    Maham Ofracculy   \n",
              "1        109.0        9.0          25.0   549.0    44.0       Juanna Vines   \n",
              "2         43.0     3576.0           0.0  6715.0    49.0      Altark Susent   \n",
              "3          0.0     1283.0         371.0  3329.0   193.0       Solam Susent   \n",
              "4        303.0       70.0         151.0   565.0     2.0  Willy Santantines   \n",
              "\n",
              "   Transported  \n",
              "0        False  \n",
              "1         True  \n",
              "2        False  \n",
              "3        False  \n",
              "4         True  "
            ]
          },
          "execution_count": 11,
          "metadata": {},
          "output_type": "execute_result"
        }
      ],
      "source": [
        "train.head()"
      ]
    },
    {
      "cell_type": "code",
      "execution_count": null,
      "metadata": {},
      "outputs": [
        {
          "data": {
            "text/plain": [
              "Earth     4602\n",
              "Europa    2131\n",
              "Mars      1759\n",
              "Name: HomePlanet, dtype: int64"
            ]
          },
          "execution_count": 12,
          "metadata": {},
          "output_type": "execute_result"
        }
      ],
      "source": [
        "train[\"HomePlanet\"].value_counts()"
      ]
    },
    {
      "cell_type": "code",
      "execution_count": null,
      "metadata": {},
      "outputs": [
        {
          "data": {
            "text/plain": [
              "TRAPPIST-1e      5915\n",
              "55 Cancri e      1800\n",
              "PSO J318.5-22     796\n",
              "Name: Destination, dtype: int64"
            ]
          },
          "execution_count": 13,
          "metadata": {},
          "output_type": "execute_result"
        }
      ],
      "source": [
        "train[\"Destination\"].value_counts()"
      ]
    },
    {
      "cell_type": "code",
      "execution_count": null,
      "metadata": {},
      "outputs": [
        {
          "data": {
            "text/plain": [
              "6560"
            ]
          },
          "execution_count": 14,
          "metadata": {},
          "output_type": "execute_result"
        }
      ],
      "source": [
        "train[\"Cabin\"].nunique()"
      ]
    },
    {
      "cell_type": "markdown",
      "metadata": {},
      "source": [
        "We probably want to split up Cabins into decks, nums and port/starboard."
      ]
    },
    {
      "cell_type": "code",
      "execution_count": null,
      "metadata": {},
      "outputs": [
        {
          "name": "stdout",
          "output_type": "stream",
          "text": [
            "(806, 14) (1059, 14) (1054, 14)\n"
          ]
        }
      ],
      "source": [
        "kids_train = train[train[\"Age\"] < 13]\n",
        "kids_test = test[test[\"Age\"] < 13]\n",
        "young_train = train[(train[\"Age\"] >= 13) & (train[\"Age\"] < 19)]\n",
        "young_test = test[(test[\"Age\"] >= 13) & (test[\"Age\"] < 19)]\n",
        "old_train = train[train[\"Age\"] >= 47]\n",
        "old_test = test[test[\"Age\"] >= 47]\n",
        "\n",
        "print(kids_train.shape, young_train.shape, old_train.shape)"
      ]
    },
    {
      "cell_type": "code",
      "execution_count": null,
      "metadata": {},
      "outputs": [
        {
          "data": {
            "image/png": "[encoded data removed]",
            "text/plain": [
              "<Figure size 1440x720 with 1 Axes>"
            ]
          },
          "metadata": {
            "needs_background": "light"
          },
          "output_type": "display_data"
        }
      ],
      "source": [
        "bins = np.linspace(0, 30000, 50)\n",
        "\n",
        "plt.hist(young_train.VRDeck, bins, alpha=0.4, label='young')\n",
        "plt.hist(old_train.VRDeck, alpha=0.4, label='old')\n",
        "plt.legend(loc='upper right')\n",
        "plt.yscale('log')\n",
        "plt.rcParams['figure.figsize'] = [20, 10]\n",
        "plt.show()"
      ]
    },
    {
      "cell_type": "markdown",
      "metadata": {},
      "source": [
        "We discovered that kids (12 years or younger) does not spend any money. We also wanted to uncover whether there was some different spending habits between teens and seniors. This is what we uncovered:\n",
        "- Seniors spend slightly more on FoodCourt and ALOT more on Spa and VRDeck\n",
        "- Teens and seniors spend about the same on ShoppingMall and RoomService."
      ]
    },
    {
      "cell_type": "code",
      "execution_count": null,
      "metadata": {},
      "outputs": [
        {
          "name": "stdout",
          "output_type": "stream",
          "text": [
            "Spent anything: 4950 - 62.76 %\n",
            "Spent nothing: 2449 - 31.05 %\n",
            "Spent on everything: 249 - 3.16 %\n"
          ]
        },
        {
          "data": {
            "text/plain": [
              "(2449, 14)"
            ]
          },
          "execution_count": 17,
          "metadata": {},
          "output_type": "execute_result"
        }
      ],
      "source": [
        "spendAny_train = train[(train[\"Age\"] >= 13) & ((train[\"FoodCourt\"] > 0) | (train[\"Spa\"] > 0) | (train[\"VRDeck\"] > 0) | (train[\"RoomService\"] > 0) | (train[\"ShoppingMall\"] > 0))]\n",
        "spendNone_train = train[(train[\"Age\"] >= 13) & ((train[\"FoodCourt\"] == 0) & (train[\"Spa\"] == 0) & (train[\"VRDeck\"] == 0) & (train[\"RoomService\"] == 0) & (train[\"ShoppingMall\"] == 0))]\n",
        "spendAll_train = train[(train[\"Age\"] >= 13) & ((train[\"FoodCourt\"] > 0) & (train[\"Spa\"] > 0) & (train[\"VRDeck\"] > 0) & (train[\"RoomService\"] > 0) & (train[\"ShoppingMall\"] > 0))]\n",
        "\n",
        "spendAny_test = test[(test[\"Age\"] >= 13) & ((test[\"FoodCourt\"] > 0) | (test[\"Spa\"] > 0) | (test[\"VRDeck\"] > 0) | (test[\"RoomService\"] > 0) | (test[\"ShoppingMall\"] > 0))]\n",
        "spendNone_test = test[(test[\"Age\"] >= 13) & ((test[\"FoodCourt\"] == 0) & (test[\"Spa\"] == 0) & (test[\"VRDeck\"] == 0) & (test[\"RoomService\"] == 0) & (test[\"ShoppingMall\"] == 0))]\n",
        "spendAll_test = test[(test[\"Age\"] >= 13) & ((test[\"FoodCourt\"] > 0) & (test[\"Spa\"] > 0) & (test[\"VRDeck\"] > 0) & (test[\"RoomService\"] > 0) & (test[\"ShoppingMall\"] > 0))]\n",
        "\n",
        "amt_adults = len(train) - len(kids_train)\n",
        "print(\"Spent anything:\", len(spendAny_train), \"-\", round(len(spendAny_train)/amt_adults*100,2),\"%\")\n",
        "print(\"Spent nothing:\", len(spendNone_train), \"-\", round(len(spendNone_train)/amt_adults*100,2),\"%\")\n",
        "print(\"Spent on everything:\", len(spendAll_train), \"-\", round(len(spendAll_train)/amt_adults*100,2),\"%\")\n",
        "spendNone_train.shape"
      ]
    },
    {
      "cell_type": "code",
      "execution_count": null,
      "metadata": {},
      "outputs": [
        {
          "data": {
            "text/plain": [
              "94"
            ]
          },
          "execution_count": 18,
          "metadata": {},
          "output_type": "execute_result"
        }
      ],
      "source": [
        "cryo = spendNone_train[spendNone_train['CryoSleep'] == False]\n",
        "len(cryo)"
      ]
    },
    {
      "cell_type": "markdown",
      "metadata": {},
      "source": [
        "94 People who wasn't in cryosleep didn't spend money."
      ]
    },
    {
      "cell_type": "code",
      "execution_count": null,
      "metadata": {},
      "outputs": [
        {
          "data": {
            "text/plain": [
              "Text(0.5, 0, 'Age (years)')"
            ]
          },
          "execution_count": 19,
          "metadata": {},
          "output_type": "execute_result"
        },
        {
          "data": {
            "image/png": "[encoded data removed]",
            "text/plain": [
              "<Figure size 720x288 with 1 Axes>"
            ]
          },
          "metadata": {
            "needs_background": "light"
          },
          "output_type": "display_data"
        }
      ],
      "source": [
        "# Figure size\n",
        "plt.figure(figsize=(10,4))\n",
        "\n",
        "# Histogram\n",
        "sns.histplot(data=train, x='Age', hue='Transported', binwidth=1, kde=True)\n",
        "\n",
        "# Aesthetics\n",
        "plt.title('Age distribution')\n",
        "plt.xlabel('Age (years)')"
      ]
    },
    {
      "cell_type": "markdown",
      "metadata": {},
      "source": [
        "Seems like 18 year olds or younger have a higher chance of being transported than otherwise."
      ]
    },
    {
      "cell_type": "code",
      "execution_count": null,
      "metadata": {},
      "outputs": [
        {
          "data": {
            "image/png": "[encoded data removed]",
            "text/plain": [
              "<Figure size 720x1152 with 4 Axes>"
            ]
          },
          "metadata": {
            "needs_background": "light"
          },
          "output_type": "display_data"
        }
      ],
      "source": [
        "# Categorical features\n",
        "cat_feats=['HomePlanet', 'CryoSleep', 'Destination', 'VIP']\n",
        "\n",
        "# Plot categorical features\n",
        "fig=plt.figure(figsize=(10,16))\n",
        "for i, var_name in enumerate(cat_feats):\n",
        "    ax=fig.add_subplot(4,1,i+1)\n",
        "    sns.countplot(data=train, x=var_name, axes=ax, hue='Transported')\n",
        "    ax.set_title(var_name)\n",
        "fig.tight_layout()\n",
        "plt.show()"
      ]
    },
    {
      "cell_type": "markdown",
      "metadata": {},
      "source": [
        "It seems like CryoSleep is an important feature. Cryosleeping passengers seem to be a target to be transported, while only 1/3 of the non-cryosleeping passengers is transported.\n",
        "\n",
        "VIP Also doesn't really seem like an important feature."
      ]
    },
    {
      "cell_type": "markdown",
      "metadata": {},
      "source": [
        "# 4. Prepare the data to better expose the underlying data patterns to machine learning algorithms.\n",
        "1. *Data cleaning:*\n",
        "- *Fix or remove outliers (optional).*\n",
        "- *Fill in missing values (e.g., with zero, mean, median…) or drop their rows (or columns).*\n",
        "2. *Feature selection (optional):*\n",
        "- *Drop the attributes that provide no useful information for the task.*\n",
        "3. *Feature engineering, where appropriate:*\n",
        "- *Discretize (approximate) continuous features.*\n",
        "- *Decompose features (e.g., categorical, date/time, etc.).*\n",
        "- *Add promising transformations of features (e.g., log(x), sqrt(x), x 2 , etc.).*\n",
        "- *Aggregate features into promising new features.*\n",
        "4. *Feature scaling:*\n",
        "- *Standardize or normalize features.*"
      ]
    },
    {
      "cell_type": "code",
      "execution_count": null,
      "metadata": {},
      "outputs": [
        {
          "name": "stdout",
          "output_type": "stream",
          "text": [
            "<class 'pandas.core.series.Series'>\n",
            "RangeIndex: 8693 entries, 0 to 8692\n",
            "Series name: CryoSleep\n",
            "Non-Null Count  Dtype\n",
            "--------------  -----\n",
            "8693 non-null   bool \n",
            "dtypes: bool(1)\n",
            "memory usage: 8.6 KB\n"
          ]
        }
      ],
      "source": [
        "# Dealing the missing values of the CryoSleep feature.\n",
        "# Set all cryosleep missing values of those who did not spend any money to true.\n",
        "spendNone_train.loc[spendNone_train['CryoSleep'].isnull(), 'CryoSleep'] = True\n",
        "spendNone_test.loc[spendNone_test['CryoSleep'].isnull(), 'CryoSleep'] = True\n",
        "\n",
        "# Override train with new values from spendNone\n",
        "train.update(spendNone_train)\n",
        "test.update(spendNone_test)\n",
        "\n",
        "# Fill the rest with the most common value, false\n",
        "train['CryoSleep'].fillna(False, inplace = True)\n",
        "test['CryoSleep'].fillna(False, inplace = True)\n",
        "\n",
        "train['CryoSleep'].info()"
      ]
    },
    {
      "cell_type": "code",
      "execution_count": null,
      "metadata": {},
      "outputs": [],
      "source": [
        "# All null values for kids in the spending features should be 0.\n",
        "kids_train.loc[kids_train['Spa'].isnull(), 'Spa'] = 0\n",
        "kids_train.loc[kids_train['VRDeck'].isnull(), 'VRDeck'] = 0\n",
        "kids_train.loc[kids_train['RoomService'].isnull(), 'RoomService'] = 0\n",
        "kids_train.loc[kids_train['ShoppingMall'].isnull(), 'ShoppingMall'] = 0\n",
        "kids_train.loc[kids_train['FoodCourt'].isnull(), 'FoodCourt'] = 0\n",
        "\n",
        "kids_test.loc[kids_test['Spa'].isnull(), 'Spa'] = 0\n",
        "kids_test.loc[kids_test['VRDeck'].isnull(), 'VRDeck'] = 0\n",
        "kids_test.loc[kids_test['RoomService'].isnull(), 'RoomService'] = 0\n",
        "kids_test.loc[kids_test['ShoppingMall'].isnull(), 'ShoppingMall'] = 0\n",
        "kids_test.loc[kids_test['FoodCourt'].isnull(), 'FoodCourt'] = 0\n",
        "\n",
        "# Override train with values from kids.\n",
        "train.update(kids_train)\n",
        "test.update(kids_train)"
      ]
    },
    {
      "cell_type": "code",
      "execution_count": null,
      "metadata": {},
      "outputs": [
        {
          "name": "stdout",
          "output_type": "stream",
          "text": [
            "<class 'pandas.core.frame.DataFrame'>\n",
            "RangeIndex: 8693 entries, 0 to 8692\n",
            "Data columns (total 14 columns):\n",
            " #   Column        Non-Null Count  Dtype  \n",
            "---  ------        --------------  -----  \n",
            " 0   PassengerId   8693 non-null   object \n",
            " 1   HomePlanet    8492 non-null   object \n",
            " 2   CryoSleep     8693 non-null   object \n",
            " 3   Cabin         8494 non-null   object \n",
            " 4   Destination   8511 non-null   object \n",
            " 5   Age           8514 non-null   float64\n",
            " 6   VIP           8490 non-null   object \n",
            " 7   RoomService   8693 non-null   float64\n",
            " 8   FoodCourt     8693 non-null   float64\n",
            " 9   ShoppingMall  8693 non-null   float64\n",
            " 10  Spa           8693 non-null   float64\n",
            " 11  VRDeck        8693 non-null   float64\n",
            " 12  Name          8493 non-null   object \n",
            " 13  Transported   8693 non-null   object \n",
            "dtypes: float64(6), object(8)\n",
            "memory usage: 950.9+ KB\n"
          ]
        }
      ],
      "source": [
        "# We can do similar on the Spa and VRDeck, because they vary greatly on age.\n",
        "old_train.loc[old_train['Spa'].isnull(), 'Spa'] = old_train['Spa'].median()\n",
        "old_train.loc[old_train['VRDeck'].isnull(), 'VRDeck'] = old_train['VRDeck'].median()\n",
        "old_test.loc[old_test['Spa'].isnull(), 'Spa'] = old_test['Spa'].median()\n",
        "old_test.loc[old_test['VRDeck'].isnull(), 'VRDeck'] = old_test['VRDeck'].median()\n",
        "\n",
        "young_train.loc[young_train['Spa'].isnull(), 'Spa'] = young_train['Spa'].median()\n",
        "young_train.loc[young_train['VRDeck'].isnull(), 'VRDeck'] = young_train['VRDeck'].median()\n",
        "young_test.loc[young_test['Spa'].isnull(), 'Spa'] = young_test['Spa'].median()\n",
        "young_test.loc[young_test['VRDeck'].isnull(), 'VRDeck'] = young_test['VRDeck'].median()\n",
        "\n",
        "# Override train with new values from the updated tables\n",
        "train.update(young_train)\n",
        "train.update(old_train)\n",
        "test.update(young_test)\n",
        "test.update(old_test)\n",
        "\n",
        "# Fill the rest with the median, including ShoppingMall, RoomService and FoodCourt those that didnt really vary in terms of age.\n",
        "train['Spa'].fillna(train['Spa'].median(), inplace = True)\n",
        "train['VRDeck'].fillna(train['VRDeck'].median(), inplace = True)\n",
        "train['ShoppingMall'].fillna(train['ShoppingMall'].median(), inplace = True)\n",
        "train['RoomService'].fillna(train['RoomService'].median(), inplace = True)\n",
        "train['FoodCourt'].fillna(train['FoodCourt'].median(), inplace = True)\n",
        "test['Spa'].fillna(test['Spa'].median(), inplace = True)\n",
        "test['VRDeck'].fillna(test['VRDeck'].median(), inplace = True)\n",
        "test['ShoppingMall'].fillna(test['ShoppingMall'].median(), inplace = True)\n",
        "test['RoomService'].fillna(test['RoomService'].median(), inplace = True)\n",
        "test['FoodCourt'].fillna(test['FoodCourt'].median(), inplace = True)\n",
        "\n",
        "train.info()"
      ]
    },
    {
      "cell_type": "markdown",
      "metadata": {},
      "source": [
        "Now that were done with filling in the missing values for the money features, we can construct a new feature: TotalSpent"
      ]
    },
    {
      "cell_type": "code",
      "execution_count": null,
      "metadata": {},
      "outputs": [],
      "source": [
        "train['TotalSpent'] = train['RoomService'] + train['FoodCourt'] + train['ShoppingMall'] + train['Spa'] + train['VRDeck']\n",
        "test['TotalSpent'] = test['RoomService'] + test['FoodCourt'] + test['ShoppingMall'] + test['Spa'] + test['VRDeck']"
      ]
    },
    {
      "cell_type": "code",
      "execution_count": null,
      "metadata": {},
      "outputs": [],
      "source": [
        "# For age were differentiating what we do with the null values wheter they spend or not. If they don't spend, were just setting their age to 0.\n",
        "train.loc[(train['Age'].isnull()) & (train['TotalSpent'] == 0), 'Age'] = 0\n",
        "test.loc[(test['Age'].isnull()) & (test['TotalSpent'] == 0), 'Age'] = 0"
      ]
    },
    {
      "cell_type": "code",
      "execution_count": null,
      "metadata": {},
      "outputs": [],
      "source": [
        "# And if they do, were just doing median age\n",
        "train.loc[(train['Age'].isnull()) & (train['TotalSpent'] > 0), 'Age'] = train[\"Age\"].median()\n",
        "test.loc[(test['Age'].isnull()) & (test['TotalSpent'] > 0), 'Age'] = test[\"Age\"].median()"
      ]
    },
    {
      "cell_type": "code",
      "execution_count": null,
      "metadata": {},
      "outputs": [
        {
          "data": {
            "text/plain": [
              "False    8291\n",
              "True      199\n",
              "Name: VIP, dtype: int64"
            ]
          },
          "execution_count": 27,
          "metadata": {},
          "output_type": "execute_result"
        }
      ],
      "source": [
        "train['VIP'].value_counts()"
      ]
    },
    {
      "cell_type": "code",
      "execution_count": null,
      "metadata": {},
      "outputs": [],
      "source": [
        "# For missing VIP values were just gonna put false.\n",
        "train['VIP'].fillna(False, inplace = True)\n",
        "test['VIP'].fillna(False, inplace = True)"
      ]
    },
    {
      "cell_type": "markdown",
      "metadata": {},
      "source": [
        "Now it becomes more tricky. It makes sense that each group would stay in the same cabin, travel to the same location and have the same lastname.\n",
        "First lets contruct some new features to make filling in those missing values a bit easier."
      ]
    },
    {
      "cell_type": "code",
      "execution_count": null,
      "metadata": {},
      "outputs": [],
      "source": [
        "# First lets spilt the ID and group into two new features Group And ID.\n",
        "train[['Group','ID']] = train.PassengerId.str.split(\"_\",expand=True)\n",
        "test[['Group','ID']] = test.PassengerId.str.split(\"_\",expand=True)\n",
        "\n",
        "train = train.drop([\"PassengerId\"], axis=1)\n",
        "test = test.drop([\"PassengerId\"], axis=1)\n",
        "\n",
        "# Lets also make a new feature; lastname and drop the firstname feature.\n",
        "train[['toDrop','LastName']] = train.Name.str.split(expand=True)\n",
        "test[['toDrop','LastName']] = test.Name.str.split(expand=True)\n",
        "\n",
        "train = train.drop([\"toDrop\"], axis=1)\n",
        "train = train.drop([\"Name\"], axis=1)\n",
        "test = test.drop([\"toDrop\"], axis=1)\n",
        "test = test.drop([\"Name\"], axis=1)"
      ]
    },
    {
      "cell_type": "markdown",
      "metadata": {},
      "source": [
        "Let's do the same for Cabins."
      ]
    },
    {
      "cell_type": "code",
      "execution_count": null,
      "metadata": {},
      "outputs": [],
      "source": [
        "# Adds 3 new features, Deck, Number and Side.\n",
        "train[['Deck','Number', 'Side']] = train.Cabin.str.split(\"/\",expand=True)\n",
        "test[['Deck','Number', 'Side']] = test.Cabin.str.split(\"/\",expand=True)\n",
        "\n",
        "# Dont need Cabin anymore\n",
        "train = train.drop([\"Cabin\"], axis=1)\n",
        "test = test.drop([\"Cabin\"], axis=1)"
      ]
    },
    {
      "cell_type": "markdown",
      "metadata": {},
      "source": [
        "It will also be useful to know how many members each group has.\n",
        "(The snippet below is from: 'Spaceship Titanic: A complete guide' by SAMUEL CORTINHAS)"
      ]
    },
    {
      "cell_type": "code",
      "execution_count": null,
      "metadata": {},
      "outputs": [],
      "source": [
        "# New feature - Group size\n",
        "train['GroupSize']=train['Group'].map(lambda x: pd.concat([train['Group'], test['Group']]).value_counts()[x])\n",
        "test['GroupSize']=test['Group'].map(lambda x: pd.concat([train['Group'], test['Group']]).value_counts()[x])\n"
      ]
    },
    {
      "cell_type": "markdown",
      "metadata": {},
      "source": [
        "To fill the remaining values, we will combine the training and testset. This makes thing a lot easier."
      ]
    },
    {
      "cell_type": "code",
      "execution_count": null,
      "metadata": {},
      "outputs": [
        {
          "name": "stdout",
          "output_type": "stream",
          "text": [
            "<class 'pandas.core.frame.DataFrame'>\n",
            "RangeIndex: 12970 entries, 0 to 12969\n",
            "Data columns (total 18 columns):\n",
            " #   Column        Non-Null Count  Dtype  \n",
            "---  ------        --------------  -----  \n",
            " 0   HomePlanet    12689 non-null  object \n",
            " 1   CryoSleep     12970 non-null  object \n",
            " 2   Destination   12704 non-null  object \n",
            " 3   Age           12970 non-null  float64\n",
            " 4   VIP           12970 non-null  bool   \n",
            " 5   RoomService   12970 non-null  float64\n",
            " 6   FoodCourt     12970 non-null  float64\n",
            " 7   ShoppingMall  12970 non-null  float64\n",
            " 8   Spa           12970 non-null  float64\n",
            " 9   VRDeck        12970 non-null  float64\n",
            " 10  TotalSpent    12970 non-null  float64\n",
            " 11  Group         12970 non-null  object \n",
            " 12  ID            12970 non-null  object \n",
            " 13  LastName      12685 non-null  object \n",
            " 14  Deck          12682 non-null  object \n",
            " 15  Number        12682 non-null  object \n",
            " 16  Side          12682 non-null  object \n",
            " 17  GroupSize     12970 non-null  int64  \n",
            "dtypes: bool(1), float64(7), int64(1), object(9)\n",
            "memory usage: 1.7+ MB\n"
          ]
        }
      ],
      "source": [
        "y = train['Transported'].copy().astype(int)\n",
        "X = train.drop('Transported', axis=1).copy()\n",
        "\n",
        "data = pd.concat([X, test], axis=0).reset_index(drop=True)\n",
        "data.info()"
      ]
    },
    {
      "cell_type": "markdown",
      "metadata": {},
      "source": [
        "Let's find out if passengers in the same group stays on the same side."
      ]
    },
    {
      "cell_type": "code",
      "execution_count": null,
      "metadata": {},
      "outputs": [
        {
          "name": "stderr",
          "output_type": "stream",
          "text": [
            "c:\\Users\\logga\\miniconda3\\envs\\jupyter-env\\lib\\site-packages\\seaborn\\_decorators.py:36: FutureWarning: Pass the following variable as a keyword arg: x. From version 0.12, the only valid positional argument will be `data`, and passing other arguments without an explicit keyword will result in an error or misinterpretation.\n",
            "  warnings.warn(\n"
          ]
        },
        {
          "data": {
            "text/plain": [
              "Text(0.5, 1.0, 'Number of unique cabin sides per group')"
            ]
          },
          "execution_count": 33,
          "metadata": {},
          "output_type": "execute_result"
        },
        {
          "data": {
            "image/png": "[encoded data removed]",
            "text/plain": [
              "<Figure size 1152x288 with 1 Axes>"
            ]
          },
          "metadata": {
            "needs_background": "light"
          },
          "output_type": "display_data"
        }
      ],
      "source": [
        "side_grouped = data[data['GroupSize']>1].groupby(['Group','Side'])['Side'].size().unstack().fillna(0)\n",
        "\n",
        "fig=plt.figure(figsize=(16, 4))\n",
        "plt.subplot(1,3,2)\n",
        "sns.countplot((side_grouped>0).sum(axis=1))\n",
        "plt.title('Number of unique cabin sides per group')"
      ]
    },
    {
      "cell_type": "markdown",
      "metadata": {},
      "source": [
        "Groups for the most part stay on the same side. This will be easy to fill in. There seems to be a lot more groups that have split themselves into different decks and cabin numbers however."
      ]
    },
    {
      "cell_type": "code",
      "execution_count": null,
      "metadata": {},
      "outputs": [
        {
          "name": "stderr",
          "output_type": "stream",
          "text": [
            "C:\\Users\\logga\\AppData\\Local\\Temp\\ipykernel_18776\\197656976.py:5: SettingWithCopyWarning: \n",
            "A value is trying to be set on a copy of a slice from a DataFrame\n",
            "\n",
            "See the caveats in the documentation: https://pandas.pydata.org/pandas-docs/stable/user_guide/indexing.html#returning-a-view-versus-a-copy\n",
            "  missing_side['Side'].iloc[i] = data['Side'].iloc[j]\n"
          ]
        },
        {
          "data": {
            "text/plain": [
              "159"
            ]
          },
          "execution_count": 34,
          "metadata": {},
          "output_type": "execute_result"
        }
      ],
      "source": [
        "missing_side = data.loc[(data['Side'].isna()) & (data['GroupSize'] > 1)]\n",
        "for i in range(len(missing_side)) :\n",
        "    for j in range(len(data)) :\n",
        "        if((missing_side['Group'].iloc[i] == data['Group'].iloc[j])  & (isinstance(data['Side'].iloc[j], str))) :           \n",
        "            missing_side['Side'].iloc[i] = data['Side'].iloc[j] \n",
        "            break\n",
        "\n",
        "data.update(missing_side)\n",
        "data['Side'].isna().sum()"
      ]
    },
    {
      "cell_type": "markdown",
      "metadata": {},
      "source": [
        "Were down to 159 missing entries. Let's try to see if we can fill some more using LastName."
      ]
    },
    {
      "cell_type": "code",
      "execution_count": null,
      "metadata": {},
      "outputs": [
        {
          "name": "stderr",
          "output_type": "stream",
          "text": [
            "c:\\Users\\logga\\miniconda3\\envs\\jupyter-env\\lib\\site-packages\\seaborn\\_decorators.py:36: FutureWarning: Pass the following variable as a keyword arg: x. From version 0.12, the only valid positional argument will be `data`, and passing other arguments without an explicit keyword will result in an error or misinterpretation.\n",
            "  warnings.warn(\n"
          ]
        },
        {
          "data": {
            "image/png": "[encoded data removed]",
            "text/plain": [
              "<Figure size 1152x288 with 1 Axes>"
            ]
          },
          "metadata": {
            "needs_background": "light"
          },
          "output_type": "display_data"
        }
      ],
      "source": [
        "side_fam_grouped = data[data['GroupSize']>1].groupby(['LastName','Side'])['Side'].size().unstack().fillna(0)\n",
        "\n",
        "fig=plt.figure(figsize=(16, 4))\n",
        "plt.subplot(1,3,1)\n",
        "sns.countplot((side_fam_grouped > 0).sum(axis=1))\n",
        "plt.title('Number of unique cabin sides per family')\n",
        "fig.tight_layout()"
      ]
    },
    {
      "cell_type": "markdown",
      "metadata": {},
      "source": [
        "The vast majority of families stay on the same side. We will fill more values depending if they have a family member."
      ]
    },
    {
      "cell_type": "code",
      "execution_count": null,
      "metadata": {},
      "outputs": [
        {
          "name": "stderr",
          "output_type": "stream",
          "text": [
            "C:\\Users\\logga\\AppData\\Local\\Temp\\ipykernel_18776\\1016101609.py:5: SettingWithCopyWarning: \n",
            "A value is trying to be set on a copy of a slice from a DataFrame\n",
            "\n",
            "See the caveats in the documentation: https://pandas.pydata.org/pandas-docs/stable/user_guide/indexing.html#returning-a-view-versus-a-copy\n",
            "  missing_side['Side'].iloc[i] = data['Side'].iloc[j]\n"
          ]
        },
        {
          "data": {
            "text/html": [
              "<div>\n",
              "<style scoped>\n",
              "    .dataframe tbody tr th:only-of-type {\n",
              "        vertical-align: middle;\n",
              "    }\n",
              "\n",
              "    .dataframe tbody tr th {\n",
              "        vertical-align: top;\n",
              "    }\n",
              "\n",
              "    .dataframe thead th {\n",
              "        text-align: right;\n",
              "    }\n",
              "</style>\n",
              "<table border=\"1\" class=\"dataframe\">\n",
              "  <thead>\n",
              "    <tr style=\"text-align: right;\">\n",
              "      <th></th>\n",
              "      <th>HomePlanet</th>\n",
              "      <th>CryoSleep</th>\n",
              "      <th>Destination</th>\n",
              "      <th>Age</th>\n",
              "      <th>VIP</th>\n",
              "      <th>RoomService</th>\n",
              "      <th>FoodCourt</th>\n",
              "      <th>ShoppingMall</th>\n",
              "      <th>Spa</th>\n",
              "      <th>VRDeck</th>\n",
              "      <th>TotalSpent</th>\n",
              "      <th>Group</th>\n",
              "      <th>ID</th>\n",
              "      <th>LastName</th>\n",
              "      <th>Deck</th>\n",
              "      <th>Number</th>\n",
              "      <th>Side</th>\n",
              "      <th>GroupSize</th>\n",
              "    </tr>\n",
              "  </thead>\n",
              "  <tbody>\n",
              "    <tr>\n",
              "      <th>462</th>\n",
              "      <td>Mars</td>\n",
              "      <td>False</td>\n",
              "      <td>TRAPPIST-1e</td>\n",
              "      <td>22.0</td>\n",
              "      <td>False</td>\n",
              "      <td>10.0</td>\n",
              "      <td>0.0</td>\n",
              "      <td>817.0</td>\n",
              "      <td>471.0</td>\n",
              "      <td>0.0</td>\n",
              "      <td>1298.0</td>\n",
              "      <td>0502</td>\n",
              "      <td>01</td>\n",
              "      <td>Swell</td>\n",
              "      <td>NaN</td>\n",
              "      <td>NaN</td>\n",
              "      <td>NaN</td>\n",
              "      <td>1.0</td>\n",
              "    </tr>\n",
              "    <tr>\n",
              "      <th>1980</th>\n",
              "      <td>Europa</td>\n",
              "      <td>False</td>\n",
              "      <td>TRAPPIST-1e</td>\n",
              "      <td>31.0</td>\n",
              "      <td>False</td>\n",
              "      <td>0.0</td>\n",
              "      <td>8718.0</td>\n",
              "      <td>0.0</td>\n",
              "      <td>13036.0</td>\n",
              "      <td>267.0</td>\n",
              "      <td>22021.0</td>\n",
              "      <td>2117</td>\n",
              "      <td>01</td>\n",
              "      <td>Rocketedy</td>\n",
              "      <td>NaN</td>\n",
              "      <td>NaN</td>\n",
              "      <td>NaN</td>\n",
              "      <td>1.0</td>\n",
              "    </tr>\n",
              "    <tr>\n",
              "      <th>3308</th>\n",
              "      <td>Mars</td>\n",
              "      <td>False</td>\n",
              "      <td>TRAPPIST-1e</td>\n",
              "      <td>28.0</td>\n",
              "      <td>False</td>\n",
              "      <td>3.0</td>\n",
              "      <td>0.0</td>\n",
              "      <td>0.0</td>\n",
              "      <td>327.0</td>\n",
              "      <td>2054.0</td>\n",
              "      <td>2384.0</td>\n",
              "      <td>3553</td>\n",
              "      <td>01</td>\n",
              "      <td>Maie</td>\n",
              "      <td>NaN</td>\n",
              "      <td>NaN</td>\n",
              "      <td>NaN</td>\n",
              "      <td>1.0</td>\n",
              "    </tr>\n",
              "    <tr>\n",
              "      <th>6037</th>\n",
              "      <td>Mars</td>\n",
              "      <td>False</td>\n",
              "      <td>PSO J318.5-22</td>\n",
              "      <td>21.0</td>\n",
              "      <td>False</td>\n",
              "      <td>435.0</td>\n",
              "      <td>0.0</td>\n",
              "      <td>422.0</td>\n",
              "      <td>16.0</td>\n",
              "      <td>0.0</td>\n",
              "      <td>873.0</td>\n",
              "      <td>6385</td>\n",
              "      <td>01</td>\n",
              "      <td>Duncy</td>\n",
              "      <td>NaN</td>\n",
              "      <td>NaN</td>\n",
              "      <td>NaN</td>\n",
              "      <td>1.0</td>\n",
              "    </tr>\n",
              "    <tr>\n",
              "      <th>10257</th>\n",
              "      <td>Earth</td>\n",
              "      <td>False</td>\n",
              "      <td>TRAPPIST-1e</td>\n",
              "      <td>28.0</td>\n",
              "      <td>False</td>\n",
              "      <td>0.0</td>\n",
              "      <td>818.0</td>\n",
              "      <td>51.0</td>\n",
              "      <td>0.0</td>\n",
              "      <td>0.0</td>\n",
              "      <td>869.0</td>\n",
              "      <td>3367</td>\n",
              "      <td>01</td>\n",
              "      <td>NaN</td>\n",
              "      <td>NaN</td>\n",
              "      <td>NaN</td>\n",
              "      <td>NaN</td>\n",
              "      <td>1.0</td>\n",
              "    </tr>\n",
              "  </tbody>\n",
              "</table>\n",
              "</div>"
            ],
            "text/plain": [
              "      HomePlanet CryoSleep    Destination   Age    VIP  RoomService  \\\n",
              "462         Mars     False    TRAPPIST-1e  22.0  False         10.0   \n",
              "1980      Europa     False    TRAPPIST-1e  31.0  False          0.0   \n",
              "3308        Mars     False    TRAPPIST-1e  28.0  False          3.0   \n",
              "6037        Mars     False  PSO J318.5-22  21.0  False        435.0   \n",
              "10257      Earth     False    TRAPPIST-1e  28.0  False          0.0   \n",
              "\n",
              "       FoodCourt  ShoppingMall      Spa  VRDeck  TotalSpent Group  ID  \\\n",
              "462          0.0         817.0    471.0     0.0      1298.0  0502  01   \n",
              "1980      8718.0           0.0  13036.0   267.0     22021.0  2117  01   \n",
              "3308         0.0           0.0    327.0  2054.0      2384.0  3553  01   \n",
              "6037         0.0         422.0     16.0     0.0       873.0  6385  01   \n",
              "10257      818.0          51.0      0.0     0.0       869.0  3367  01   \n",
              "\n",
              "        LastName Deck Number Side  GroupSize  \n",
              "462        Swell  NaN    NaN  NaN        1.0  \n",
              "1980   Rocketedy  NaN    NaN  NaN        1.0  \n",
              "3308        Maie  NaN    NaN  NaN        1.0  \n",
              "6037       Duncy  NaN    NaN  NaN        1.0  \n",
              "10257        NaN  NaN    NaN  NaN        1.0  "
            ]
          },
          "execution_count": 36,
          "metadata": {},
          "output_type": "execute_result"
        }
      ],
      "source": [
        "missing_side = data.loc[(data['Side'].isna())]\n",
        "for i in range(len(missing_side)) :\n",
        "    for j in range(len(data)) :\n",
        "        if((missing_side['LastName'].iloc[i] == data['LastName'].iloc[j]) & (isinstance(data['Side'].iloc[j], str))) :           \n",
        "            missing_side['Side'].iloc[i] = data['Side'].iloc[j] \n",
        "            break\n",
        "\n",
        "data.update(missing_side)\n",
        "data.loc[data['Side'].isna()].head()"
      ]
    },
    {
      "cell_type": "markdown",
      "metadata": {},
      "source": [
        "Only five people does not have a side. Let's set those values to 'X' For now."
      ]
    },
    {
      "cell_type": "code",
      "execution_count": null,
      "metadata": {},
      "outputs": [
        {
          "name": "stdout",
          "output_type": "stream",
          "text": [
            "<class 'pandas.core.frame.DataFrame'>\n",
            "RangeIndex: 12970 entries, 0 to 12969\n",
            "Data columns (total 18 columns):\n",
            " #   Column        Non-Null Count  Dtype  \n",
            "---  ------        --------------  -----  \n",
            " 0   HomePlanet    12689 non-null  object \n",
            " 1   CryoSleep     12970 non-null  object \n",
            " 2   Destination   12704 non-null  object \n",
            " 3   Age           12970 non-null  float64\n",
            " 4   VIP           12970 non-null  object \n",
            " 5   RoomService   12970 non-null  float64\n",
            " 6   FoodCourt     12970 non-null  float64\n",
            " 7   ShoppingMall  12970 non-null  float64\n",
            " 8   Spa           12970 non-null  float64\n",
            " 9   VRDeck        12970 non-null  float64\n",
            " 10  TotalSpent    12970 non-null  float64\n",
            " 11  Group         12970 non-null  object \n",
            " 12  ID            12970 non-null  object \n",
            " 13  LastName      12685 non-null  object \n",
            " 14  Deck          12682 non-null  object \n",
            " 15  Number        12682 non-null  object \n",
            " 16  Side          12970 non-null  object \n",
            " 17  GroupSize     12970 non-null  float64\n",
            "dtypes: float64(8), object(10)\n",
            "memory usage: 1.8+ MB\n"
          ]
        }
      ],
      "source": [
        "data.loc[data['Side'].isna(),'Side'] = 'X'\n",
        "data.info()"
      ]
    },
    {
      "cell_type": "markdown",
      "metadata": {},
      "source": [
        "Now we take care of the cabin decks."
      ]
    },
    {
      "cell_type": "code",
      "execution_count": null,
      "metadata": {},
      "outputs": [
        {
          "name": "stderr",
          "output_type": "stream",
          "text": [
            "c:\\Users\\logga\\miniconda3\\envs\\jupyter-env\\lib\\site-packages\\seaborn\\_decorators.py:36: FutureWarning: Pass the following variable as a keyword arg: x. From version 0.12, the only valid positional argument will be `data`, and passing other arguments without an explicit keyword will result in an error or misinterpretation.\n",
            "  warnings.warn(\n"
          ]
        },
        {
          "data": {
            "text/plain": [
              "Text(0.5, 1.0, 'Number of unique cabin decks per group')"
            ]
          },
          "execution_count": 38,
          "metadata": {},
          "output_type": "execute_result"
        },
        {
          "data": {
            "image/png": "[encoded data removed]",
            "text/plain": [
              "<Figure size 1152x288 with 1 Axes>"
            ]
          },
          "metadata": {
            "needs_background": "light"
          },
          "output_type": "display_data"
        }
      ],
      "source": [
        "deck_grouped = data[data['GroupSize']>1].groupby(['Group','Deck'])['Deck'].size().unstack().fillna(0)\n",
        "\n",
        "fig=plt.figure(figsize=(16,4))\n",
        "plt.subplot(1,3,1)\n",
        "sns.countplot((deck_grouped>0).sum(axis=1))\n",
        "plt.title('Number of unique cabin decks per group')"
      ]
    },
    {
      "cell_type": "markdown",
      "metadata": {},
      "source": [
        "Let's try a similar approach as we did with the cabin sides. The figure above backs up the statement that most groups stay at the same deck."
      ]
    },
    {
      "cell_type": "code",
      "execution_count": null,
      "metadata": {},
      "outputs": [
        {
          "name": "stderr",
          "output_type": "stream",
          "text": [
            "C:\\Users\\logga\\AppData\\Local\\Temp\\ipykernel_18776\\1338496827.py:5: SettingWithCopyWarning: \n",
            "A value is trying to be set on a copy of a slice from a DataFrame\n",
            "\n",
            "See the caveats in the documentation: https://pandas.pydata.org/pandas-docs/stable/user_guide/indexing.html#returning-a-view-versus-a-copy\n",
            "  missing_deck['Deck'].iloc[i] = data['Deck'].iloc[j]\n"
          ]
        },
        {
          "data": {
            "text/plain": [
              "159"
            ]
          },
          "execution_count": 39,
          "metadata": {},
          "output_type": "execute_result"
        }
      ],
      "source": [
        "missing_deck = data.loc[(data['Deck'].isna()) & (data['GroupSize'] > 1)]\n",
        "for i in range(len(missing_deck)) :\n",
        "    for j in range(len(data)) :\n",
        "        if((missing_deck['Group'].iloc[i] == data['Group'].iloc[j])  & (isinstance(data['Deck'].iloc[j], str))) :           \n",
        "            missing_deck['Deck'].iloc[i] = data['Deck'].iloc[j] \n",
        "            break\n",
        "\n",
        "data.update(missing_deck)\n",
        "data['Deck'].isna().sum()"
      ]
    },
    {
      "cell_type": "code",
      "execution_count": null,
      "metadata": {},
      "outputs": [
        {
          "name": "stderr",
          "output_type": "stream",
          "text": [
            "c:\\Users\\logga\\miniconda3\\envs\\jupyter-env\\lib\\site-packages\\seaborn\\_decorators.py:36: FutureWarning: Pass the following variable as a keyword arg: x. From version 0.12, the only valid positional argument will be `data`, and passing other arguments without an explicit keyword will result in an error or misinterpretation.\n",
            "  warnings.warn(\n"
          ]
        },
        {
          "data": {
            "image/png": "[encoded data removed]",
            "text/plain": [
              "<Figure size 1152x288 with 1 Axes>"
            ]
          },
          "metadata": {
            "needs_background": "light"
          },
          "output_type": "display_data"
        }
      ],
      "source": [
        "deck_fam_grouped = data[data['GroupSize']>1].groupby(['LastName','Deck'])['Deck'].size().unstack().fillna(0)\n",
        "\n",
        "fig=plt.figure(figsize=(16, 4))\n",
        "plt.subplot(1,3,1)\n",
        "sns.countplot((deck_fam_grouped > 0).sum(axis=1))\n",
        "plt.title('Number of unique cabin decks per family')\n",
        "fig.tight_layout()"
      ]
    },
    {
      "cell_type": "markdown",
      "metadata": {},
      "source": [
        "It appears that families are likely to stay on the same deck, but not by a lot. Let's see if we can use some other features like HomePlanet to see if one deck is more likely to house people from the same planet."
      ]
    },
    {
      "cell_type": "code",
      "execution_count": null,
      "metadata": {},
      "outputs": [
        {
          "data": {
            "text/plain": [
              "<AxesSubplot:xlabel='HomePlanet', ylabel='Deck'>"
            ]
          },
          "execution_count": 41,
          "metadata": {},
          "output_type": "execute_result"
        },
        {
          "data": {
            "image/png": "[encoded data removed]",
            "text/plain": [
              "<Figure size 576x360 with 2 Axes>"
            ]
          },
          "metadata": {
            "needs_background": "light"
          },
          "output_type": "display_data"
        }
      ],
      "source": [
        "# Correlation between HomePlanet and Deck\n",
        "home_deck = data.groupby(['HomePlanet','Deck'])['HomePlanet'].size().unstack().fillna(0)\n",
        "\n",
        "plt.figure(figsize = (8,5))\n",
        "sns.heatmap(home_deck.T, annot=True, fmt='g', cmap='coolwarm')"
      ]
    },
    {
      "cell_type": "markdown",
      "metadata": {},
      "source": [
        "Seems like people from earth are more likely to be in deck G, F and E (in that order). People from Mars are likely to stay in F, G and D while Europa has people across all decks, but mostly in B and C. We will just put people from Earth and Mars into deck G and F respectivly. But Europa requires some further investigation."
      ]
    },
    {
      "cell_type": "code",
      "execution_count": null,
      "metadata": {},
      "outputs": [
        {
          "data": {
            "text/plain": [
              "32"
            ]
          },
          "execution_count": 42,
          "metadata": {},
          "output_type": "execute_result"
        }
      ],
      "source": [
        "# Passengers from Earth.\n",
        "data.loc[(data['HomePlanet'] == 'Earth') & (data['Deck'].isna()), 'Deck'] = 'G'\n",
        "\n",
        "# Passengers from Mars\n",
        "data.loc[(data['HomePlanet'] == 'Mars') & (data['Deck'].isna()), 'Deck'] = 'F'\n",
        "data['Deck'].isna().sum()"
      ]
    },
    {
      "cell_type": "markdown",
      "metadata": {},
      "source": [
        "Now we want to find out wheter we put passengers from Europa in deck B or C."
      ]
    },
    {
      "cell_type": "code",
      "execution_count": null,
      "metadata": {},
      "outputs": [
        {
          "data": {
            "text/plain": [
              "<AxesSubplot:xlabel='CryoSleep', ylabel='Deck'>"
            ]
          },
          "execution_count": 43,
          "metadata": {},
          "output_type": "execute_result"
        },
        {
          "data": {
            "image/png": "[encoded data removed]",
            "text/plain": [
              "<Figure size 576x360 with 2 Axes>"
            ]
          },
          "metadata": {
            "needs_background": "light"
          },
          "output_type": "display_data"
        },
        {
          "data": {
            "image/png": "[encoded data removed]",
            "text/plain": [
              "<Figure size 576x360 with 2 Axes>"
            ]
          },
          "metadata": {
            "needs_background": "light"
          },
          "output_type": "display_data"
        }
      ],
      "source": [
        "eur_deck_dest = data[(data[\"HomePlanet\"] == \"Europa\") & ((data[\"Deck\"] == \"B\") | (data[\"Deck\"] == \"C\"))].groupby(['GroupSize','Deck'])['Deck'].size().unstack().fillna(0)\n",
        "eur_deck_cryo = data[(data[\"HomePlanet\"] == \"Europa\") & ((data[\"Deck\"] == \"B\") | (data[\"Deck\"] == \"C\"))].groupby(['CryoSleep','Deck'])['Deck'].size().unstack().fillna(0)\n",
        "\n",
        "plt.figure(figsize = (8,5))\n",
        "sns.heatmap(eur_deck_dest.T, annot=True, fmt='g', cmap='coolwarm')\n",
        "\n",
        "plt.figure(figsize = (8,5))\n",
        "sns.heatmap(eur_deck_cryo.T, annot=True, fmt='g', cmap='coolwarm')"
      ]
    },
    {
      "cell_type": "markdown",
      "metadata": {},
      "source": [
        "After a bit of trial and error we found out that the two most reliable correlations were GroupSize and CryoSleep."
      ]
    },
    {
      "cell_type": "code",
      "execution_count": null,
      "metadata": {},
      "outputs": [
        {
          "data": {
            "text/html": [
              "<div>\n",
              "<style scoped>\n",
              "    .dataframe tbody tr th:only-of-type {\n",
              "        vertical-align: middle;\n",
              "    }\n",
              "\n",
              "    .dataframe tbody tr th {\n",
              "        vertical-align: top;\n",
              "    }\n",
              "\n",
              "    .dataframe thead th {\n",
              "        text-align: right;\n",
              "    }\n",
              "</style>\n",
              "<table border=\"1\" class=\"dataframe\">\n",
              "  <thead>\n",
              "    <tr style=\"text-align: right;\">\n",
              "      <th></th>\n",
              "      <th>HomePlanet</th>\n",
              "      <th>CryoSleep</th>\n",
              "      <th>Destination</th>\n",
              "      <th>Age</th>\n",
              "      <th>VIP</th>\n",
              "      <th>RoomService</th>\n",
              "      <th>FoodCourt</th>\n",
              "      <th>ShoppingMall</th>\n",
              "      <th>Spa</th>\n",
              "      <th>VRDeck</th>\n",
              "      <th>TotalSpent</th>\n",
              "      <th>Group</th>\n",
              "      <th>ID</th>\n",
              "      <th>LastName</th>\n",
              "      <th>Deck</th>\n",
              "      <th>Number</th>\n",
              "      <th>Side</th>\n",
              "      <th>GroupSize</th>\n",
              "    </tr>\n",
              "  </thead>\n",
              "  <tbody>\n",
              "    <tr>\n",
              "      <th>1550</th>\n",
              "      <td>NaN</td>\n",
              "      <td>True</td>\n",
              "      <td>55 Cancri e</td>\n",
              "      <td>18.0</td>\n",
              "      <td>False</td>\n",
              "      <td>0.0</td>\n",
              "      <td>0.0</td>\n",
              "      <td>0.0</td>\n",
              "      <td>0.0</td>\n",
              "      <td>0.0</td>\n",
              "      <td>0.0</td>\n",
              "      <td>1645</td>\n",
              "      <td>01</td>\n",
              "      <td>Thonyderson</td>\n",
              "      <td>NaN</td>\n",
              "      <td>NaN</td>\n",
              "      <td>S</td>\n",
              "      <td>1.0</td>\n",
              "    </tr>\n",
              "    <tr>\n",
              "      <th>1714</th>\n",
              "      <td>NaN</td>\n",
              "      <td>False</td>\n",
              "      <td>TRAPPIST-1e</td>\n",
              "      <td>67.0</td>\n",
              "      <td>False</td>\n",
              "      <td>143.0</td>\n",
              "      <td>68.0</td>\n",
              "      <td>496.0</td>\n",
              "      <td>182.0</td>\n",
              "      <td>9.0</td>\n",
              "      <td>898.0</td>\n",
              "      <td>1823</td>\n",
              "      <td>01</td>\n",
              "      <td>Byerson</td>\n",
              "      <td>NaN</td>\n",
              "      <td>NaN</td>\n",
              "      <td>P</td>\n",
              "      <td>1.0</td>\n",
              "    </tr>\n",
              "    <tr>\n",
              "      <th>3858</th>\n",
              "      <td>NaN</td>\n",
              "      <td>True</td>\n",
              "      <td>TRAPPIST-1e</td>\n",
              "      <td>40.0</td>\n",
              "      <td>False</td>\n",
              "      <td>0.0</td>\n",
              "      <td>0.0</td>\n",
              "      <td>0.0</td>\n",
              "      <td>0.0</td>\n",
              "      <td>0.0</td>\n",
              "      <td>0.0</td>\n",
              "      <td>4134</td>\n",
              "      <td>01</td>\n",
              "      <td>Datty</td>\n",
              "      <td>NaN</td>\n",
              "      <td>NaN</td>\n",
              "      <td>S</td>\n",
              "      <td>1.0</td>\n",
              "    </tr>\n",
              "    <tr>\n",
              "      <th>7293</th>\n",
              "      <td>NaN</td>\n",
              "      <td>False</td>\n",
              "      <td>55 Cancri e</td>\n",
              "      <td>21.0</td>\n",
              "      <td>False</td>\n",
              "      <td>1720.0</td>\n",
              "      <td>2337.0</td>\n",
              "      <td>0.0</td>\n",
              "      <td>1.0</td>\n",
              "      <td>335.0</td>\n",
              "      <td>4393.0</td>\n",
              "      <td>7801</td>\n",
              "      <td>01</td>\n",
              "      <td>Coopezmaney</td>\n",
              "      <td>NaN</td>\n",
              "      <td>NaN</td>\n",
              "      <td>S</td>\n",
              "      <td>1.0</td>\n",
              "    </tr>\n",
              "  </tbody>\n",
              "</table>\n",
              "</div>"
            ],
            "text/plain": [
              "     HomePlanet CryoSleep  Destination   Age    VIP  RoomService  FoodCourt  \\\n",
              "1550        NaN      True  55 Cancri e  18.0  False          0.0        0.0   \n",
              "1714        NaN     False  TRAPPIST-1e  67.0  False        143.0       68.0   \n",
              "3858        NaN      True  TRAPPIST-1e  40.0  False          0.0        0.0   \n",
              "7293        NaN     False  55 Cancri e  21.0  False       1720.0     2337.0   \n",
              "\n",
              "      ShoppingMall    Spa  VRDeck  TotalSpent Group  ID     LastName Deck  \\\n",
              "1550           0.0    0.0     0.0         0.0  1645  01  Thonyderson  NaN   \n",
              "1714         496.0  182.0     9.0       898.0  1823  01      Byerson  NaN   \n",
              "3858           0.0    0.0     0.0         0.0  4134  01        Datty  NaN   \n",
              "7293           0.0    1.0   335.0      4393.0  7801  01  Coopezmaney  NaN   \n",
              "\n",
              "     Number Side  GroupSize  \n",
              "1550    NaN    S        1.0  \n",
              "1714    NaN    P        1.0  \n",
              "3858    NaN    S        1.0  \n",
              "7293    NaN    S        1.0  "
            ]
          },
          "execution_count": 44,
          "metadata": {},
          "output_type": "execute_result"
        }
      ],
      "source": [
        "dataEur = data.loc[(data['HomePlanet'] == 'Europa') & (data['Deck'].isna())]\n",
        "\n",
        "# If you are traveling alone and not cryosleeping you are likely to be in Deck C\n",
        "dataEur.loc[(data['GroupSize'] == 1) & (data['CryoSleep'] == False), 'Deck'] = 'C'\n",
        "\n",
        "# If you're in a group of more than one and in cryosleep you are likely to be in Deck B. \n",
        "dataEur.loc[(data['GroupSize'] > 1) & (data['CryoSleep'] == True), 'Deck'] = 'B'\n",
        "\n",
        "# Lets just do the rest based on cryosleep.\n",
        "dataEur.loc[data['CryoSleep'] == False, 'Deck'] = 'C'\n",
        "dataEur.loc[data['CryoSleep'] == True, 'Deck'] = 'B'\n",
        "\n",
        "data.update(dataEur)\n",
        "data.loc[data['Deck'].isna()].head()"
      ]
    },
    {
      "cell_type": "markdown",
      "metadata": {},
      "source": [
        "Now were only left with passengers who have NaN as HomePlanet as well as Deck. We'll set these to 'X'."
      ]
    },
    {
      "cell_type": "code",
      "execution_count": null,
      "metadata": {},
      "outputs": [
        {
          "name": "stdout",
          "output_type": "stream",
          "text": [
            "<class 'pandas.core.frame.DataFrame'>\n",
            "RangeIndex: 12970 entries, 0 to 12969\n",
            "Data columns (total 18 columns):\n",
            " #   Column        Non-Null Count  Dtype  \n",
            "---  ------        --------------  -----  \n",
            " 0   HomePlanet    12689 non-null  object \n",
            " 1   CryoSleep     12970 non-null  object \n",
            " 2   Destination   12704 non-null  object \n",
            " 3   Age           12970 non-null  float64\n",
            " 4   VIP           12970 non-null  object \n",
            " 5   RoomService   12970 non-null  float64\n",
            " 6   FoodCourt     12970 non-null  float64\n",
            " 7   ShoppingMall  12970 non-null  float64\n",
            " 8   Spa           12970 non-null  float64\n",
            " 9   VRDeck        12970 non-null  float64\n",
            " 10  TotalSpent    12970 non-null  float64\n",
            " 11  Group         12970 non-null  object \n",
            " 12  ID            12970 non-null  object \n",
            " 13  LastName      12685 non-null  object \n",
            " 14  Deck          12970 non-null  object \n",
            " 15  Number        12682 non-null  object \n",
            " 16  Side          12970 non-null  object \n",
            " 17  GroupSize     12970 non-null  float64\n",
            "dtypes: float64(8), object(10)\n",
            "memory usage: 1.8+ MB\n"
          ]
        }
      ],
      "source": [
        "data.loc[data['Deck'].isna(),'Deck'] = 'X'\n",
        "data.info()"
      ]
    },
    {
      "cell_type": "markdown",
      "metadata": {},
      "source": [
        "**Final step of filling the Cabin spaces is the cabin number.**"
      ]
    },
    {
      "cell_type": "code",
      "execution_count": null,
      "metadata": {},
      "outputs": [
        {
          "name": "stderr",
          "output_type": "stream",
          "text": [
            "c:\\Users\\logga\\miniconda3\\envs\\jupyter-env\\lib\\site-packages\\seaborn\\_decorators.py:36: FutureWarning: Pass the following variable as a keyword arg: x. From version 0.12, the only valid positional argument will be `data`, and passing other arguments without an explicit keyword will result in an error or misinterpretation.\n",
            "  warnings.warn(\n"
          ]
        },
        {
          "data": {
            "text/plain": [
              "Text(0.5, 1.0, 'Number of unique cabin numbers per group')"
            ]
          },
          "execution_count": 46,
          "metadata": {},
          "output_type": "execute_result"
        },
        {
          "data": {
            "image/png": "[encoded data removed]",
            "text/plain": [
              "<Figure size 576x360 with 1 Axes>"
            ]
          },
          "metadata": {
            "needs_background": "light"
          },
          "output_type": "display_data"
        }
      ],
      "source": [
        "number_grouped = data[data['GroupSize']>1].groupby(['Group','Number'])['Number'].size().unstack().fillna(0)\n",
        "\n",
        "plt.figure(figsize = (8,5))\n",
        "plt.subplot(1,3,2)\n",
        "sns.countplot((number_grouped>0).sum(axis=1))\n",
        "plt.title('Number of unique cabin numbers per group')"
      ]
    },
    {
      "cell_type": "code",
      "execution_count": null,
      "metadata": {},
      "outputs": [
        {
          "name": "stdout",
          "output_type": "stream",
          "text": [
            "     HomePlanet CryoSleep    Destination   Age    VIP  RoomService  FoodCourt  \\\n",
            "103      Europa     False    TRAPPIST-1e  32.0  False          0.0      410.0   \n",
            "227        Mars      True    TRAPPIST-1e  43.0  False          0.0        0.0   \n",
            "251       Earth     False    TRAPPIST-1e  35.0  False          0.0        0.0   \n",
            "260      Europa      True    55 Cancri e  39.0  False          0.0        0.0   \n",
            "314        Mars     False    TRAPPIST-1e  36.0  False        520.0        0.0   \n",
            "415      Europa      True    55 Cancri e  34.0  False          0.0        0.0   \n",
            "456      Europa      True    55 Cancri e  27.0  False          0.0        0.0   \n",
            "665      Europa      True    55 Cancri e  35.0  False          0.0        0.0   \n",
            "679      Europa      True    55 Cancri e  23.0  False          0.0        0.0   \n",
            "713      Europa      True    55 Cancri e  42.0  False          0.0        0.0   \n",
            "785       Earth     False    55 Cancri e  42.0  False          0.0        0.0   \n",
            "928      Europa     False    55 Cancri e  35.0   True       8030.0      300.0   \n",
            "946       Earth     False    TRAPPIST-1e  12.0  False          0.0        0.0   \n",
            "949       Earth     False    TRAPPIST-1e  31.0  False       1633.0        4.0   \n",
            "1049      Earth     False    TRAPPIST-1e  36.0  False          0.0     3011.0   \n",
            "1075     Europa     False    55 Cancri e  39.0  False          0.0     5212.0   \n",
            "1160       Mars      True    TRAPPIST-1e  21.0  False          0.0        0.0   \n",
            "1232     Europa      True    55 Cancri e  40.0  False          0.0        0.0   \n",
            "1327     Europa     False    TRAPPIST-1e  42.0  False          0.0       51.0   \n",
            "1362      Earth     False    TRAPPIST-1e   0.0  False          0.0        0.0   \n",
            "1379     Europa      True    TRAPPIST-1e  70.0  False          0.0        0.0   \n",
            "1467     Europa     False    55 Cancri e  53.0   True       5022.0     2376.0   \n",
            "1478      Earth     False    TRAPPIST-1e  22.0  False       1018.0      100.0   \n",
            "1491       Mars      True    TRAPPIST-1e  28.0  False          0.0        0.0   \n",
            "1559      Earth     False    TRAPPIST-1e  28.0  False       3202.0        0.0   \n",
            "1587      Earth     False    55 Cancri e  51.0  False          0.0      260.0   \n",
            "1592      Earth      True    TRAPPIST-1e   7.0  False          0.0        0.0   \n",
            "1610       Mars     False    TRAPPIST-1e  35.0  False       1313.0        0.0   \n",
            "1680      Earth      True    TRAPPIST-1e  28.0  False          0.0        0.0   \n",
            "1771     Europa      True    55 Cancri e  17.0  False          0.0        0.0   \n",
            "1781     Europa     False    TRAPPIST-1e  29.0  False          4.0      841.0   \n",
            "1958       Mars     False    TRAPPIST-1e  13.0  False       6726.0        0.0   \n",
            "1970      Earth     False    TRAPPIST-1e  26.0  False          0.0        0.0   \n",
            "2118      Earth      True    55 Cancri e  21.0  False          0.0        0.0   \n",
            "2227        NaN      True    TRAPPIST-1e  11.0  False          0.0        0.0   \n",
            "2363     Europa     False    55 Cancri e  37.0  False          0.0      100.0   \n",
            "2861     Europa     False    TRAPPIST-1e  14.0  False          0.0      946.0   \n",
            "2948      Earth     False    55 Cancri e   0.0  False          0.0        0.0   \n",
            "3040      Earth     False    TRAPPIST-1e  22.0  False        718.0        2.0   \n",
            "3044     Europa     False    55 Cancri e  52.0  False         13.0     6074.0   \n",
            "3278      Earth      True  PSO J318.5-22  13.0  False          0.0        0.0   \n",
            "3279     Europa      True    55 Cancri e  23.0  False          0.0        0.0   \n",
            "3290       Mars     False    TRAPPIST-1e  36.0  False       1304.0        0.0   \n",
            "3384      Earth     False    TRAPPIST-1e   0.0  False          0.0        0.0   \n",
            "3458       Mars     False    TRAPPIST-1e  28.0   True       1193.0        0.0   \n",
            "3495      Earth      True    TRAPPIST-1e  24.0  False          0.0        0.0   \n",
            "3739      Earth      True    TRAPPIST-1e  12.0  False          0.0        0.0   \n",
            "3770      Earth      True    TRAPPIST-1e  10.0  False          0.0        0.0   \n",
            "3914     Europa      True    TRAPPIST-1e  17.0  False          0.0        0.0   \n",
            "4022       Mars      True    TRAPPIST-1e  32.0  False          0.0        0.0   \n",
            "\n",
            "      ShoppingMall      Spa  VRDeck  TotalSpent Group  ID     LastName Deck  \\\n",
            "103            6.0   3929.0   764.0      5109.0  0110  01    Aloubtled    B   \n",
            "227            0.0      0.0     0.0         0.0  0244  01          Sad    F   \n",
            "251            0.0    888.0     0.0       888.0  0278  01      Beachez    G   \n",
            "260            0.0      0.0     0.0         0.0  0287  01       Bootty    B   \n",
            "314         1865.0      0.0     0.0      2385.0  0348  02         Mane    D   \n",
            "415            0.0      0.0     0.0         0.0  0453  02   Taptiritty    B   \n",
            "456            0.0      0.0     0.0         0.0  0498  01       Preent    B   \n",
            "665            0.0      0.0     0.0         0.0  0693  01   Dedometeel    C   \n",
            "679            0.0      0.0     0.0         0.0  0709  03     Missefle    A   \n",
            "713            0.0      0.0     0.0         0.0  0753  03      Ennalve    A   \n",
            "785          739.0      0.0     0.0       739.0  0823  02   Carrishley    G   \n",
            "928            0.0      0.0  1436.0      9766.0  0992  04    Herpumble    D   \n",
            "946            0.0      0.0     0.0         0.0  1006  03   Summington    E   \n",
            "949           49.0      6.0     0.0      1692.0  1011  01      Prinson    G   \n",
            "1049           0.0      0.0    98.0      3109.0  1116  02   Barnolaney    G   \n",
            "1075           2.0    118.0    61.0      5393.0  1148  04      Clugete    C   \n",
            "1160           0.0      0.0     0.0         0.0  1228  01        Purle    E   \n",
            "1232           0.0      0.0     0.0         0.0  1308  01      Plegred    E   \n",
            "1327           0.0   4170.0    13.0      4234.0  1404  02     Mornaned    B   \n",
            "1362           0.0      0.0     0.0         0.0  1434  02       Cartez    G   \n",
            "1379           0.0      0.0     0.0         0.0  1452  02     Distured    C   \n",
            "1467           0.0      0.0   235.0      7633.0  1550  02   Supiensive    C   \n",
            "1478           0.0      9.0     0.0      1127.0  1568  01   Burchrison    G   \n",
            "1491           0.0      0.0     0.0         0.0  1581  02          Che    F   \n",
            "1559           0.0      0.0     5.0      3207.0  1655  01     Dicksons    F   \n",
            "1587          91.0      0.0   264.0       615.0  1685  01   Dillestron    G   \n",
            "1592           0.0      0.0     0.0         0.0  1688  02   Webstenson    E   \n",
            "1610          24.0      0.0     1.0      1338.0  1709  03        Minen    F   \n",
            "1680           0.0      0.0     0.0         0.0  1782  01      Moodson    F   \n",
            "1771           0.0      0.0     0.0         0.0  1882  02       Antcal    C   \n",
            "1781           0.0    363.0  1107.0      2315.0  1892  02   Stpingepid    D   \n",
            "1958        1605.0   1266.0     0.0      9597.0  2092  03        Stpie    D   \n",
            "1970           0.0      0.0     0.0         0.0  2104  02       Bootez    F   \n",
            "2118           0.0      0.0     0.0         0.0  2272  02  Quinnerettt    G   \n",
            "2227           0.0      0.0     0.0         0.0  2384  07  Pollarkeeks    G   \n",
            "2363           0.0   1402.0  1462.0      2964.0  2547  01     Sometery    A   \n",
            "2861           0.0   7860.0   384.0      9190.0  3091  01   Wingcoling    D   \n",
            "2948           0.0      0.0     0.0         0.0  3195  05     Litthews    G   \n",
            "3040          50.0      0.0     0.0       770.0  3287  02   Carlsonney    G   \n",
            "3044           0.0  10385.0   299.0     16771.0  3292  02      Dianket    B   \n",
            "3278           0.0      0.0     0.0         0.0  3520  02     Wartyson    G   \n",
            "3279           0.0      0.0     0.0         0.0  3521  01   Radisiouss    B   \n",
            "3290           7.0     18.0     0.0      1329.0  3535  01        Porki    F   \n",
            "3384           0.0      0.0     0.0         0.0  3641  03       Powery    G   \n",
            "3458        2509.0      0.0     0.0      3702.0  3719  01         Mone    F   \n",
            "3495           0.0      0.0     0.0         0.0  3755  01    Gallencis    G   \n",
            "3739           0.0      0.0     0.0         0.0  4005  04     Spentley    G   \n",
            "3770           0.0      0.0     0.0         0.0  4030  02   Carpennels    G   \n",
            "3914           0.0      0.0     0.0         0.0  4181  03   Frattyring    C   \n",
            "4022           0.0      0.0     0.0         0.0  4295  02        Manda    D   \n",
            "\n",
            "     Number Side  GroupSize  \n",
            "103     NaN    P        4.0  \n",
            "227     NaN    S        2.0  \n",
            "251     NaN    P        2.0  \n",
            "260     NaN    P        2.0  \n",
            "314     NaN    P        2.0  \n",
            "415     NaN    S        3.0  \n",
            "456     NaN    S        2.0  \n",
            "665     NaN    S        2.0  \n",
            "679     NaN    S        3.0  \n",
            "713     NaN    P        3.0  \n",
            "785     NaN    S        3.0  \n",
            "928     NaN    S        6.0  \n",
            "946     NaN    S        5.0  \n",
            "949     NaN    P        2.0  \n",
            "1049    NaN    S        4.0  \n",
            "1075    NaN    P        7.0  \n",
            "1160    NaN    S        2.0  \n",
            "1232    NaN    S        4.0  \n",
            "1327    NaN    S        2.0  \n",
            "1362    NaN    P        5.0  \n",
            "1379    NaN    P        5.0  \n",
            "1467    NaN    S        2.0  \n",
            "1478    NaN    P        2.0  \n",
            "1491    NaN    P        2.0  \n",
            "1559    NaN    S        2.0  \n",
            "1587    NaN    P        5.0  \n",
            "1592    NaN    S        4.0  \n",
            "1610    NaN    S        7.0  \n",
            "1680    NaN    S        2.0  \n",
            "1771    NaN    S        2.0  \n",
            "1781    NaN    P        3.0  \n",
            "1958    NaN    S        5.0  \n",
            "1970    NaN    S        2.0  \n",
            "2118    NaN    P        4.0  \n",
            "2227    NaN    S       10.0  \n",
            "2363    NaN    P        2.0  \n",
            "2861    NaN    S        2.0  \n",
            "2948    NaN    S       10.0  \n",
            "3040    NaN    S        4.0  \n",
            "3044    NaN    S        5.0  \n",
            "3278    NaN    P        2.0  \n",
            "3279    NaN    S        2.0  \n",
            "3290    NaN    S        2.0  \n",
            "3384    NaN    P        4.0  \n",
            "3458    NaN    S        2.0  \n",
            "3495    NaN    P        2.0  \n",
            "3739    NaN    P       10.0  \n",
            "3770    NaN    S        9.0  \n",
            "3914    NaN    P        8.0  \n",
            "4022    NaN    P        2.0  \n"
          ]
        },
        {
          "name": "stderr",
          "output_type": "stream",
          "text": [
            "C:\\Users\\logga\\AppData\\Local\\Temp\\ipykernel_18776\\607890348.py:8: SettingWithCopyWarning: \n",
            "A value is trying to be set on a copy of a slice from a DataFrame\n",
            "\n",
            "See the caveats in the documentation: https://pandas.pydata.org/pandas-docs/stable/user_guide/indexing.html#returning-a-view-versus-a-copy\n",
            "  missing_num['Number'].iloc[i] = data['Number'].iloc[j]\n"
          ]
        },
        {
          "data": {
            "text/plain": [
              "159"
            ]
          },
          "execution_count": 47,
          "metadata": {},
          "output_type": "execute_result"
        }
      ],
      "source": [
        "# Filling missing values for number where other group members has a number\n",
        "missing_num = data.loc[(data['Number'].isna()) & (data['GroupSize'] > 1)]\n",
        "\n",
        "print (missing_num.head(50))\n",
        "for i in range(len(missing_num)) :\n",
        "    for j in range(len(data)) :\n",
        "        if((missing_num['Group'].iloc[i] == data['Group'].iloc[j]) & (isinstance(data['Number'].iloc[j], str))) :           \n",
        "            missing_num['Number'].iloc[i] = data['Number'].iloc[j] \n",
        "            break\n",
        "\n",
        "data.update(missing_num)\n",
        "data['Number'].isna().sum()"
      ]
    },
    {
      "cell_type": "code",
      "execution_count": null,
      "metadata": {},
      "outputs": [
        {
          "name": "stderr",
          "output_type": "stream",
          "text": [
            "c:\\Users\\logga\\miniconda3\\envs\\jupyter-env\\lib\\site-packages\\seaborn\\_decorators.py:36: FutureWarning: Pass the following variable as a keyword arg: x. From version 0.12, the only valid positional argument will be `data`, and passing other arguments without an explicit keyword will result in an error or misinterpretation.\n",
            "  warnings.warn(\n"
          ]
        },
        {
          "data": {
            "image/png": "[encoded data removed]",
            "text/plain": [
              "<Figure size 1152x288 with 1 Axes>"
            ]
          },
          "metadata": {
            "needs_background": "light"
          },
          "output_type": "display_data"
        }
      ],
      "source": [
        "num_fam_grouped = data[data['GroupSize']>1].groupby(['LastName','Number'])['Number'].size().unstack().fillna(0)\n",
        "\n",
        "fig=plt.figure(figsize=(16, 4))\n",
        "plt.subplot(1,3,1)\n",
        "sns.countplot((num_fam_grouped > 0).sum(axis=1))\n",
        "plt.title('Number of unique cabin numbers per family')\n",
        "fig.tight_layout()"
      ]
    },
    {
      "cell_type": "markdown",
      "metadata": {},
      "source": [
        "As with deck, not confident in setting the cabin number the same as family members last name. 'In Spaceship Titanic: A complete guide' there is a great idea to predict the number using linear regression. The next two snippets contains that solution."
      ]
    },
    {
      "cell_type": "code",
      "execution_count": null,
      "metadata": {},
      "outputs": [
        {
          "ename": "KeyError",
          "evalue": "'Cabin_number'",
          "output_type": "error",
          "traceback": [
            "\u001b[1;31m---------------------------------------------------------------------------\u001b[0m",
            "\u001b[1;31mKeyError\u001b[0m                                  Traceback (most recent call last)",
            "File \u001b[1;32mc:\\Users\\logga\\miniconda3\\envs\\jupyter-env\\lib\\site-packages\\pandas\\core\\indexes\\base.py:3621\u001b[0m, in \u001b[0;36mIndex.get_loc\u001b[1;34m(self, key, method, tolerance)\u001b[0m\n\u001b[0;32m   3620\u001b[0m \u001b[39mtry\u001b[39;00m:\n\u001b[1;32m-> 3621\u001b[0m     \u001b[39mreturn\u001b[39;00m \u001b[39mself\u001b[39;49m\u001b[39m.\u001b[39;49m_engine\u001b[39m.\u001b[39;49mget_loc(casted_key)\n\u001b[0;32m   3622\u001b[0m \u001b[39mexcept\u001b[39;00m \u001b[39mKeyError\u001b[39;00m \u001b[39mas\u001b[39;00m err:\n",
            "File \u001b[1;32mc:\\Users\\logga\\miniconda3\\envs\\jupyter-env\\lib\\site-packages\\pandas\\_libs\\index.pyx:136\u001b[0m, in \u001b[0;36mpandas._libs.index.IndexEngine.get_loc\u001b[1;34m()\u001b[0m\n",
            "File \u001b[1;32mc:\\Users\\logga\\miniconda3\\envs\\jupyter-env\\lib\\site-packages\\pandas\\_libs\\index.pyx:163\u001b[0m, in \u001b[0;36mpandas._libs.index.IndexEngine.get_loc\u001b[1;34m()\u001b[0m\n",
            "File \u001b[1;32mpandas\\_libs\\hashtable_class_helper.pxi:5198\u001b[0m, in \u001b[0;36mpandas._libs.hashtable.PyObjectHashTable.get_item\u001b[1;34m()\u001b[0m\n",
            "File \u001b[1;32mpandas\\_libs\\hashtable_class_helper.pxi:5206\u001b[0m, in \u001b[0;36mpandas._libs.hashtable.PyObjectHashTable.get_item\u001b[1;34m()\u001b[0m\n",
            "\u001b[1;31mKeyError\u001b[0m: 'Cabin_number'",
            "\nThe above exception was the direct cause of the following exception:\n",
            "\u001b[1;31mKeyError\u001b[0m                                  Traceback (most recent call last)",
            "\u001b[1;32mc:\\Users\\logga\\Documents\\Koding\\VSC\\MachineLearning\\assignment2\\spaceTitanic.ipynb Cell 83\u001b[0m in \u001b[0;36m<cell line: 3>\u001b[1;34m()\u001b[0m\n\u001b[0;32m      <a href='vscode-notebook-cell:/c%3A/Users/logga/Documents/Koding/VSC/MachineLearning/assignment2/spaceTitanic.ipynb#Y346sZmlsZQ%3D%3D?line=0'>1</a>\u001b[0m \u001b[39m# Scatterplot\u001b[39;00m\n\u001b[0;32m      <a href='vscode-notebook-cell:/c%3A/Users/logga/Documents/Koding/VSC/MachineLearning/assignment2/spaceTitanic.ipynb#Y346sZmlsZQ%3D%3D?line=1'>2</a>\u001b[0m plt\u001b[39m.\u001b[39mfigure(figsize\u001b[39m=\u001b[39m(\u001b[39m10\u001b[39m,\u001b[39m4\u001b[39m))\n\u001b[1;32m----> <a href='vscode-notebook-cell:/c%3A/Users/logga/Documents/Koding/VSC/MachineLearning/assignment2/spaceTitanic.ipynb#Y346sZmlsZQ%3D%3D?line=2'>3</a>\u001b[0m sns\u001b[39m.\u001b[39mscatterplot(x\u001b[39m=\u001b[39mdata[\u001b[39m'\u001b[39;49m\u001b[39mCabin_number\u001b[39;49m\u001b[39m'\u001b[39;49m], y\u001b[39m=\u001b[39mdata[\u001b[39m'\u001b[39m\u001b[39mGroup\u001b[39m\u001b[39m'\u001b[39m], c\u001b[39m=\u001b[39mLabelEncoder()\u001b[39m.\u001b[39mfit_transform(data\u001b[39m.\u001b[39mloc[\u001b[39m~\u001b[39mdata[\u001b[39m'\u001b[39m\u001b[39mCabin_number\u001b[39m\u001b[39m'\u001b[39m]\u001b[39m.\u001b[39misna(),\u001b[39m'\u001b[39m\u001b[39mCabin_deck\u001b[39m\u001b[39m'\u001b[39m]), cmap\u001b[39m=\u001b[39m\u001b[39m'\u001b[39m\u001b[39mtab10\u001b[39m\u001b[39m'\u001b[39m)\n\u001b[0;32m      <a href='vscode-notebook-cell:/c%3A/Users/logga/Documents/Koding/VSC/MachineLearning/assignment2/spaceTitanic.ipynb#Y346sZmlsZQ%3D%3D?line=3'>4</a>\u001b[0m plt\u001b[39m.\u001b[39mtitle(\u001b[39m'\u001b[39m\u001b[39mCabin_number vs group coloured by group\u001b[39m\u001b[39m'\u001b[39m)\n",
            "File \u001b[1;32mc:\\Users\\logga\\miniconda3\\envs\\jupyter-env\\lib\\site-packages\\pandas\\core\\frame.py:3505\u001b[0m, in \u001b[0;36mDataFrame.__getitem__\u001b[1;34m(self, key)\u001b[0m\n\u001b[0;32m   3503\u001b[0m \u001b[39mif\u001b[39;00m \u001b[39mself\u001b[39m\u001b[39m.\u001b[39mcolumns\u001b[39m.\u001b[39mnlevels \u001b[39m>\u001b[39m \u001b[39m1\u001b[39m:\n\u001b[0;32m   3504\u001b[0m     \u001b[39mreturn\u001b[39;00m \u001b[39mself\u001b[39m\u001b[39m.\u001b[39m_getitem_multilevel(key)\n\u001b[1;32m-> 3505\u001b[0m indexer \u001b[39m=\u001b[39m \u001b[39mself\u001b[39;49m\u001b[39m.\u001b[39;49mcolumns\u001b[39m.\u001b[39;49mget_loc(key)\n\u001b[0;32m   3506\u001b[0m \u001b[39mif\u001b[39;00m is_integer(indexer):\n\u001b[0;32m   3507\u001b[0m     indexer \u001b[39m=\u001b[39m [indexer]\n",
            "File \u001b[1;32mc:\\Users\\logga\\miniconda3\\envs\\jupyter-env\\lib\\site-packages\\pandas\\core\\indexes\\base.py:3623\u001b[0m, in \u001b[0;36mIndex.get_loc\u001b[1;34m(self, key, method, tolerance)\u001b[0m\n\u001b[0;32m   3621\u001b[0m     \u001b[39mreturn\u001b[39;00m \u001b[39mself\u001b[39m\u001b[39m.\u001b[39m_engine\u001b[39m.\u001b[39mget_loc(casted_key)\n\u001b[0;32m   3622\u001b[0m \u001b[39mexcept\u001b[39;00m \u001b[39mKeyError\u001b[39;00m \u001b[39mas\u001b[39;00m err:\n\u001b[1;32m-> 3623\u001b[0m     \u001b[39mraise\u001b[39;00m \u001b[39mKeyError\u001b[39;00m(key) \u001b[39mfrom\u001b[39;00m \u001b[39merr\u001b[39;00m\n\u001b[0;32m   3624\u001b[0m \u001b[39mexcept\u001b[39;00m \u001b[39mTypeError\u001b[39;00m:\n\u001b[0;32m   3625\u001b[0m     \u001b[39m# If we have a listlike key, _check_indexing_error will raise\u001b[39;00m\n\u001b[0;32m   3626\u001b[0m     \u001b[39m#  InvalidIndexError. Otherwise we fall through and re-raise\u001b[39;00m\n\u001b[0;32m   3627\u001b[0m     \u001b[39m#  the TypeError.\u001b[39;00m\n\u001b[0;32m   3628\u001b[0m     \u001b[39mself\u001b[39m\u001b[39m.\u001b[39m_check_indexing_error(key)\n",
            "\u001b[1;31mKeyError\u001b[0m: 'Cabin_number'"
          ]
        },
        {
          "data": {
            "text/plain": [
              "<Figure size 720x288 with 0 Axes>"
            ]
          },
          "metadata": {},
          "output_type": "display_data"
        }
      ],
      "source": [
        "# Scatterplot\n",
        "plt.figure(figsize=(10,4))\n",
        "sns.scatterplot(x=data['Cabin_number'], y=data['Group'], c=LabelEncoder().fit_transform(data.loc[~data['Cabin_number'].isna(),'Cabin_deck']), cmap='tab10')\n",
        "plt.title('Cabin_number vs group coloured by group')"
      ]
    },
    {
      "cell_type": "code",
      "execution_count": null,
      "metadata": {},
      "outputs": [],
      "source": [
        "\n",
        "# Extrapolate linear relationship on a deck by deck basis\n",
        "for deck in ['A', 'B', 'C', 'D', 'E', 'F', 'G']:\n",
        "    # Features and labels\n",
        "    X_CN=data.loc[~(data['Cabin_number'].isna()) & (data['Cabin_deck']==deck),'Group']\n",
        "    y_CN=data.loc[~(data['Cabin_number'].isna()) & (data['Cabin_deck']==deck),'Cabin_number']\n",
        "    X_test_CN=data.loc[(data['Cabin_number'].isna()) & (data['Cabin_deck']==deck),'Group']\n",
        "\n",
        "    # Linear regression\n",
        "    model_CN=LinearRegression()\n",
        "    model_CN.fit(X_CN.values.reshape(-1, 1), y_CN)\n",
        "    preds_CN=model_CN.predict(X_test_CN.values.reshape(-1, 1))\n",
        "    \n",
        "    # Fill missing values with predictions\n",
        "    data.loc[(data['Cabin_number'].isna()) & (data['Cabin_deck']==deck),'Cabin_number']=preds_CN.astype(int)\n",
        "\n",
        "# Print number of missing values left\n",
        "print('#Cabin_number missing values before:',CN_bef)\n",
        "print('#Cabin_number missing values after:',data['Cabin_number'].isna().sum())"
      ]
    },
    {
      "cell_type": "markdown",
      "metadata": {},
      "source": [
        "## Feature Engineering"
      ]
    },
    {
      "cell_type": "markdown",
      "metadata": {},
      "source": [
        "## Feature Scaling"
      ]
    },
    {
      "cell_type": "markdown",
      "metadata": {},
      "source": [
        "# 5. Explore many different models and short-list the best ones\n",
        "1. *Train many quick-and-dirty models from different categories (e.g., linear, naive Bayes, SVM, Random Forest, neural net, etc.) using standard parameters.*\n",
        "2. *Measure and compare their performance.\n",
        "(For each model, use N-fold cross-validation and compute the mean and standard deviation of the performance measure on the N folds.)*\n",
        "3. *Analyze the most significant variables for each algorithm.*\n",
        "4. *Analyze the types of errors the models make.\n",
        "(What data would a human have used to avoid these errors?)*\n",
        "5. *Perform a quick round of feature selection and engineering.*\n",
        "6. *Perform one or two more quick iterations of the five previous steps.*\n",
        "7. *Shortlist the top three to five most promising models, preferring models that make different types of errors.*"
      ]
    },
    {
      "cell_type": "code",
      "execution_count": null,
      "metadata": {},
      "outputs": [],
      "source": []
    },
    {
      "cell_type": "markdown",
      "metadata": {},
      "source": [
        "# 6. Fine-tune your models and combine them into a great solution\n",
        "1. Fine-tune the hyperparameters using cross-validation:\n",
        "- Treat your data transformation choices as hyperparameters, especially when you are not sure about them (e.g., if you’re not sure whether to replace missing values with zeros or with the median value, or to just drop the rows).\n",
        "- Unless there are very few hyperparameter values to explore, prefer random search over grid search. If training is very long, you may prefer a Bayesian optimization approach (e.g., using Gaussian process priors, as described by Jasper Snoek et al.)\n",
        "2. Try Ensemble methods. Combining your best models will often produce better performance than running them individually.\n",
        "\n",
        "3. Once you are confident about your final model, measure its performance on the test set to estimate the generalization error."
      ]
    },
    {
      "cell_type": "code",
      "execution_count": null,
      "metadata": {},
      "outputs": [],
      "source": []
    },
    {
      "cell_type": "markdown",
      "metadata": {},
      "source": [
        "# 7. Present your solution\n",
        "1. *Document what you have done.*\n",
        "2. *Create a nice presentation.\n",
        "(Make sure you highlight the big picture first.)*\n",
        "3. *Explain why your solution achieves the business objective.*\n",
        "4. *Don’t forget to present interesting points you noticed along the way.\n",
        "(Describe what worked and what did not.)*\n",
        "5. *Ensure your key findings are communicated through beautiful visualizations or easy-to-remember statements (e.g., “the median income is the number-one predictor of housing prices”).*"
      ]
    },
    {
      "cell_type": "code",
      "execution_count": null,
      "metadata": {},
      "outputs": [],
      "source": []
    },
    {
      "cell_type": "markdown",
      "metadata": {},
      "source": [
        "# 8. Launch, monitor, and maintain your system\n",
        "1. *Get your solution ready for production (plug into production data inputs, write unit tests, etc.).*\n",
        "2. *Write monitoring code to check your system’s live performance at regular intervals and trigger alerts when it drops.*\n",
        "- *Beware of slow degradation: models tend to “rot” as data evolves.*\n",
        "- *Measuring performance may require a human pipeline (e.g., via a crowdsourcing service).*\n",
        "- *Also monitor your inputs’ quality (e.g., a malfunctioning sensor sending random values, or another team’s output becoming stale). This is particularly important for online learning systems.*\n",
        "3. *Retrain your models on a regular basis on fresh data (automate as much as possible).*"
      ]
    }
  ],
  "metadata": {
    "kernelspec": {
      "display_name": "Python 3.10.4 ('jupyter-env')",
      "language": "python",
      "name": "python3"
    },
    "language_info": {
      "codemirror_mode": {
        "name": "ipython",
        "version": 3
      },
      "file_extension": ".py",
      "mimetype": "text/x-python",
      "name": "python",
      "nbconvert_exporter": "python",
      "pygments_lexer": "ipython3",
      "version": "3.10.4"
    },
    "orig_nbformat": 4,
    "vscode": {
      "interpreter": {
        "hash": "f0d5b42c6e24ba5348430ab9ca24e9979453ef08a773dfcd7f54763636d8eacb"
      }
    }
  },
  "nbformat": 4,
  "nbformat_minor": 2
}
