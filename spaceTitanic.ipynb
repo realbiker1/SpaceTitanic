{
 "cells": [
  {
   "cell_type": "code",
   "execution_count": 5,
   "source": [
    "%mathplotlib inline\r\n",
    "import numpy as np, pandas as pd, matplotlib.pyplot as plt\r\n",
    "import seaborn as sns\r\n",
    "from pathlib import Path\r\n",
    "import sklearn"
   ],
   "outputs": [
    {
     "output_type": "stream",
     "name": "stderr",
     "text": [
      "UsageError: Line magic function `%mathplotlib` not found.\n"
     ]
    }
   ],
   "metadata": {}
  },
  {
   "cell_type": "code",
   "execution_count": 4,
   "source": [
    "DATA = Path(r\"C:\\Users\\logga\\Documents\\Koding\\VSC\\MachineLearning\\assignment2\\DATA\")"
   ],
   "outputs": [],
   "metadata": {}
  },
  {
   "cell_type": "code",
   "execution_count": null,
   "source": [],
   "outputs": [],
   "metadata": {}
  }
 ],
 "metadata": {
  "orig_nbformat": 4,
  "language_info": {
   "name": "python",
   "version": "3.10.4",
   "mimetype": "text/x-python",
   "codemirror_mode": {
    "name": "ipython",
    "version": 3
   },
   "pygments_lexer": "ipython3",
   "nbconvert_exporter": "python",
   "file_extension": ".py"
  },
  "kernelspec": {
   "name": "python3",
   "display_name": "Python 3.10.4 64-bit ('jupyter-env': conda)"
  },
  "interpreter": {
   "hash": "648031e787e7b9034ce6586c73e39a8e2771157ed4e57dafa0c00674baf9abaa"
  }
 },
 "nbformat": 4,
 "nbformat_minor": 2
}